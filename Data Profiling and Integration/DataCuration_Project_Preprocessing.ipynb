{
 "cells": [
  {
   "attachments": {},
   "cell_type": "markdown",
   "metadata": {},
   "source": [
    "# Libraries"
   ]
  },
  {
   "cell_type": "code",
   "execution_count": 1,
   "metadata": {},
   "outputs": [],
   "source": [
    "from difflib import SequenceMatcher\n",
    "import matplotlib.pyplot as plt\n",
    "from benfordslaw import benfordslaw\n",
    "from dateutil.parser import parse\n",
    "from ast import literal_eval\n",
    "import ast\n",
    "import numpy as np\n",
    "import pandas as pd\n",
    "import warnings\n",
    "warnings.filterwarnings('ignore')\n",
    "\n",
    "from pandas_profiling import ProfileReport\n"
   ]
  },
  {
   "attachments": {},
   "cell_type": "markdown",
   "metadata": {},
   "source": [
    "# Functions"
   ]
  },
  {
   "cell_type": "code",
   "execution_count": 2,
   "metadata": {},
   "outputs": [],
   "source": [
    "def parse_date(date):\n",
    "    '''\n",
    "    Any string that resembels date will be converted into date type\n",
    "    '''\n",
    "    if date is None:\n",
    "        return None\n",
    "    else:\n",
    "        return parse(date)\n"
   ]
  },
  {
   "cell_type": "code",
   "execution_count": 3,
   "metadata": {},
   "outputs": [],
   "source": [
    "def clean_text(dataset, columns):\n",
    "    '''\n",
    "    This function removes certain symbols from the string.\n",
    "    columns: A list of columns\n",
    "    '''\n",
    "    for c in columns:\n",
    "        dataset[c] = dataset[c].str.replace(\"'\", '')\n",
    "        dataset[c] = dataset[c].str.replace(\"[\", '')\n",
    "        dataset[c] = dataset[c].str.replace(\"]\", '') \n",
    "\n",
    "    return dataset"
   ]
  },
  {
   "cell_type": "code",
   "execution_count": 4,
   "metadata": {},
   "outputs": [],
   "source": [
    "def lowerCase(df):\n",
    "    '''\n",
    "    This function changes the names of column and the columns values that are string, into lowercase\n",
    "    '''\n",
    "    # converts the name of columns to lowercase\n",
    "    df.columns = df.columns.str.lower()\n",
    "\n",
    "    # converts the string values of columns to lowercase\n",
    "    for column in list(df.columns):\n",
    "        if df[column].dtype == 'object':\n",
    "            df[column] = df[column].map(\n",
    "                lambda x: x.lower() if isinstance(x, str) else x)\n",
    "        else:\n",
    "            continue\n",
    "    \n",
    "    return df"
   ]
  },
  {
   "cell_type": "code",
   "execution_count": 5,
   "metadata": {},
   "outputs": [],
   "source": [
    "def sort_cell(df, C, IDcolumn):\n",
    "    '''\n",
    "    This fuction sorts the values of each cell in a certain column (here we call that column, \"C\")\n",
    "    This way, when we separate a column, e.g. genre, and split it to n columns, there is an order for\n",
    "        genres in each record.\n",
    "    '''\n",
    "    df1 = df[[C, IDcolumn]]\n",
    "    df1[C] = df1[C].str.replace(\"[\", '')\n",
    "    df1[C] = df1[C].str.replace(' ', '')\n",
    "\n",
    "    # This line sorts the cells alphabetically\n",
    "    df1 = df1.assign(\n",
    "        **df1.select_dtypes(include='object').applymap(lambda x: ','.join(sorted(x.split(',')))))\n",
    "\n",
    "    df = df.drop(labels = C, axis = 1)\n",
    "\n",
    "    # That is why we need IDcolumn\n",
    "    df = df.merge(df1, on=IDcolumn)\n",
    "\n",
    "    return(df)"
   ]
  },
  {
   "cell_type": "code",
   "execution_count": 6,
   "metadata": {},
   "outputs": [],
   "source": [
    "def separation(df, column):\n",
    "    '''\n",
    "    There are columns in which, multiple values are in one cell.\n",
    "    This function converts them to multiple columns\n",
    "    '''\n",
    "\n",
    "    len_value = []\n",
    "    for v in list(df[column].unique()):\n",
    "        # If each value of column is a string. This command convert them to list\n",
    "        # if type(v) == str:\n",
    "        if v[0] == '[':\n",
    "            v = ast.literal_eval(v)\n",
    "            len_value.append(len(v))\n",
    "        else:\n",
    "            v = list(v.split(\",\"))\n",
    "            len_value.append(len(v))\n",
    "\n",
    "    values = []\n",
    "    for i in range(1, max(len_value)+1):\n",
    "        v = column + str(i)\n",
    "        values.append(v)\n",
    "\n",
    "    # This line converts column to multiple columns\n",
    "    df[values] = df[column].str.split(pat=\",\", expand=True)\n",
    "\n",
    "    # To clean the string\n",
    "    df = clean_text(df, values)\n",
    "    return df"
   ]
  },
  {
   "cell_type": "code",
   "execution_count": 7,
   "metadata": {},
   "outputs": [],
   "source": [
    "def strip(df):\n",
    "    '''\n",
    "    This function removes the white space at the beginning and end of string values\n",
    "    '''\n",
    "    for c in df.columns:\n",
    "        # it is only applied to columns of the type object\n",
    "        if df[c].dtype == 'object':\n",
    "            df[c] = df[c].str.strip()\n",
    "        else:\n",
    "            pass\n",
    "    \n",
    "    return df"
   ]
  },
  {
   "cell_type": "code",
   "execution_count": 8,
   "metadata": {},
   "outputs": [],
   "source": [
    "def Benford_law (df,column):\n",
    "    # Initialize\n",
    "    bl = benfordslaw(pos=1)\n",
    "    X = df[column].values\n",
    "    results = bl.fit(X)\n",
    "    bl.plot(title=column, fontsize=12)"
   ]
  },
  {
   "cell_type": "code",
   "execution_count": 9,
   "metadata": {},
   "outputs": [],
   "source": [
    "def extract_demographic(df, column):\n",
    "    '''\n",
    "    column: A string. The name of the column that has demographice values in it. It is usually \n",
    "        \"genre\" column.\n",
    "    '''\n",
    "    \n",
    "    demographic_list = ['dojinshi', 'ecchi', 'gekiga', 'harem', 'hentai', 'josei', 'kodomo', 'mecha',\n",
    "                        'redisu', 'seijin', 'seinen', 'Shoujoai',\n",
    "                        'shojo', 'shonen', 'Shounenai', 'yaoi', 'yuri']\n",
    "\n",
    "    df['demographic'] = ' '\n",
    "\n",
    "    for i in range(0, df.shape[0]):\n",
    "        for d in demographic_list:\n",
    "            if d in df[column][i]:\n",
    "                df['demographic'][i] = df['demographic'][i] + d\n",
    "                df['demographic'][i] += ','\n",
    "\n",
    "    for i in range(0, df.shape[0]):\n",
    "        for d in demographic_list:\n",
    "            if d in df[column][i]:\n",
    "                df[column] = df[column].str.replace(d, '')\n",
    "\n",
    "    df[column] = df[column].str.replace(\",''\", '')\n",
    "    df[column] = df[column].str.replace(\"'',\", '')\n",
    "\n",
    "    # To remove the \",\" at the end\n",
    "    df['demographic'] = df['demographic'].str.strip(',')\n",
    "\n",
    "    df = separation(df, 'demographic')\n",
    "\n",
    "    df = strip(df)\n",
    "    # Empty values should be replaced by null\n",
    "    df['demographic1'] = df['demographic1'].replace({'': None})\n",
    "\n",
    "    return df\n"
   ]
  },
  {
   "attachments": {},
   "cell_type": "markdown",
   "metadata": {},
   "source": [
    "# Phase one: Datasets\n",
    "Eight datasets about anime have been gathered from five different sources."
   ]
  },
  {
   "attachments": {},
   "cell_type": "markdown",
   "metadata": {},
   "source": [
    "## anime_1"
   ]
  },
  {
   "cell_type": "code",
   "execution_count": 10,
   "metadata": {},
   "outputs": [],
   "source": [
    "anime_1 = pd.read_csv('./data/1.animes.csv')\n",
    "ProfileReport(anime_1).to_file(output_file='anime_1')"
   ]
  },
  {
   "attachments": {},
   "cell_type": "markdown",
   "metadata": {},
   "source": [
    "## Profile"
   ]
  },
  {
   "cell_type": "code",
   "execution_count": 12,
   "metadata": {},
   "outputs": [],
   "source": [
    "profile = pd.read_csv('./data/2.profiles.csv')\n",
    "ProfileReport(profile).to_file(output_file='profile')"
   ]
  },
  {
   "attachments": {},
   "cell_type": "markdown",
   "metadata": {},
   "source": [
    "## Review"
   ]
  },
  {
   "cell_type": "code",
   "execution_count": 13,
   "metadata": {},
   "outputs": [],
   "source": [
    "review = pd.read_csv('./data/3.reviews.csv')"
   ]
  },
  {
   "attachments": {},
   "cell_type": "markdown",
   "metadata": {},
   "source": [
    "Due to excessive size, the column *text* of this dataset needs to be removed. The text can be found in the link."
   ]
  },
  {
   "cell_type": "code",
   "execution_count": 14,
   "metadata": {},
   "outputs": [],
   "source": [
    "# otherwise the data profiling tools will not work\n",
    "review = review.drop(labels='text', axis=1)"
   ]
  },
  {
   "cell_type": "code",
   "execution_count": null,
   "metadata": {},
   "outputs": [],
   "source": [
    "ProfileReport(review).to_file(output_file='review')"
   ]
  },
  {
   "attachments": {},
   "cell_type": "markdown",
   "metadata": {},
   "source": [
    "## anime_2"
   ]
  },
  {
   "cell_type": "code",
   "execution_count": 15,
   "metadata": {},
   "outputs": [],
   "source": [
    "anime_2 = pd.read_csv('./data/4.anime.csv')"
   ]
  },
  {
   "cell_type": "code",
   "execution_count": 16,
   "metadata": {},
   "outputs": [],
   "source": [
    "# The Japanese characters cause issues when reading the data and working with them.\n",
    "anime_2 = anime_2.drop(labels='Japanese name',axis=1)"
   ]
  },
  {
   "cell_type": "code",
   "execution_count": null,
   "metadata": {},
   "outputs": [],
   "source": [
    "ProfileReport(anime_2).to_file(output_file='anime_2')"
   ]
  },
  {
   "attachments": {},
   "cell_type": "markdown",
   "metadata": {},
   "source": [
    "## anime_3"
   ]
  },
  {
   "cell_type": "code",
   "execution_count": 17,
   "metadata": {},
   "outputs": [],
   "source": [
    "anime_3 = pd.read_csv('./data/5.anime_with_synopsis.csv')\n",
    "ProfileReport(anime_3).to_file(output_file='anime_3')"
   ]
  },
  {
   "attachments": {},
   "cell_type": "markdown",
   "metadata": {},
   "source": [
    "## watching_status"
   ]
  },
  {
   "cell_type": "code",
   "execution_count": 18,
   "metadata": {},
   "outputs": [
    {
     "data": {
      "text/html": [
       "<div>\n",
       "<style scoped>\n",
       "    .dataframe tbody tr th:only-of-type {\n",
       "        vertical-align: middle;\n",
       "    }\n",
       "\n",
       "    .dataframe tbody tr th {\n",
       "        vertical-align: top;\n",
       "    }\n",
       "\n",
       "    .dataframe thead th {\n",
       "        text-align: right;\n",
       "    }\n",
       "</style>\n",
       "<table border=\"1\" class=\"dataframe\">\n",
       "  <thead>\n",
       "    <tr style=\"text-align: right;\">\n",
       "      <th></th>\n",
       "      <th>status</th>\n",
       "      <th>description</th>\n",
       "    </tr>\n",
       "  </thead>\n",
       "  <tbody>\n",
       "    <tr>\n",
       "      <th>0</th>\n",
       "      <td>1</td>\n",
       "      <td>Currently Watching</td>\n",
       "    </tr>\n",
       "    <tr>\n",
       "      <th>1</th>\n",
       "      <td>2</td>\n",
       "      <td>Completed</td>\n",
       "    </tr>\n",
       "    <tr>\n",
       "      <th>2</th>\n",
       "      <td>3</td>\n",
       "      <td>On Hold</td>\n",
       "    </tr>\n",
       "    <tr>\n",
       "      <th>3</th>\n",
       "      <td>4</td>\n",
       "      <td>Dropped</td>\n",
       "    </tr>\n",
       "    <tr>\n",
       "      <th>4</th>\n",
       "      <td>6</td>\n",
       "      <td>Plan to Watch</td>\n",
       "    </tr>\n",
       "  </tbody>\n",
       "</table>\n",
       "</div>"
      ],
      "text/plain": [
       "   status         description\n",
       "0       1  Currently Watching\n",
       "1       2           Completed\n",
       "2       3             On Hold\n",
       "3       4             Dropped\n",
       "4       6       Plan to Watch"
      ]
     },
     "execution_count": 18,
     "metadata": {},
     "output_type": "execute_result"
    }
   ],
   "source": [
    "watching_status = pd.read_csv('./data/6.watching_status.csv')\n",
    "watching_status "
   ]
  },
  {
   "cell_type": "code",
   "execution_count": null,
   "metadata": {},
   "outputs": [],
   "source": [
    "ProfileReport(watching_status).to_file(output_file='watching_status')"
   ]
  },
  {
   "attachments": {},
   "cell_type": "markdown",
   "metadata": {},
   "source": [
    "## anime_4"
   ]
  },
  {
   "cell_type": "code",
   "execution_count": 19,
   "metadata": {},
   "outputs": [],
   "source": [
    "anime_4 = pd.read_csv('./data/9.mal_top2000_anime.csv')\n",
    "anime_4 = anime_4.drop(labels='Unnamed: 0',axis=1)"
   ]
  },
  {
   "cell_type": "code",
   "execution_count": null,
   "metadata": {},
   "outputs": [],
   "source": [
    "ProfileReport(anime_4).to_file(output_file='anime_4')"
   ]
  },
  {
   "attachments": {},
   "cell_type": "markdown",
   "metadata": {},
   "source": [
    "## anime_5"
   ]
  },
  {
   "cell_type": "code",
   "execution_count": 20,
   "metadata": {},
   "outputs": [],
   "source": [
    "anime_5 = pd.read_csv('./data/10.top_100_anime_movie.csv')\n",
    "ProfileReport(anime_5).to_file(output_file='anime_5')"
   ]
  },
  {
   "attachments": {},
   "cell_type": "markdown",
   "metadata": {},
   "source": [
    "# Phase two: After profiling\n",
    "In this phase, certain cleaning steps has been done according to the results of pandas profiling and Metanome."
   ]
  },
  {
   "attachments": {},
   "cell_type": "markdown",
   "metadata": {},
   "source": [
    "## anime_1\n",
    "The results of Metanome's **SCDP** algorithms suggest that there are columns containing text, as a result, some steps for cleaning the text will be performed such as removing the white space at the beginning and end of string values. Because these white spaces can stop the algorithm from recognizing the duplicated rows.\n",
    "\n",
    "These steps alos help matching techniques that may be needed later on."
   ]
  },
  {
   "cell_type": "code",
   "execution_count": 21,
   "metadata": {},
   "outputs": [],
   "source": [
    "anime_1_no_duplicate = strip(anime_1)\n",
    "anime_1_no_duplicate = lowerCase(anime_1_no_duplicate)"
   ]
  },
  {
   "attachments": {},
   "cell_type": "markdown",
   "metadata": {},
   "source": [
    "Results of *pandas data profiling* show that around 15% of the data is duplicated. This can be the reason why Metanome algorithms were not able to discover any unique column combination. These rows will be removed and UCC discovery algorithms will be applied once again."
   ]
  },
  {
   "cell_type": "code",
   "execution_count": 22,
   "metadata": {},
   "outputs": [],
   "source": [
    "anime_1_no_duplicate = anime_1_no_duplicate.drop_duplicates(keep='first')"
   ]
  },
  {
   "cell_type": "code",
   "execution_count": 23,
   "metadata": {},
   "outputs": [
    {
     "data": {
      "text/plain": [
       "True"
      ]
     },
     "execution_count": 23,
     "metadata": {},
     "output_type": "execute_result"
    }
   ],
   "source": [
    "anime_1_no_duplicate.duplicated(subset=['uid', 'title', 'synopsis',\n",
    "                                        'genre', 'aired', 'episodes',\n",
    "                                        'score', 'img_url', 'link']).any()\n"
   ]
  },
  {
   "attachments": {},
   "cell_type": "markdown",
   "metadata": {},
   "source": [
    "The duplication discovery were done on sets of columns. The results show that there are some rows that are the exact same except for *popularity* and *members* number. probably they are added during time when the popularity and members of anime have changed. we only keep the newest one. \n",
    "this changes also effect the *ranked* and it doesn't make sense to have one anime with two rank. again we keep newer one"
   ]
  },
  {
   "cell_type": "code",
   "execution_count": 24,
   "metadata": {},
   "outputs": [],
   "source": [
    "anime_1_no_duplicate = anime_1_no_duplicate.drop_duplicates(subset=['uid', 'title', 'synopsis',\n",
    "                                                                    'genre', 'aired', 'episodes',\n",
    "                                                                    'score', 'img_url', 'link'],\n",
    "                                                            keep='last').reset_index()"
   ]
  },
  {
   "cell_type": "code",
   "execution_count": 25,
   "metadata": {},
   "outputs": [],
   "source": [
    "anime_1_no_duplicate = anime_1_no_duplicate.drop(labels='index',axis=1)"
   ]
  },
  {
   "attachments": {},
   "cell_type": "markdown",
   "metadata": {},
   "source": [
    "Pandas profiling algorithm has been done for the second time."
   ]
  },
  {
   "cell_type": "code",
   "execution_count": null,
   "metadata": {},
   "outputs": [],
   "source": [
    "ProfileReport(anime_1_no_duplicate).to_file(output_file='anime_1_no_duplicate')"
   ]
  },
  {
   "attachments": {},
   "cell_type": "markdown",
   "metadata": {},
   "source": [
    "Second usage of profiling tools tell us that 100% of *uid* column are distinct. (picture of ucc algorithm)and it also appears in ucc and FD results of Metanome, meaning *uid* is a candidate for Primary key.\n",
    "Logiacally the column *title* should be unique but it is not. A closer look should be taken to know the reason behind it. "
   ]
  },
  {
   "cell_type": "code",
   "execution_count": 26,
   "metadata": {},
   "outputs": [
    {
     "name": "stdout",
     "output_type": "stream",
     "text": [
      "hinamatsuri\n",
      "youkoso! ecolo shima\n"
     ]
    }
   ],
   "source": [
    "title_dict = dict(anime_1_no_duplicate['title'].value_counts())\n",
    "for k in title_dict:\n",
    "    if title_dict[k]>1:\n",
    "        print (k)"
   ]
  },
  {
   "attachments": {},
   "cell_type": "markdown",
   "metadata": {},
   "source": [
    "For these two titles there are two rows instead of one and checking other columns can point out the root of difference. "
   ]
  },
  {
   "cell_type": "code",
   "execution_count": 27,
   "metadata": {},
   "outputs": [
    {
     "data": {
      "text/plain": [
       "{'https://myanimelist.net/anime/35102/hinamatsuri',\n",
       " 'https://myanimelist.net/anime/36296/hinamatsuri'}"
      ]
     },
     "execution_count": 27,
     "metadata": {},
     "output_type": "execute_result"
    }
   ],
   "source": [
    "set(anime_1_no_duplicate.loc[anime_1_no_duplicate['title'] == 'hinamatsuri']['link'])"
   ]
  },
  {
   "cell_type": "code",
   "execution_count": 28,
   "metadata": {},
   "outputs": [
    {
     "data": {
      "text/plain": [
       "{'https://myanimelist.net/anime/35279/youkoso_ecolo_shima',\n",
       " 'https://myanimelist.net/anime/39143/youkoso_ecolo_shima'}"
      ]
     },
     "execution_count": 28,
     "metadata": {},
     "output_type": "execute_result"
    }
   ],
   "source": [
    "set(anime_1_no_duplicate.loc[anime_1_no_duplicate['title'] == 'youkoso! ecolo shima']['link'])"
   ]
  },
  {
   "attachments": {},
   "cell_type": "markdown",
   "metadata": {},
   "source": [
    "Looking at the links coreesponding to the title *Hinamatsuri*, we see there are two different animes with the same name therefore both are kept. \n",
    "For the anime **Youkoso! Ecolo Shima*, the second link does not exist anymore thus it was removed from the data."
   ]
  },
  {
   "cell_type": "code",
   "execution_count": 29,
   "metadata": {},
   "outputs": [],
   "source": [
    "anime_1_no_duplicate = anime_1_no_duplicate.drop(anime_1_no_duplicate[anime_1_no_duplicate.link ==\n",
    "                          'https://myanimelist.net/anime/39143/youkoso_ecolo_shima'].index)"
   ]
  },
  {
   "cell_type": "code",
   "execution_count": 30,
   "metadata": {},
   "outputs": [
    {
     "data": {
      "text/html": [
       "<div>\n",
       "<style scoped>\n",
       "    .dataframe tbody tr th:only-of-type {\n",
       "        vertical-align: middle;\n",
       "    }\n",
       "\n",
       "    .dataframe tbody tr th {\n",
       "        vertical-align: top;\n",
       "    }\n",
       "\n",
       "    .dataframe thead th {\n",
       "        text-align: right;\n",
       "    }\n",
       "</style>\n",
       "<table border=\"1\" class=\"dataframe\">\n",
       "  <thead>\n",
       "    <tr style=\"text-align: right;\">\n",
       "      <th></th>\n",
       "      <th>uid</th>\n",
       "      <th>title</th>\n",
       "      <th>synopsis</th>\n",
       "      <th>genre</th>\n",
       "      <th>aired</th>\n",
       "      <th>episodes</th>\n",
       "      <th>members</th>\n",
       "      <th>popularity</th>\n",
       "      <th>ranked</th>\n",
       "      <th>score</th>\n",
       "      <th>img_url</th>\n",
       "      <th>link</th>\n",
       "    </tr>\n",
       "  </thead>\n",
       "  <tbody>\n",
       "    <tr>\n",
       "      <th>558</th>\n",
       "      <td>36296</td>\n",
       "      <td>hinamatsuri</td>\n",
       "      <td>while reveling in the successful clinching of ...</td>\n",
       "      <td>['comedy', 'sci-fi', 'seinen', 'slice of life'...</td>\n",
       "      <td>apr 6, 2018 to jun 22, 2018</td>\n",
       "      <td>12.0</td>\n",
       "      <td>254075</td>\n",
       "      <td>390</td>\n",
       "      <td>239.0</td>\n",
       "      <td>8.29</td>\n",
       "      <td>https://cdn.myanimelist.net/images/anime/1580/...</td>\n",
       "      <td>https://myanimelist.net/anime/36296/hinamatsuri</td>\n",
       "    </tr>\n",
       "    <tr>\n",
       "      <th>4900</th>\n",
       "      <td>35102</td>\n",
       "      <td>hinamatsuri</td>\n",
       "      <td>an educational anime about the history and fou...</td>\n",
       "      <td>['historical', 'kids']</td>\n",
       "      <td>not available</td>\n",
       "      <td>1.0</td>\n",
       "      <td>774</td>\n",
       "      <td>10059</td>\n",
       "      <td>3596.0</td>\n",
       "      <td>7.05</td>\n",
       "      <td>https://cdn.myanimelist.net/images/anime/2/846...</td>\n",
       "      <td>https://myanimelist.net/anime/35102/hinamatsuri</td>\n",
       "    </tr>\n",
       "  </tbody>\n",
       "</table>\n",
       "</div>"
      ],
      "text/plain": [
       "        uid        title                                           synopsis  \\\n",
       "558   36296  hinamatsuri  while reveling in the successful clinching of ...   \n",
       "4900  35102  hinamatsuri  an educational anime about the history and fou...   \n",
       "\n",
       "                                                  genre  \\\n",
       "558   ['comedy', 'sci-fi', 'seinen', 'slice of life'...   \n",
       "4900                             ['historical', 'kids']   \n",
       "\n",
       "                            aired  episodes  members  popularity  ranked  \\\n",
       "558   apr 6, 2018 to jun 22, 2018      12.0   254075         390   239.0   \n",
       "4900                not available       1.0      774       10059  3596.0   \n",
       "\n",
       "      score                                            img_url  \\\n",
       "558    8.29  https://cdn.myanimelist.net/images/anime/1580/...   \n",
       "4900   7.05  https://cdn.myanimelist.net/images/anime/2/846...   \n",
       "\n",
       "                                                 link  \n",
       "558   https://myanimelist.net/anime/36296/hinamatsuri  \n",
       "4900  https://myanimelist.net/anime/35102/hinamatsuri  "
      ]
     },
     "execution_count": 30,
     "metadata": {},
     "output_type": "execute_result"
    }
   ],
   "source": [
    "anime_1_no_duplicate.loc[anime_1_no_duplicate['title'] == 'hinamatsuri']"
   ]
  },
  {
   "cell_type": "code",
   "execution_count": 31,
   "metadata": {},
   "outputs": [],
   "source": [
    "anime_1_no_duplicate['title'] = np.where(anime_1_no_duplicate['link'] ==\n",
    "                                         'https://myanimelist.net/anime/35102/hinamatsuri',\n",
    "                                         'hinamatsuri1993',\n",
    "                                         anime_1_no_duplicate['title'])\n"
   ]
  },
  {
   "attachments": {},
   "cell_type": "markdown",
   "metadata": {},
   "source": [
    "Looking at the column *genre* it can be seen that all genres of an anime are in one column and need to be separated but before separating the genres another step should be taken. Profiling results show that there are some values in *genre* column which are not genre but demographic. Demographic values specify to which gender and age group each anime (or manga) belongs. For example, the anime that targets teenage boys belonges to **shonen**  category. A list of demographics will be provided and column demographic will be added to the dataset."
   ]
  },
  {
   "cell_type": "code",
   "execution_count": 32,
   "metadata": {},
   "outputs": [],
   "source": [
    "anime_1_no_duplicate['genre'] = anime_1_no_duplicate['genre'].str.replace('shoujo ai', 'Shoujoai')\n",
    "anime_1_no_duplicate['genre'] = anime_1_no_duplicate['genre'].str.replace('shounen ai', 'Shounenai')\n",
    "anime_1_no_duplicate['genre'] = anime_1_no_duplicate['genre'].str.replace(\"'shoujo'\", 'shojo')\n",
    "anime_1_no_duplicate['genre'] = anime_1_no_duplicate['genre'].str.replace(\"'shounen'\", 'shonen')\n",
    "anime_1_no_duplicate['genre'] = anime_1_no_duplicate['genre'].str.replace('shoujoai', 'Shoujoai')\n",
    "anime_1_no_duplicate['genre'] = anime_1_no_duplicate['genre'].str.replace('shounenai', 'Shounenai')"
   ]
  },
  {
   "cell_type": "code",
   "execution_count": 33,
   "metadata": {},
   "outputs": [],
   "source": [
    "# To sort the values of genre in alphabetical order\n",
    "# so for all datasets we have an order in genres columns\n",
    "anime_1_no_duplicate = sort_cell(anime_1_no_duplicate, 'genre','uid')\n",
    "\n",
    "anime_1_no_duplicate = anime_1_no_duplicate.reset_index()\n",
    "\n",
    "# Creates demographic columns\n",
    "anime_1_no_duplicate = extract_demographic(anime_1_no_duplicate,'genre')\n",
    "\n",
    "# Separates the genre column\n",
    "anime_1_no_duplicate = separation(anime_1_no_duplicate,'genre')"
   ]
  },
  {
   "cell_type": "code",
   "execution_count": 34,
   "metadata": {},
   "outputs": [],
   "source": [
    "demographic_list = ['dojinshi', 'ecchi', 'gekiga', 'harem', 'hentai', 'josei', 'kodomo', 'mecha',\n",
    "                    'redisu', 'seijin', 'seinen', 'shoujoai', 'shojo', 'shonen', 'shounenai',\n",
    "                    'yaoi', 'yuri']"
   ]
  },
  {
   "attachments": {},
   "cell_type": "markdown",
   "metadata": {},
   "source": [
    "But before extracting the demographic from genre columns, a matching algorithm is used to make sure any other spelling of demographics does not exist in dataset.\n",
    "\n",
    "The matching algorithm that is applied here is called **SequenceMatcher** and it is from **difflib** library. What it does is finding the matched sequences of two strings, summing the size of these sequences and calculating the ratio as: ratio = 2.0*M / T , where M = matches , T = total number of elements in both sequences."
   ]
  },
  {
   "cell_type": "code",
   "execution_count": 35,
   "metadata": {},
   "outputs": [],
   "source": [
    "Genres = ['genre1', 'genre2', 'genre3', 'genre4', 'genre5', 'genre6', 'genre7', 'genre8', 'genre9',\n",
    "          'genre10', 'genre11', 'genre12']\n",
    "\n",
    "# The SequenceMatcher will not work if we have null values\n",
    "for g in Genres:\n",
    "    anime_1_no_duplicate[g] = anime_1_no_duplicate[g].fillna('')\n",
    "\n",
    "# So white space does not cause difference between strings that otherwise match perfectly\n",
    "anime_1_no_duplicate = strip(anime_1_no_duplicate)\n",
    "\n",
    "# All unique values of genre columns will be gathered in unique_genres\n",
    "unique_genres = pd.unique(anime_1_no_duplicate[Genres].values.ravel('K'))\n",
    "\n",
    "for demographic in demographic_list:\n",
    "    for unique in unique_genres:\n",
    "        similarity = SequenceMatcher(None, demographic, unique)\n",
    "        similarity_ratio = similarity.ratio()\n",
    "\n",
    "        if (similarity_ratio > 0.85) & (similarity_ratio < 1):\n",
    "            print(demographic, ', ', unique, ', ', similarity_ratio)\n"
   ]
  },
  {
   "attachments": {},
   "cell_type": "markdown",
   "metadata": {},
   "source": [
    "Different spellings exist for some of demographics therefore these spellings are also considered when the demographic column is created."
   ]
  },
  {
   "cell_type": "code",
   "execution_count": 37,
   "metadata": {},
   "outputs": [],
   "source": [
    "anime_1_no_duplicate = strip(anime_1_no_duplicate)"
   ]
  },
  {
   "attachments": {},
   "cell_type": "markdown",
   "metadata": {},
   "source": [
    "The column *aired* indicates the first and last (if the anime is complete) date that the anime has been aired. In the next cell of code, this column will be split into two columns and the type of value will be changed into datetime."
   ]
  },
  {
   "cell_type": "code",
   "execution_count": 38,
   "metadata": {},
   "outputs": [],
   "source": [
    "# Spliting the column\n",
    "anime_1_no_duplicate[['first_aired', 'last_aired']\n",
    "                     ] = anime_1_no_duplicate['aired'].str.split(pat=\" to \", expand=True)\n",
    "\n",
    "# changing the type\n",
    "anime_1_no_duplicate['first_aired'] = pd.to_datetime(\n",
    "    anime_1_no_duplicate['first_aired'], errors='coerce')\n",
    "anime_1_no_duplicate['last_aired'] = pd.to_datetime(\n",
    "    anime_1_no_duplicate['last_aired'], errors='coerce')\n"
   ]
  },
  {
   "attachments": {},
   "cell_type": "markdown",
   "metadata": {},
   "source": [
    "There are some disagreements reagarding the day of airing the anime, thus only year and month are kept."
   ]
  },
  {
   "cell_type": "code",
   "execution_count": 39,
   "metadata": {},
   "outputs": [],
   "source": [
    "anime_1_no_duplicate['first_aired'] = anime_1_no_duplicate['first_aired'].dt.to_period('M')\n",
    "anime_1_no_duplicate['last_aired'] = anime_1_no_duplicate['last_aired'].dt.to_period('M')"
   ]
  },
  {
   "cell_type": "code",
   "execution_count": 40,
   "metadata": {},
   "outputs": [],
   "source": [
    "anime_1_no_duplicate = anime_1_no_duplicate.drop(\n",
    "    labels=['index', 'genre', 'aired', 'demographic'], axis=1)\n"
   ]
  },
  {
   "cell_type": "code",
   "execution_count": 41,
   "metadata": {},
   "outputs": [],
   "source": [
    "# Just to make sure the all the text is lowercase and with no additional space\n",
    "anime_1_no_duplicate = lowerCase(anime_1_no_duplicate)\n",
    "anime_1_no_duplicate = strip(anime_1_no_duplicate)"
   ]
  },
  {
   "attachments": {},
   "cell_type": "markdown",
   "metadata": {},
   "source": [
    "Since anime fans can be biased toward their favorite show, Benford's law (or first digit low) is used to make sure the numbers indicating the popularity of animes occurred naturally."
   ]
  },
  {
   "cell_type": "code",
   "execution_count": 42,
   "metadata": {},
   "outputs": [
    {
     "name": "stdout",
     "output_type": "stream",
     "text": [
      "[benfordslaw] >Analyzing digit position: [1]\n",
      "[benfordslaw] >[chi2] Anomaly detected! P=3.41875e-11, Tstat=65.7568\n"
     ]
    },
    {
     "data": {
      "image/png": "[encoded data removed]",
      "text/plain": [
       "<Figure size 1500x800 with 1 Axes>"
      ]
     },
     "metadata": {},
     "output_type": "display_data"
    }
   ],
   "source": [
    "Benford_law (anime_1_no_duplicate,'members')"
   ]
  },
  {
   "cell_type": "code",
   "execution_count": 43,
   "metadata": {},
   "outputs": [],
   "source": [
    "final_anime_1 = anime_1_no_duplicate.copy()\n",
    "final_anime_1.to_csv('final_anime_1.csv')"
   ]
  },
  {
   "attachments": {},
   "cell_type": "markdown",
   "metadata": {},
   "source": [
    "## Profile"
   ]
  },
  {
   "cell_type": "code",
   "execution_count": 44,
   "metadata": {},
   "outputs": [],
   "source": [
    "profile_no_duplicate = strip(profile)\n",
    "profile_no_duplicate = lowerCase(profile_no_duplicate)\n",
    "profile_no_duplicate = profile.drop_duplicates(keep='first')"
   ]
  },
  {
   "cell_type": "code",
   "execution_count": 45,
   "metadata": {},
   "outputs": [
    {
     "data": {
      "text/html": [
       "<div>\n",
       "<style scoped>\n",
       "    .dataframe tbody tr th:only-of-type {\n",
       "        vertical-align: middle;\n",
       "    }\n",
       "\n",
       "    .dataframe tbody tr th {\n",
       "        vertical-align: top;\n",
       "    }\n",
       "\n",
       "    .dataframe thead th {\n",
       "        text-align: right;\n",
       "    }\n",
       "</style>\n",
       "<table border=\"1\" class=\"dataframe\">\n",
       "  <thead>\n",
       "    <tr style=\"text-align: right;\">\n",
       "      <th></th>\n",
       "      <th>profile</th>\n",
       "      <th>gender</th>\n",
       "      <th>birthday</th>\n",
       "      <th>favorites_anime</th>\n",
       "      <th>link</th>\n",
       "    </tr>\n",
       "  </thead>\n",
       "  <tbody>\n",
       "    <tr>\n",
       "      <th>27212</th>\n",
       "      <td>salad</td>\n",
       "      <td>male</td>\n",
       "      <td>NaN</td>\n",
       "      <td>['35180', '7785', '9969', '387', '11665', '238...</td>\n",
       "      <td>https://myanimelist.net/profile/salad</td>\n",
       "    </tr>\n",
       "  </tbody>\n",
       "</table>\n",
       "</div>"
      ],
      "text/plain": [
       "      profile gender birthday  \\\n",
       "27212   salad   male      NaN   \n",
       "\n",
       "                                         favorites_anime  \\\n",
       "27212  ['35180', '7785', '9969', '387', '11665', '238...   \n",
       "\n",
       "                                        link  \n",
       "27212  https://myanimelist.net/profile/salad  "
      ]
     },
     "execution_count": 45,
     "metadata": {},
     "output_type": "execute_result"
    }
   ],
   "source": [
    "profile_no_duplicate.loc[profile_no_duplicate['link'] == 'https://myanimelist.net/profile/salad']"
   ]
  },
  {
   "attachments": {},
   "cell_type": "markdown",
   "metadata": {},
   "source": [
    "For all dataframe, the pandas profiling is applied for the second time, after the duplications are dropped."
   ]
  },
  {
   "cell_type": "code",
   "execution_count": null,
   "metadata": {},
   "outputs": [],
   "source": [
    "profile_no_duplicate.to_csv('profile_no_duplicate.csv')\n",
    "ProfileReport(profile_no_duplicate).to_file(output_file='profile_no_duplicate')"
   ]
  },
  {
   "attachments": {},
   "cell_type": "markdown",
   "metadata": {},
   "source": [
    "Pandas profiling shows that 99.9% of *profile* values are distinct. Since the websites such as **IMDb** and **MyAnimeList** do not allow duplicated profile names, it is necessary to know why this number is not 100."
   ]
  },
  {
   "cell_type": "code",
   "execution_count": 46,
   "metadata": {},
   "outputs": [
    {
     "data": {
      "text/plain": [
       "wumbo_combo         2\n",
       "mksteel             2\n",
       "nishizawamihashi    2\n",
       "treas0n             2\n",
       "midget_king         2\n",
       "                   ..\n",
       "v1nn13z             1\n",
       "megafish0527        1\n",
       "greatwhiteweeb      1\n",
       "hippe0              1\n",
       "srry4apologizng     1\n",
       "Name: profile, Length: 47885, dtype: int64"
      ]
     },
     "execution_count": 46,
     "metadata": {},
     "output_type": "execute_result"
    }
   ],
   "source": [
    "profile_no_duplicate['profile'].value_counts()"
   ]
  },
  {
   "cell_type": "code",
   "execution_count": 47,
   "metadata": {},
   "outputs": [
    {
     "data": {
      "text/plain": [
       "{\"['3090', '880', '304', '10162', '59', '5678', '690', '21877', '50', '477']\",\n",
       " \"['3090', '880', '304', '10162', '59', '5678', '690', '3297', '50', '477']\"}"
      ]
     },
     "execution_count": 47,
     "metadata": {},
     "output_type": "execute_result"
    }
   ],
   "source": [
    "set(profile_no_duplicate.loc[profile_no_duplicate['profile'] == 'mksteel']['favorites_anime'])"
   ]
  },
  {
   "attachments": {},
   "cell_type": "markdown",
   "metadata": {},
   "source": [
    "The problem is favorite anime which is probably has been updated based on the user's page but the previous row was not deleted."
   ]
  },
  {
   "cell_type": "code",
   "execution_count": 48,
   "metadata": {},
   "outputs": [],
   "source": [
    "profile_no_duplicate = profile_no_duplicate.drop_duplicates(subset=['profile', 'gender', 'birthday',\n",
    "                                                                    'link'], keep='last').reset_index()\n",
    "\n",
    "profile_no_duplicate = profile_no_duplicate.drop(labels=['index'], axis=1)"
   ]
  },
  {
   "cell_type": "code",
   "execution_count": 49,
   "metadata": {},
   "outputs": [
    {
     "data": {
      "text/plain": [
       "chikachibichi      2\n",
       "desolatepsyche     1\n",
       "selena54234        1\n",
       "nocount            1\n",
       "kid_at_hart        1\n",
       "                  ..\n",
       "hippe0             1\n",
       "leifaleifa         1\n",
       "kreo20048          1\n",
       "grymdylan          1\n",
       "srry4apologizng    1\n",
       "Name: profile, Length: 47885, dtype: int64"
      ]
     },
     "execution_count": 49,
     "metadata": {},
     "output_type": "execute_result"
    }
   ],
   "source": [
    "profile_no_duplicate['profile'].value_counts()"
   ]
  },
  {
   "cell_type": "code",
   "execution_count": 50,
   "metadata": {},
   "outputs": [
    {
     "data": {
      "text/html": [
       "<div>\n",
       "<style scoped>\n",
       "    .dataframe tbody tr th:only-of-type {\n",
       "        vertical-align: middle;\n",
       "    }\n",
       "\n",
       "    .dataframe tbody tr th {\n",
       "        vertical-align: top;\n",
       "    }\n",
       "\n",
       "    .dataframe thead th {\n",
       "        text-align: right;\n",
       "    }\n",
       "</style>\n",
       "<table border=\"1\" class=\"dataframe\">\n",
       "  <thead>\n",
       "    <tr style=\"text-align: right;\">\n",
       "      <th></th>\n",
       "      <th>profile</th>\n",
       "      <th>gender</th>\n",
       "      <th>birthday</th>\n",
       "      <th>favorites_anime</th>\n",
       "      <th>link</th>\n",
       "    </tr>\n",
       "  </thead>\n",
       "  <tbody>\n",
       "    <tr>\n",
       "      <th>973</th>\n",
       "      <td>chikachibichi</td>\n",
       "      <td>female</td>\n",
       "      <td>jun 12, 1998</td>\n",
       "      <td>['1575', '34822', '2924', '11061', '2001', '23...</td>\n",
       "      <td>https://myanimelist.net/profile/chikachibichi</td>\n",
       "    </tr>\n",
       "    <tr>\n",
       "      <th>26925</th>\n",
       "      <td>chikachibichi</td>\n",
       "      <td>female</td>\n",
       "      <td>jun 29, 1998</td>\n",
       "      <td>['1575', '34822', '2924', '11061', '2001', '23...</td>\n",
       "      <td>https://myanimelist.net/profile/chikachibichi</td>\n",
       "    </tr>\n",
       "  </tbody>\n",
       "</table>\n",
       "</div>"
      ],
      "text/plain": [
       "             profile  gender      birthday  \\\n",
       "973    chikachibichi  female  jun 12, 1998   \n",
       "26925  chikachibichi  female  jun 29, 1998   \n",
       "\n",
       "                                         favorites_anime  \\\n",
       "973    ['1575', '34822', '2924', '11061', '2001', '23...   \n",
       "26925  ['1575', '34822', '2924', '11061', '2001', '23...   \n",
       "\n",
       "                                                link  \n",
       "973    https://myanimelist.net/profile/chikachibichi  \n",
       "26925  https://myanimelist.net/profile/chikachibichi  "
      ]
     },
     "execution_count": 50,
     "metadata": {},
     "output_type": "execute_result"
    }
   ],
   "source": [
    "profile_no_duplicate.loc[profile_no_duplicate['profile'] == 'chikachibichi']"
   ]
  },
  {
   "attachments": {},
   "cell_type": "markdown",
   "metadata": {},
   "source": [
    "This profile has two different birthdays. Clearly one is wrong so it will be deleted."
   ]
  },
  {
   "cell_type": "code",
   "execution_count": 51,
   "metadata": {},
   "outputs": [],
   "source": [
    "profile_no_duplicate = profile_no_duplicate.drop(profile_no_duplicate[profile_no_duplicate.birthday ==\n",
    "                          'jun 12, 1998'].index)"
   ]
  },
  {
   "cell_type": "code",
   "execution_count": null,
   "metadata": {},
   "outputs": [],
   "source": [
    "ProfileReport(profile_no_duplicate).to_file(output_file='profile_no_duplicate')\n",
    "profile_no_duplicate.to_csv('profile_no_duplicate.csv')"
   ]
  },
  {
   "attachments": {},
   "cell_type": "markdown",
   "metadata": {},
   "source": [
    "The results of pandas profiling shows that *profile* is a key candidate. Taking into the consideration the meaning of profile and how it is handled in websites, we can accept it as a key."
   ]
  },
  {
   "cell_type": "code",
   "execution_count": 52,
   "metadata": {},
   "outputs": [],
   "source": [
    "# to convert from string to datetime\n",
    "profile_no_duplicate['birthday'] = pd.to_datetime(\n",
    "    profile_no_duplicate['birthday'], errors='coerce')\n",
    "profile_no_duplicate['birthday'] = profile_no_duplicate['birthday'].dt.to_period(\n",
    "    'M')"
   ]
  },
  {
   "cell_type": "code",
   "execution_count": 53,
   "metadata": {},
   "outputs": [],
   "source": [
    "profile_no_duplicate.rename(columns={'favorites_anime': 'favAnime'}, inplace=True)\n",
    "profile_no_duplicate = separation(profile_no_duplicate, 'favAnime')"
   ]
  },
  {
   "cell_type": "code",
   "execution_count": 54,
   "metadata": {},
   "outputs": [
    {
     "data": {
      "text/html": [
       "<div>\n",
       "<style scoped>\n",
       "    .dataframe tbody tr th:only-of-type {\n",
       "        vertical-align: middle;\n",
       "    }\n",
       "\n",
       "    .dataframe tbody tr th {\n",
       "        vertical-align: top;\n",
       "    }\n",
       "\n",
       "    .dataframe thead th {\n",
       "        text-align: right;\n",
       "    }\n",
       "</style>\n",
       "<table border=\"1\" class=\"dataframe\">\n",
       "  <thead>\n",
       "    <tr style=\"text-align: right;\">\n",
       "      <th></th>\n",
       "      <th>index</th>\n",
       "      <th>profile</th>\n",
       "      <th>gender</th>\n",
       "      <th>birthday</th>\n",
       "      <th>favAnime</th>\n",
       "      <th>link</th>\n",
       "      <th>favAnime1</th>\n",
       "      <th>favAnime2</th>\n",
       "      <th>favAnime3</th>\n",
       "      <th>favAnime4</th>\n",
       "      <th>...</th>\n",
       "      <th>favAnime11</th>\n",
       "      <th>favAnime12</th>\n",
       "      <th>favAnime13</th>\n",
       "      <th>favAnime14</th>\n",
       "      <th>favAnime15</th>\n",
       "      <th>favAnime16</th>\n",
       "      <th>favAnime17</th>\n",
       "      <th>favAnime18</th>\n",
       "      <th>favAnime19</th>\n",
       "      <th>favAnime20</th>\n",
       "    </tr>\n",
       "  </thead>\n",
       "  <tbody>\n",
       "    <tr>\n",
       "      <th>0</th>\n",
       "      <td>0</td>\n",
       "      <td>desolatepsyche</td>\n",
       "      <td>male</td>\n",
       "      <td>1994-10</td>\n",
       "      <td>['33352', '25013', '5530', '33674', '1482', '2...</td>\n",
       "      <td>https://myanimelist.net/profile/desolatepsyche</td>\n",
       "      <td>33352</td>\n",
       "      <td>25013</td>\n",
       "      <td>5530</td>\n",
       "      <td>33674</td>\n",
       "      <td>...</td>\n",
       "      <td>12291</td>\n",
       "      <td>226</td>\n",
       "      <td>28851</td>\n",
       "      <td>8525</td>\n",
       "      <td>6594</td>\n",
       "      <td>4981</td>\n",
       "      <td>1698</td>\n",
       "      <td>457</td>\n",
       "      <td>235</td>\n",
       "      <td>34618</td>\n",
       "    </tr>\n",
       "    <tr>\n",
       "      <th>1</th>\n",
       "      <td>1</td>\n",
       "      <td>baekbeans</td>\n",
       "      <td>female</td>\n",
       "      <td>2000-11</td>\n",
       "      <td>['11061', '31964', '853', '20583', '918', '925...</td>\n",
       "      <td>https://myanimelist.net/profile/baekbeans</td>\n",
       "      <td>11061</td>\n",
       "      <td>31964</td>\n",
       "      <td>853</td>\n",
       "      <td>20583</td>\n",
       "      <td>...</td>\n",
       "      <td>None</td>\n",
       "      <td>None</td>\n",
       "      <td>None</td>\n",
       "      <td>None</td>\n",
       "      <td>None</td>\n",
       "      <td>None</td>\n",
       "      <td>None</td>\n",
       "      <td>None</td>\n",
       "      <td>None</td>\n",
       "      <td>None</td>\n",
       "    </tr>\n",
       "  </tbody>\n",
       "</table>\n",
       "<p>2 rows × 26 columns</p>\n",
       "</div>"
      ],
      "text/plain": [
       "   index         profile  gender birthday  \\\n",
       "0      0  desolatepsyche    male  1994-10   \n",
       "1      1       baekbeans  female  2000-11   \n",
       "\n",
       "                                            favAnime  \\\n",
       "0  ['33352', '25013', '5530', '33674', '1482', '2...   \n",
       "1  ['11061', '31964', '853', '20583', '918', '925...   \n",
       "\n",
       "                                             link favAnime1 favAnime2  \\\n",
       "0  https://myanimelist.net/profile/desolatepsyche     33352     25013   \n",
       "1       https://myanimelist.net/profile/baekbeans     11061     31964   \n",
       "\n",
       "  favAnime3 favAnime4  ... favAnime11 favAnime12 favAnime13 favAnime14  \\\n",
       "0      5530     33674  ...      12291        226      28851       8525   \n",
       "1       853     20583  ...       None       None       None       None   \n",
       "\n",
       "  favAnime15 favAnime16 favAnime17 favAnime18 favAnime19 favAnime20  \n",
       "0       6594       4981       1698        457        235      34618  \n",
       "1       None       None       None       None       None       None  \n",
       "\n",
       "[2 rows x 26 columns]"
      ]
     },
     "execution_count": 54,
     "metadata": {},
     "output_type": "execute_result"
    }
   ],
   "source": [
    "profile_no_duplicate = profile_no_duplicate.reset_index()\n",
    "profile_no_duplicate.head(2)"
   ]
  },
  {
   "cell_type": "code",
   "execution_count": 55,
   "metadata": {},
   "outputs": [],
   "source": [
    "profile_no_duplicate = profile_no_duplicate.drop(\n",
    "    labels=['index', 'favAnime'], axis=1)"
   ]
  },
  {
   "cell_type": "code",
   "execution_count": 56,
   "metadata": {},
   "outputs": [],
   "source": [
    "# If string starts with '-', it causes problems in csv file\n",
    "for i in range(0,profile_no_duplicate.shape[0]):\n",
    "    if profile_no_duplicate['profile'][i][0] == '-':\n",
    "        profile_no_duplicate['profile'][i] = '_' + profile_no_duplicate['profile'][i][1:]\n"
   ]
  },
  {
   "cell_type": "code",
   "execution_count": 57,
   "metadata": {},
   "outputs": [
    {
     "data": {
      "text/html": [
       "<div>\n",
       "<style scoped>\n",
       "    .dataframe tbody tr th:only-of-type {\n",
       "        vertical-align: middle;\n",
       "    }\n",
       "\n",
       "    .dataframe tbody tr th {\n",
       "        vertical-align: top;\n",
       "    }\n",
       "\n",
       "    .dataframe thead th {\n",
       "        text-align: right;\n",
       "    }\n",
       "</style>\n",
       "<table border=\"1\" class=\"dataframe\">\n",
       "  <thead>\n",
       "    <tr style=\"text-align: right;\">\n",
       "      <th></th>\n",
       "      <th>profile</th>\n",
       "      <th>gender</th>\n",
       "      <th>birthday</th>\n",
       "      <th>link</th>\n",
       "      <th>favAnime1</th>\n",
       "      <th>favAnime2</th>\n",
       "      <th>favAnime3</th>\n",
       "      <th>favAnime4</th>\n",
       "      <th>favAnime5</th>\n",
       "      <th>favAnime6</th>\n",
       "      <th>...</th>\n",
       "      <th>favAnime11</th>\n",
       "      <th>favAnime12</th>\n",
       "      <th>favAnime13</th>\n",
       "      <th>favAnime14</th>\n",
       "      <th>favAnime15</th>\n",
       "      <th>favAnime16</th>\n",
       "      <th>favAnime17</th>\n",
       "      <th>favAnime18</th>\n",
       "      <th>favAnime19</th>\n",
       "      <th>favAnime20</th>\n",
       "    </tr>\n",
       "  </thead>\n",
       "  <tbody>\n",
       "    <tr>\n",
       "      <th>1885</th>\n",
       "      <td>_yukino</td>\n",
       "      <td>female</td>\n",
       "      <td>NaT</td>\n",
       "      <td>https://myanimelist.net/profile/-yukino</td>\n",
       "      <td>18897</td>\n",
       "      <td>30015</td>\n",
       "      <td>38000</td>\n",
       "      <td>35790</td>\n",
       "      <td>23847</td>\n",
       "      <td>36474</td>\n",
       "      <td>...</td>\n",
       "      <td>None</td>\n",
       "      <td>None</td>\n",
       "      <td>None</td>\n",
       "      <td>None</td>\n",
       "      <td>None</td>\n",
       "      <td>None</td>\n",
       "      <td>None</td>\n",
       "      <td>None</td>\n",
       "      <td>None</td>\n",
       "      <td>None</td>\n",
       "    </tr>\n",
       "  </tbody>\n",
       "</table>\n",
       "<p>1 rows × 24 columns</p>\n",
       "</div>"
      ],
      "text/plain": [
       "      profile  gender birthday                                     link  \\\n",
       "1885  _yukino  female      NaT  https://myanimelist.net/profile/-yukino   \n",
       "\n",
       "     favAnime1 favAnime2 favAnime3 favAnime4 favAnime5 favAnime6  ...  \\\n",
       "1885     18897     30015     38000     35790     23847     36474  ...   \n",
       "\n",
       "     favAnime11 favAnime12 favAnime13 favAnime14 favAnime15 favAnime16  \\\n",
       "1885       None       None       None       None       None       None   \n",
       "\n",
       "     favAnime17 favAnime18 favAnime19 favAnime20  \n",
       "1885       None       None       None       None  \n",
       "\n",
       "[1 rows x 24 columns]"
      ]
     },
     "execution_count": 57,
     "metadata": {},
     "output_type": "execute_result"
    }
   ],
   "source": [
    "profile_no_duplicate.loc[profile_no_duplicate['link'] == 'https://myanimelist.net/profile/-yukino']"
   ]
  },
  {
   "cell_type": "code",
   "execution_count": 58,
   "metadata": {},
   "outputs": [],
   "source": [
    "final_profile = profile_no_duplicate.copy()\n",
    "final_profile.to_csv('final_profile.csv')"
   ]
  },
  {
   "cell_type": "code",
   "execution_count": 59,
   "metadata": {},
   "outputs": [
    {
     "data": {
      "text/plain": [
       "desolatepsyche     1\n",
       "maskdupants        1\n",
       "diem4eva           1\n",
       "nocount            1\n",
       "kid_at_hart        1\n",
       "                  ..\n",
       "kreo20048          1\n",
       "grymdylan          1\n",
       "koutafromfb        1\n",
       "laethas            1\n",
       "srry4apologizng    1\n",
       "Name: profile, Length: 47877, dtype: int64"
      ]
     },
     "execution_count": 59,
     "metadata": {},
     "output_type": "execute_result"
    }
   ],
   "source": [
    "final_profile['profile'].value_counts()"
   ]
  },
  {
   "attachments": {},
   "cell_type": "markdown",
   "metadata": {},
   "source": [
    "## review\n",
    "The values of *text* column seem unsual thus we take a closer look????????????"
   ]
  },
  {
   "cell_type": "code",
   "execution_count": 60,
   "metadata": {},
   "outputs": [],
   "source": [
    "review_no_duplicate = strip(review)\n",
    "review_no_duplicate = lowerCase(review_no_duplicate)\n",
    "review_no_duplicate = review.drop_duplicates(keep='first')\n",
    "ProfileReport(review_no_duplicate).to_file(output_file='review_no_duplicate')\n",
    "review_no_duplicate.to_csv('review_no_duplicate.csv')"
   ]
  },
  {
   "cell_type": "code",
   "execution_count": 61,
   "metadata": {},
   "outputs": [
    {
     "data": {
      "text/html": [
       "<div>\n",
       "<style scoped>\n",
       "    .dataframe tbody tr th:only-of-type {\n",
       "        vertical-align: middle;\n",
       "    }\n",
       "\n",
       "    .dataframe tbody tr th {\n",
       "        vertical-align: top;\n",
       "    }\n",
       "\n",
       "    .dataframe thead th {\n",
       "        text-align: right;\n",
       "    }\n",
       "</style>\n",
       "<table border=\"1\" class=\"dataframe\">\n",
       "  <thead>\n",
       "    <tr style=\"text-align: right;\">\n",
       "      <th></th>\n",
       "      <th>uid</th>\n",
       "      <th>profile</th>\n",
       "      <th>anime_uid</th>\n",
       "      <th>score</th>\n",
       "      <th>scores</th>\n",
       "      <th>link</th>\n",
       "    </tr>\n",
       "  </thead>\n",
       "  <tbody>\n",
       "    <tr>\n",
       "      <th>0</th>\n",
       "      <td>255938</td>\n",
       "      <td>desolatepsyche</td>\n",
       "      <td>34096</td>\n",
       "      <td>8</td>\n",
       "      <td>{'overall': '8', 'story': '8', 'animation': '8...</td>\n",
       "      <td>https://myanimelist.net/reviews.php?id=255938</td>\n",
       "    </tr>\n",
       "    <tr>\n",
       "      <th>1</th>\n",
       "      <td>259117</td>\n",
       "      <td>baekbeans</td>\n",
       "      <td>34599</td>\n",
       "      <td>10</td>\n",
       "      <td>{'overall': '10', 'story': '10', 'animation': ...</td>\n",
       "      <td>https://myanimelist.net/reviews.php?id=259117</td>\n",
       "    </tr>\n",
       "  </tbody>\n",
       "</table>\n",
       "</div>"
      ],
      "text/plain": [
       "      uid         profile  anime_uid  score  \\\n",
       "0  255938  desolatepsyche      34096      8   \n",
       "1  259117       baekbeans      34599     10   \n",
       "\n",
       "                                              scores  \\\n",
       "0  {'overall': '8', 'story': '8', 'animation': '8...   \n",
       "1  {'overall': '10', 'story': '10', 'animation': ...   \n",
       "\n",
       "                                            link  \n",
       "0  https://myanimelist.net/reviews.php?id=255938  \n",
       "1  https://myanimelist.net/reviews.php?id=259117  "
      ]
     },
     "execution_count": 61,
     "metadata": {},
     "output_type": "execute_result"
    }
   ],
   "source": [
    "review_no_duplicate.head(2)"
   ]
  },
  {
   "cell_type": "code",
   "execution_count": 62,
   "metadata": {},
   "outputs": [],
   "source": [
    "review_no_duplicate = review_no_duplicate.reset_index()\n",
    "review_no_duplicate = review_no_duplicate.drop(labels='index',axis=1)"
   ]
  },
  {
   "attachments": {},
   "cell_type": "markdown",
   "metadata": {},
   "source": [
    "The values of column *scores* are dictionries so a different approach is needed to separate them. But, first the null values need to be filled with empty dictionary."
   ]
  },
  {
   "cell_type": "code",
   "execution_count": 63,
   "metadata": {},
   "outputs": [],
   "source": [
    "# otherwise the next line won't work\n",
    "review_no_duplicate['scores'] = review_no_duplicate['scores'].fillna('{}')\n",
    "\n",
    "# because the scores column is a dictionary we use this to separate it\n",
    "review_no_duplicate['scores'] = review_no_duplicate['scores'].apply(literal_eval)\n",
    "\n",
    "review_no_duplicate = review_no_duplicate.join(\n",
    "    pd.json_normalize(review_no_duplicate.pop('scores')))"
   ]
  },
  {
   "cell_type": "code",
   "execution_count": 64,
   "metadata": {},
   "outputs": [
    {
     "data": {
      "text/html": [
       "<div>\n",
       "<style scoped>\n",
       "    .dataframe tbody tr th:only-of-type {\n",
       "        vertical-align: middle;\n",
       "    }\n",
       "\n",
       "    .dataframe tbody tr th {\n",
       "        vertical-align: top;\n",
       "    }\n",
       "\n",
       "    .dataframe thead th {\n",
       "        text-align: right;\n",
       "    }\n",
       "</style>\n",
       "<table border=\"1\" class=\"dataframe\">\n",
       "  <thead>\n",
       "    <tr style=\"text-align: right;\">\n",
       "      <th></th>\n",
       "      <th>uid</th>\n",
       "      <th>profile</th>\n",
       "      <th>anime_uid</th>\n",
       "      <th>score</th>\n",
       "      <th>link</th>\n",
       "      <th>overall</th>\n",
       "      <th>story</th>\n",
       "      <th>animation</th>\n",
       "      <th>sound</th>\n",
       "      <th>character</th>\n",
       "      <th>enjoyment</th>\n",
       "    </tr>\n",
       "  </thead>\n",
       "  <tbody>\n",
       "    <tr>\n",
       "      <th>0</th>\n",
       "      <td>255938</td>\n",
       "      <td>desolatepsyche</td>\n",
       "      <td>34096</td>\n",
       "      <td>8</td>\n",
       "      <td>https://myanimelist.net/reviews.php?id=255938</td>\n",
       "      <td>8</td>\n",
       "      <td>8</td>\n",
       "      <td>8</td>\n",
       "      <td>10</td>\n",
       "      <td>9</td>\n",
       "      <td>8</td>\n",
       "    </tr>\n",
       "    <tr>\n",
       "      <th>1</th>\n",
       "      <td>259117</td>\n",
       "      <td>baekbeans</td>\n",
       "      <td>34599</td>\n",
       "      <td>10</td>\n",
       "      <td>https://myanimelist.net/reviews.php?id=259117</td>\n",
       "      <td>10</td>\n",
       "      <td>10</td>\n",
       "      <td>10</td>\n",
       "      <td>10</td>\n",
       "      <td>10</td>\n",
       "      <td>10</td>\n",
       "    </tr>\n",
       "  </tbody>\n",
       "</table>\n",
       "</div>"
      ],
      "text/plain": [
       "      uid         profile  anime_uid  score  \\\n",
       "0  255938  desolatepsyche      34096      8   \n",
       "1  259117       baekbeans      34599     10   \n",
       "\n",
       "                                            link overall story animation  \\\n",
       "0  https://myanimelist.net/reviews.php?id=255938       8     8         8   \n",
       "1  https://myanimelist.net/reviews.php?id=259117      10    10        10   \n",
       "\n",
       "  sound character enjoyment  \n",
       "0    10         9         8  \n",
       "1    10        10        10  "
      ]
     },
     "execution_count": 64,
     "metadata": {},
     "output_type": "execute_result"
    }
   ],
   "source": [
    "review_no_duplicate.head(2)"
   ]
  },
  {
   "attachments": {},
   "cell_type": "markdown",
   "metadata": {},
   "source": [
    "Since the separated values are scores, they will be converted to integer."
   ]
  },
  {
   "cell_type": "code",
   "execution_count": 65,
   "metadata": {},
   "outputs": [],
   "source": [
    "review_no_duplicate['overall'] = review_no_duplicate['overall'].astype(int)\n",
    "review_no_duplicate['story'] = review_no_duplicate['story'].astype(int)\n",
    "review_no_duplicate['animation'] = review_no_duplicate['animation'].astype(int)\n",
    "review_no_duplicate['sound'] = review_no_duplicate['sound'].astype(int)\n",
    "review_no_duplicate['character'] = review_no_duplicate['character'].astype(int)\n",
    "review_no_duplicate['enjoyment'] = review_no_duplicate['enjoyment'].astype(int)"
   ]
  },
  {
   "attachments": {},
   "cell_type": "markdown",
   "metadata": {},
   "source": [
    "The values of *score* in each row, need to be the same as corresponding *overal*."
   ]
  },
  {
   "cell_type": "code",
   "execution_count": 66,
   "metadata": {},
   "outputs": [
    {
     "data": {
      "text/html": [
       "<div>\n",
       "<style scoped>\n",
       "    .dataframe tbody tr th:only-of-type {\n",
       "        vertical-align: middle;\n",
       "    }\n",
       "\n",
       "    .dataframe tbody tr th {\n",
       "        vertical-align: top;\n",
       "    }\n",
       "\n",
       "    .dataframe thead th {\n",
       "        text-align: right;\n",
       "    }\n",
       "</style>\n",
       "<table border=\"1\" class=\"dataframe\">\n",
       "  <thead>\n",
       "    <tr style=\"text-align: right;\">\n",
       "      <th></th>\n",
       "      <th>uid</th>\n",
       "      <th>profile</th>\n",
       "      <th>anime_uid</th>\n",
       "      <th>score</th>\n",
       "      <th>link</th>\n",
       "      <th>overall</th>\n",
       "      <th>story</th>\n",
       "      <th>animation</th>\n",
       "      <th>sound</th>\n",
       "      <th>character</th>\n",
       "      <th>enjoyment</th>\n",
       "    </tr>\n",
       "  </thead>\n",
       "  <tbody>\n",
       "  </tbody>\n",
       "</table>\n",
       "</div>"
      ],
      "text/plain": [
       "Empty DataFrame\n",
       "Columns: [uid, profile, anime_uid, score, link, overall, story, animation, sound, character, enjoyment]\n",
       "Index: []"
      ]
     },
     "execution_count": 66,
     "metadata": {},
     "output_type": "execute_result"
    }
   ],
   "source": [
    "review_no_duplicate.loc[review_no_duplicate['score'] != review_no_duplicate['overall']]"
   ]
  },
  {
   "cell_type": "code",
   "execution_count": 67,
   "metadata": {},
   "outputs": [],
   "source": [
    "review_no_duplicate = review_no_duplicate.drop(labels='score',axis=1)"
   ]
  },
  {
   "cell_type": "code",
   "execution_count": 68,
   "metadata": {},
   "outputs": [],
   "source": [
    "# If string starts with '-', it causes problems in csv file\n",
    "for i in range(0, review_no_duplicate.shape[0]):\n",
    "    if review_no_duplicate['profile'][i][0] == '-':\n",
    "        review_no_duplicate['profile'][i] = '_' + \\\n",
    "            review_no_duplicate['profile'][i][1:]\n"
   ]
  },
  {
   "cell_type": "code",
   "execution_count": 69,
   "metadata": {},
   "outputs": [],
   "source": [
    "final_review = review_no_duplicate.copy()\n",
    "final_review.to_csv('final_review.csv')"
   ]
  },
  {
   "attachments": {},
   "cell_type": "markdown",
   "metadata": {},
   "source": [
    "## anime_2"
   ]
  },
  {
   "cell_type": "code",
   "execution_count": 70,
   "metadata": {},
   "outputs": [],
   "source": [
    "anime_2_no_duplicate = strip(anime_2)\n",
    "anime_2_no_duplicate = lowerCase(anime_2_no_duplicate)"
   ]
  },
  {
   "attachments": {},
   "cell_type": "markdown",
   "metadata": {},
   "source": [
    "According to the results of pandas profiling, there are no duplicated rows in *anime_2* dataset but the column *name* has 99.9% distinct values. Since this percentage is very close to 100, there is a chance that *name* could be a key thus we analyze why this number is not 100.\n"
   ]
  },
  {
   "cell_type": "code",
   "execution_count": 71,
   "metadata": {},
   "outputs": [
    {
     "data": {
      "text/plain": [
       "maou gakuin no futekigousha: shijou saikyou no maou no shiso, tensei shite shison-tachi no gakkou e    3\n",
       "hinamatsuri                                                                                            2\n",
       "youkoso! ecolo shima                                                                                   2\n",
       "uchuu neko: mardock no bouken                                                                          1\n",
       "washimo 4th season                                                                                     1\n",
       "                                                                                                      ..\n",
       "bucchigiri                                                                                             1\n",
       "super speed                                                                                            1\n",
       "tegami bachi: omakebachi                                                                               1\n",
       "kami nomi zo shiru sekai: flag 0                                                                       1\n",
       "scarlet nexus                                                                                          1\n",
       "Name: name, Length: 17558, dtype: int64"
      ]
     },
     "execution_count": 71,
     "metadata": {},
     "output_type": "execute_result"
    }
   ],
   "source": [
    "anime_2_no_duplicate['name'].value_counts()"
   ]
  },
  {
   "cell_type": "code",
   "execution_count": 72,
   "metadata": {},
   "outputs": [
    {
     "data": {
      "text/html": [
       "<div>\n",
       "<style scoped>\n",
       "    .dataframe tbody tr th:only-of-type {\n",
       "        vertical-align: middle;\n",
       "    }\n",
       "\n",
       "    .dataframe tbody tr th {\n",
       "        vertical-align: top;\n",
       "    }\n",
       "\n",
       "    .dataframe thead th {\n",
       "        text-align: right;\n",
       "    }\n",
       "</style>\n",
       "<table border=\"1\" class=\"dataframe\">\n",
       "  <thead>\n",
       "    <tr style=\"text-align: right;\">\n",
       "      <th></th>\n",
       "      <th>mal_id</th>\n",
       "      <th>name</th>\n",
       "      <th>score</th>\n",
       "      <th>genres</th>\n",
       "      <th>english name</th>\n",
       "      <th>type</th>\n",
       "      <th>episodes</th>\n",
       "      <th>aired</th>\n",
       "      <th>premiered</th>\n",
       "      <th>producers</th>\n",
       "      <th>...</th>\n",
       "      <th>score-10</th>\n",
       "      <th>score-9</th>\n",
       "      <th>score-8</th>\n",
       "      <th>score-7</th>\n",
       "      <th>score-6</th>\n",
       "      <th>score-5</th>\n",
       "      <th>score-4</th>\n",
       "      <th>score-3</th>\n",
       "      <th>score-2</th>\n",
       "      <th>score-1</th>\n",
       "    </tr>\n",
       "  </thead>\n",
       "  <tbody>\n",
       "    <tr>\n",
       "      <th>16195</th>\n",
       "      <td>40496</td>\n",
       "      <td>maou gakuin no futekigousha: shijou saikyou no...</td>\n",
       "      <td>7.34</td>\n",
       "      <td>action, demons, magic, fantasy, school</td>\n",
       "      <td>the misfit of demon king academy</td>\n",
       "      <td>tv</td>\n",
       "      <td>13</td>\n",
       "      <td>jul 4, 2020 to sep 26, 2020</td>\n",
       "      <td>summer 2020</td>\n",
       "      <td>aniplex, kadokawa</td>\n",
       "      <td>...</td>\n",
       "      <td>18424.0</td>\n",
       "      <td>23990.0</td>\n",
       "      <td>50133.0</td>\n",
       "      <td>58622.0</td>\n",
       "      <td>27479.0</td>\n",
       "      <td>12119.0</td>\n",
       "      <td>5087.0</td>\n",
       "      <td>2364.0</td>\n",
       "      <td>1209.0</td>\n",
       "      <td>835.0</td>\n",
       "    </tr>\n",
       "    <tr>\n",
       "      <th>17543</th>\n",
       "      <td>48417</td>\n",
       "      <td>maou gakuin no futekigousha: shijou saikyou no...</td>\n",
       "      <td>unknown</td>\n",
       "      <td>magic, fantasy, school</td>\n",
       "      <td>unknown</td>\n",
       "      <td>tv</td>\n",
       "      <td>unknown</td>\n",
       "      <td>unknown</td>\n",
       "      <td>unknown</td>\n",
       "      <td>aniplex</td>\n",
       "      <td>...</td>\n",
       "      <td>unknown</td>\n",
       "      <td>unknown</td>\n",
       "      <td>unknown</td>\n",
       "      <td>unknown</td>\n",
       "      <td>unknown</td>\n",
       "      <td>unknown</td>\n",
       "      <td>unknown</td>\n",
       "      <td>unknown</td>\n",
       "      <td>unknown</td>\n",
       "      <td>unknown</td>\n",
       "    </tr>\n",
       "    <tr>\n",
       "      <th>17544</th>\n",
       "      <td>48418</td>\n",
       "      <td>maou gakuin no futekigousha: shijou saikyou no...</td>\n",
       "      <td>unknown</td>\n",
       "      <td>action, demons, magic, fantasy, school</td>\n",
       "      <td>unknown</td>\n",
       "      <td>tv</td>\n",
       "      <td>unknown</td>\n",
       "      <td>unknown</td>\n",
       "      <td>unknown</td>\n",
       "      <td>aniplex</td>\n",
       "      <td>...</td>\n",
       "      <td>1.0</td>\n",
       "      <td>unknown</td>\n",
       "      <td>unknown</td>\n",
       "      <td>unknown</td>\n",
       "      <td>unknown</td>\n",
       "      <td>unknown</td>\n",
       "      <td>unknown</td>\n",
       "      <td>unknown</td>\n",
       "      <td>unknown</td>\n",
       "      <td>unknown</td>\n",
       "    </tr>\n",
       "  </tbody>\n",
       "</table>\n",
       "<p>3 rows × 34 columns</p>\n",
       "</div>"
      ],
      "text/plain": [
       "       mal_id                                               name    score  \\\n",
       "16195   40496  maou gakuin no futekigousha: shijou saikyou no...     7.34   \n",
       "17543   48417  maou gakuin no futekigousha: shijou saikyou no...  unknown   \n",
       "17544   48418  maou gakuin no futekigousha: shijou saikyou no...  unknown   \n",
       "\n",
       "                                       genres  \\\n",
       "16195  action, demons, magic, fantasy, school   \n",
       "17543                  magic, fantasy, school   \n",
       "17544  action, demons, magic, fantasy, school   \n",
       "\n",
       "                           english name type episodes  \\\n",
       "16195  the misfit of demon king academy   tv       13   \n",
       "17543                           unknown   tv  unknown   \n",
       "17544                           unknown   tv  unknown   \n",
       "\n",
       "                             aired    premiered          producers  ...  \\\n",
       "16195  jul 4, 2020 to sep 26, 2020  summer 2020  aniplex, kadokawa  ...   \n",
       "17543                      unknown      unknown            aniplex  ...   \n",
       "17544                      unknown      unknown            aniplex  ...   \n",
       "\n",
       "      score-10  score-9  score-8  score-7  score-6  score-5  score-4  score-3  \\\n",
       "16195  18424.0  23990.0  50133.0  58622.0  27479.0  12119.0   5087.0   2364.0   \n",
       "17543  unknown  unknown  unknown  unknown  unknown  unknown  unknown  unknown   \n",
       "17544      1.0  unknown  unknown  unknown  unknown  unknown  unknown  unknown   \n",
       "\n",
       "       score-2  score-1  \n",
       "16195   1209.0    835.0  \n",
       "17543  unknown  unknown  \n",
       "17544  unknown  unknown  \n",
       "\n",
       "[3 rows x 34 columns]"
      ]
     },
     "execution_count": 72,
     "metadata": {},
     "output_type": "execute_result"
    }
   ],
   "source": [
    "anime_2_no_duplicate.loc[anime_2_no_duplicate['name'] ==\n",
    "    'maou gakuin no futekigousha: shijou saikyou no maou no shiso, tensei shite shison-tachi no gakkou e']"
   ]
  },
  {
   "cell_type": "code",
   "execution_count": 73,
   "metadata": {},
   "outputs": [
    {
     "data": {
      "text/html": [
       "<div>\n",
       "<style scoped>\n",
       "    .dataframe tbody tr th:only-of-type {\n",
       "        vertical-align: middle;\n",
       "    }\n",
       "\n",
       "    .dataframe tbody tr th {\n",
       "        vertical-align: top;\n",
       "    }\n",
       "\n",
       "    .dataframe thead th {\n",
       "        text-align: right;\n",
       "    }\n",
       "</style>\n",
       "<table border=\"1\" class=\"dataframe\">\n",
       "  <thead>\n",
       "    <tr style=\"text-align: right;\">\n",
       "      <th></th>\n",
       "      <th>mal_id</th>\n",
       "      <th>name</th>\n",
       "      <th>score</th>\n",
       "      <th>genres</th>\n",
       "      <th>english name</th>\n",
       "      <th>type</th>\n",
       "      <th>episodes</th>\n",
       "      <th>aired</th>\n",
       "      <th>premiered</th>\n",
       "      <th>producers</th>\n",
       "      <th>...</th>\n",
       "      <th>score-10</th>\n",
       "      <th>score-9</th>\n",
       "      <th>score-8</th>\n",
       "      <th>score-7</th>\n",
       "      <th>score-6</th>\n",
       "      <th>score-5</th>\n",
       "      <th>score-4</th>\n",
       "      <th>score-3</th>\n",
       "      <th>score-2</th>\n",
       "      <th>score-1</th>\n",
       "    </tr>\n",
       "  </thead>\n",
       "  <tbody>\n",
       "    <tr>\n",
       "      <th>12826</th>\n",
       "      <td>35102</td>\n",
       "      <td>hinamatsuri</td>\n",
       "      <td>6.79</td>\n",
       "      <td>historical, kids</td>\n",
       "      <td>unknown</td>\n",
       "      <td>ova</td>\n",
       "      <td>1</td>\n",
       "      <td>unknown</td>\n",
       "      <td>unknown</td>\n",
       "      <td>unknown</td>\n",
       "      <td>...</td>\n",
       "      <td>22.0</td>\n",
       "      <td>18.0</td>\n",
       "      <td>38.0</td>\n",
       "      <td>58.0</td>\n",
       "      <td>21.0</td>\n",
       "      <td>12.0</td>\n",
       "      <td>6.0</td>\n",
       "      <td>4.0</td>\n",
       "      <td>1.0</td>\n",
       "      <td>5.0</td>\n",
       "    </tr>\n",
       "    <tr>\n",
       "      <th>13540</th>\n",
       "      <td>36296</td>\n",
       "      <td>hinamatsuri</td>\n",
       "      <td>8.21</td>\n",
       "      <td>comedy, sci-fi, seinen, slice of life, superna...</td>\n",
       "      <td>hinamatsuri</td>\n",
       "      <td>tv</td>\n",
       "      <td>12</td>\n",
       "      <td>apr 6, 2018 to jun 22, 2018</td>\n",
       "      <td>spring 2018</td>\n",
       "      <td>media factory, magic capsule, nippon columbia,...</td>\n",
       "      <td>...</td>\n",
       "      <td>21484.0</td>\n",
       "      <td>49894.0</td>\n",
       "      <td>63480.0</td>\n",
       "      <td>29442.0</td>\n",
       "      <td>8408.0</td>\n",
       "      <td>2895.0</td>\n",
       "      <td>813.0</td>\n",
       "      <td>267.0</td>\n",
       "      <td>124.0</td>\n",
       "      <td>168.0</td>\n",
       "    </tr>\n",
       "  </tbody>\n",
       "</table>\n",
       "<p>2 rows × 34 columns</p>\n",
       "</div>"
      ],
      "text/plain": [
       "       mal_id         name score  \\\n",
       "12826   35102  hinamatsuri  6.79   \n",
       "13540   36296  hinamatsuri  8.21   \n",
       "\n",
       "                                                  genres english name type  \\\n",
       "12826                                   historical, kids      unknown  ova   \n",
       "13540  comedy, sci-fi, seinen, slice of life, superna...  hinamatsuri   tv   \n",
       "\n",
       "      episodes                        aired    premiered  \\\n",
       "12826        1                      unknown      unknown   \n",
       "13540       12  apr 6, 2018 to jun 22, 2018  spring 2018   \n",
       "\n",
       "                                               producers  ... score-10  \\\n",
       "12826                                            unknown  ...     22.0   \n",
       "13540  media factory, magic capsule, nippon columbia,...  ...  21484.0   \n",
       "\n",
       "       score-9  score-8  score-7 score-6 score-5  score-4  score-3  score-2  \\\n",
       "12826     18.0     38.0     58.0    21.0    12.0      6.0      4.0      1.0   \n",
       "13540  49894.0  63480.0  29442.0  8408.0  2895.0    813.0    267.0    124.0   \n",
       "\n",
       "       score-1  \n",
       "12826      5.0  \n",
       "13540    168.0  \n",
       "\n",
       "[2 rows x 34 columns]"
      ]
     },
     "execution_count": 73,
     "metadata": {},
     "output_type": "execute_result"
    }
   ],
   "source": [
    "anime_2_no_duplicate.loc[anime_2_no_duplicate['name'] == 'hinamatsuri']"
   ]
  },
  {
   "cell_type": "code",
   "execution_count": 74,
   "metadata": {},
   "outputs": [],
   "source": [
    "anime_2_no_duplicate['name'] = np.where(anime_2_no_duplicate['mal_id'] == 35102, 'hinamatsuri1993',\n",
    "                                        anime_2_no_duplicate['name'])\n"
   ]
  },
  {
   "cell_type": "code",
   "execution_count": 75,
   "metadata": {},
   "outputs": [
    {
     "data": {
      "text/html": [
       "<div>\n",
       "<style scoped>\n",
       "    .dataframe tbody tr th:only-of-type {\n",
       "        vertical-align: middle;\n",
       "    }\n",
       "\n",
       "    .dataframe tbody tr th {\n",
       "        vertical-align: top;\n",
       "    }\n",
       "\n",
       "    .dataframe thead th {\n",
       "        text-align: right;\n",
       "    }\n",
       "</style>\n",
       "<table border=\"1\" class=\"dataframe\">\n",
       "  <thead>\n",
       "    <tr style=\"text-align: right;\">\n",
       "      <th></th>\n",
       "      <th>mal_id</th>\n",
       "      <th>name</th>\n",
       "      <th>score</th>\n",
       "      <th>genres</th>\n",
       "      <th>english name</th>\n",
       "      <th>type</th>\n",
       "      <th>episodes</th>\n",
       "      <th>aired</th>\n",
       "      <th>premiered</th>\n",
       "      <th>producers</th>\n",
       "      <th>...</th>\n",
       "      <th>score-10</th>\n",
       "      <th>score-9</th>\n",
       "      <th>score-8</th>\n",
       "      <th>score-7</th>\n",
       "      <th>score-6</th>\n",
       "      <th>score-5</th>\n",
       "      <th>score-4</th>\n",
       "      <th>score-3</th>\n",
       "      <th>score-2</th>\n",
       "      <th>score-1</th>\n",
       "    </tr>\n",
       "  </thead>\n",
       "  <tbody>\n",
       "    <tr>\n",
       "      <th>12955</th>\n",
       "      <td>35279</td>\n",
       "      <td>youkoso! ecolo shima</td>\n",
       "      <td>unknown</td>\n",
       "      <td>kids</td>\n",
       "      <td>unknown</td>\n",
       "      <td>ova</td>\n",
       "      <td>1</td>\n",
       "      <td>unknown</td>\n",
       "      <td>unknown</td>\n",
       "      <td>unknown</td>\n",
       "      <td>...</td>\n",
       "      <td>4.0</td>\n",
       "      <td>unknown</td>\n",
       "      <td>unknown</td>\n",
       "      <td>4.0</td>\n",
       "      <td>2.0</td>\n",
       "      <td>2.0</td>\n",
       "      <td>unknown</td>\n",
       "      <td>unknown</td>\n",
       "      <td>unknown</td>\n",
       "      <td>4.0</td>\n",
       "    </tr>\n",
       "    <tr>\n",
       "      <th>15379</th>\n",
       "      <td>39143</td>\n",
       "      <td>youkoso! ecolo shima</td>\n",
       "      <td>unknown</td>\n",
       "      <td>kids</td>\n",
       "      <td>unknown</td>\n",
       "      <td>ova</td>\n",
       "      <td>1</td>\n",
       "      <td>unknown</td>\n",
       "      <td>unknown</td>\n",
       "      <td>unknown</td>\n",
       "      <td>...</td>\n",
       "      <td>2.0</td>\n",
       "      <td>unknown</td>\n",
       "      <td>unknown</td>\n",
       "      <td>1.0</td>\n",
       "      <td>2.0</td>\n",
       "      <td>unknown</td>\n",
       "      <td>1.0</td>\n",
       "      <td>unknown</td>\n",
       "      <td>unknown</td>\n",
       "      <td>2.0</td>\n",
       "    </tr>\n",
       "  </tbody>\n",
       "</table>\n",
       "<p>2 rows × 34 columns</p>\n",
       "</div>"
      ],
      "text/plain": [
       "       mal_id                  name    score genres english name type  \\\n",
       "12955   35279  youkoso! ecolo shima  unknown   kids      unknown  ova   \n",
       "15379   39143  youkoso! ecolo shima  unknown   kids      unknown  ova   \n",
       "\n",
       "      episodes    aired premiered producers  ... score-10  score-9  score-8  \\\n",
       "12955        1  unknown   unknown   unknown  ...      4.0  unknown  unknown   \n",
       "15379        1  unknown   unknown   unknown  ...      2.0  unknown  unknown   \n",
       "\n",
       "      score-7 score-6  score-5  score-4  score-3  score-2  score-1  \n",
       "12955     4.0     2.0      2.0  unknown  unknown  unknown      4.0  \n",
       "15379     1.0     2.0  unknown      1.0  unknown  unknown      2.0  \n",
       "\n",
       "[2 rows x 34 columns]"
      ]
     },
     "execution_count": 75,
     "metadata": {},
     "output_type": "execute_result"
    }
   ],
   "source": [
    "anime_2_no_duplicate.loc[anime_2_no_duplicate['name'] == 'youkoso! ecolo shima']"
   ]
  },
  {
   "attachments": {},
   "cell_type": "markdown",
   "metadata": {},
   "source": [
    "This comparision shows that the names of animes are not the ideal candidate for key because there are different type (movie or TV or OVA) of animes with same name. Alos, sometimes one anime will be re-produced with same name in later yaers. However, the lack of null values and high percentage of uniqueness, make them the best candidate available for key. The combination of name, type and year could be another ideal candidate for key but lookung at all the sources, we can see many null values in year and type column."
   ]
  },
  {
   "cell_type": "code",
   "execution_count": 76,
   "metadata": {},
   "outputs": [],
   "source": [
    "anime_2_no_duplicate = anime_2_no_duplicate.drop_duplicates(subset=['name', 'type'], keep='last')"
   ]
  },
  {
   "cell_type": "code",
   "execution_count": 77,
   "metadata": {},
   "outputs": [],
   "source": [
    "anime_2_no_duplicate.rename(columns={'genres':'genre'},inplace=True)\n",
    "anime_2_no_duplicate = sort_cell(anime_2_no_duplicate, 'genre','mal_id')"
   ]
  },
  {
   "cell_type": "code",
   "execution_count": 78,
   "metadata": {},
   "outputs": [
    {
     "data": {
      "text/plain": [
       "15134    shounenai\n",
       "Name: genre, dtype: object"
      ]
     },
     "execution_count": 78,
     "metadata": {},
     "output_type": "execute_result"
    }
   ],
   "source": [
    "anime_2_no_duplicate.loc[anime_2_no_duplicate['name'] == 'papa datte, shitai']['genre']"
   ]
  },
  {
   "cell_type": "code",
   "execution_count": 79,
   "metadata": {},
   "outputs": [],
   "source": [
    "anime_2_no_duplicate['genre'] = anime_2_no_duplicate['genre'].str.replace('shoujo ai', 'Shoujoai')\n",
    "anime_2_no_duplicate['genre'] = anime_2_no_duplicate['genre'].str.replace('shounen ai', 'Shounenai')\n",
    "anime_2_no_duplicate['genre'] = anime_2_no_duplicate['genre'].str.replace('shoujoai', 'Shoujoai')\n",
    "anime_2_no_duplicate['genre'] = anime_2_no_duplicate['genre'].str.replace('shounenai', 'Shounenai')\n",
    "anime_2_no_duplicate['genre'] = anime_2_no_duplicate['genre'].str.replace('shoujo', 'shojo')\n",
    "anime_2_no_duplicate['genre'] = anime_2_no_duplicate['genre'].str.replace('shounen', 'shonen')"
   ]
  },
  {
   "cell_type": "code",
   "execution_count": 80,
   "metadata": {},
   "outputs": [],
   "source": [
    "anime_2_no_duplicate = extract_demographic(anime_2_no_duplicate,'genre')"
   ]
  },
  {
   "cell_type": "code",
   "execution_count": 81,
   "metadata": {},
   "outputs": [],
   "source": [
    "# These two lines are necessary for separation function to work\n",
    "anime_2_no_duplicate['genre'] = anime_2_no_duplicate['genre'].replace('',' ')\n",
    "anime_2_no_duplicate['genre'] = anime_2_no_duplicate['genre'].str.replace(',,,', ',')\n",
    "anime_2_no_duplicate['genre'] = anime_2_no_duplicate['genre'].str.replace(',,', ',')"
   ]
  },
  {
   "cell_type": "code",
   "execution_count": 82,
   "metadata": {},
   "outputs": [
    {
     "data": {
      "text/html": [
       "<div>\n",
       "<style scoped>\n",
       "    .dataframe tbody tr th:only-of-type {\n",
       "        vertical-align: middle;\n",
       "    }\n",
       "\n",
       "    .dataframe tbody tr th {\n",
       "        vertical-align: top;\n",
       "    }\n",
       "\n",
       "    .dataframe thead th {\n",
       "        text-align: right;\n",
       "    }\n",
       "</style>\n",
       "<table border=\"1\" class=\"dataframe\">\n",
       "  <thead>\n",
       "    <tr style=\"text-align: right;\">\n",
       "      <th></th>\n",
       "      <th>score-1</th>\n",
       "      <th>genre</th>\n",
       "      <th>demographic</th>\n",
       "      <th>demographic1</th>\n",
       "      <th>demographic2</th>\n",
       "      <th>demographic3</th>\n",
       "      <th>genre1</th>\n",
       "      <th>genre2</th>\n",
       "      <th>genre3</th>\n",
       "      <th>genre4</th>\n",
       "      <th>genre5</th>\n",
       "      <th>genre6</th>\n",
       "      <th>genre7</th>\n",
       "      <th>genre8</th>\n",
       "      <th>genre9</th>\n",
       "      <th>genre10</th>\n",
       "      <th>genre11</th>\n",
       "      <th>genre12</th>\n",
       "    </tr>\n",
       "  </thead>\n",
       "  <tbody>\n",
       "    <tr>\n",
       "      <th>1</th>\n",
       "      <td>379.0</td>\n",
       "      <td>action,drama,mystery,sci-fi,space</td>\n",
       "      <td></td>\n",
       "      <td>None</td>\n",
       "      <td>None</td>\n",
       "      <td>None</td>\n",
       "      <td>action</td>\n",
       "      <td>drama</td>\n",
       "      <td>mystery</td>\n",
       "      <td>sci-fi</td>\n",
       "      <td>space</td>\n",
       "      <td>None</td>\n",
       "      <td>None</td>\n",
       "      <td>None</td>\n",
       "      <td>None</td>\n",
       "      <td>None</td>\n",
       "      <td>None</td>\n",
       "      <td>None</td>\n",
       "    </tr>\n",
       "    <tr>\n",
       "      <th>2</th>\n",
       "      <td>533.0</td>\n",
       "      <td>action,adventure,comedy,drama,sci-fi,</td>\n",
       "      <td>shonen</td>\n",
       "      <td>shonen</td>\n",
       "      <td>None</td>\n",
       "      <td>None</td>\n",
       "      <td>action</td>\n",
       "      <td>adventure</td>\n",
       "      <td>comedy</td>\n",
       "      <td>drama</td>\n",
       "      <td>sci-fi</td>\n",
       "      <td></td>\n",
       "      <td>None</td>\n",
       "      <td>None</td>\n",
       "      <td>None</td>\n",
       "      <td>None</td>\n",
       "      <td>None</td>\n",
       "      <td>None</td>\n",
       "    </tr>\n",
       "    <tr>\n",
       "      <th>3</th>\n",
       "      <td>131.0</td>\n",
       "      <td>action,drama,magic,mystery,police,supernatural</td>\n",
       "      <td></td>\n",
       "      <td>None</td>\n",
       "      <td>None</td>\n",
       "      <td>None</td>\n",
       "      <td>action</td>\n",
       "      <td>drama</td>\n",
       "      <td>magic</td>\n",
       "      <td>mystery</td>\n",
       "      <td>police</td>\n",
       "      <td>supernatural</td>\n",
       "      <td>None</td>\n",
       "      <td>None</td>\n",
       "      <td>None</td>\n",
       "      <td>None</td>\n",
       "      <td>None</td>\n",
       "      <td>None</td>\n",
       "    </tr>\n",
       "    <tr>\n",
       "      <th>4</th>\n",
       "      <td>27.0</td>\n",
       "      <td>adventure,fantasy,supernatural</td>\n",
       "      <td>shonen</td>\n",
       "      <td>shonen</td>\n",
       "      <td>None</td>\n",
       "      <td>None</td>\n",
       "      <td>adventure</td>\n",
       "      <td>fantasy</td>\n",
       "      <td>supernatural</td>\n",
       "      <td>None</td>\n",
       "      <td>None</td>\n",
       "      <td>None</td>\n",
       "      <td>None</td>\n",
       "      <td>None</td>\n",
       "      <td>None</td>\n",
       "      <td>None</td>\n",
       "      <td>None</td>\n",
       "      <td>None</td>\n",
       "    </tr>\n",
       "  </tbody>\n",
       "</table>\n",
       "</div>"
      ],
      "text/plain": [
       "  score-1                                           genre demographic  \\\n",
       "1   379.0               action,drama,mystery,sci-fi,space               \n",
       "2   533.0           action,adventure,comedy,drama,sci-fi,      shonen   \n",
       "3   131.0  action,drama,magic,mystery,police,supernatural               \n",
       "4    27.0                  adventure,fantasy,supernatural      shonen   \n",
       "\n",
       "  demographic1 demographic2 demographic3     genre1     genre2        genre3  \\\n",
       "1         None         None         None     action      drama       mystery   \n",
       "2       shonen         None         None     action  adventure        comedy   \n",
       "3         None         None         None     action      drama         magic   \n",
       "4       shonen         None         None  adventure    fantasy  supernatural   \n",
       "\n",
       "    genre4  genre5        genre6 genre7 genre8 genre9 genre10 genre11 genre12  \n",
       "1   sci-fi   space          None   None   None   None    None    None    None  \n",
       "2    drama  sci-fi                 None   None   None    None    None    None  \n",
       "3  mystery  police  supernatural   None   None   None    None    None    None  \n",
       "4     None    None          None   None   None   None    None    None    None  "
      ]
     },
     "execution_count": 82,
     "metadata": {},
     "output_type": "execute_result"
    }
   ],
   "source": [
    "anime_2_no_duplicate = separation(anime_2_no_duplicate,'genre')\n",
    "anime_2_no_duplicate.iloc[1:5,32:]"
   ]
  },
  {
   "cell_type": "code",
   "execution_count": 83,
   "metadata": {},
   "outputs": [
    {
     "data": {
      "text/plain": [
       "array([None, 'shonen', 'seinen', 'yaoi', 'mecha', 'yuri', 'Shoujoai'],\n",
       "      dtype=object)"
      ]
     },
     "execution_count": 83,
     "metadata": {},
     "output_type": "execute_result"
    }
   ],
   "source": [
    "anime_2_no_duplicate['demographic3'].unique()"
   ]
  },
  {
   "cell_type": "code",
   "execution_count": 84,
   "metadata": {},
   "outputs": [],
   "source": [
    "anime_2_no_duplicate[['first_aired', 'last_aired']\n",
    "                     ] = anime_2_no_duplicate['aired'].str.split(pat=\" to \", expand=True)"
   ]
  },
  {
   "attachments": {},
   "cell_type": "markdown",
   "metadata": {},
   "source": [
    "Certain values that imply null value such as *?* and *unknown* are replaced with null."
   ]
  },
  {
   "cell_type": "code",
   "execution_count": 85,
   "metadata": {},
   "outputs": [],
   "source": [
    "anime_2_no_duplicate['first_aired'] = anime_2_no_duplicate['first_aired'].replace({'unknown': None})\n",
    "anime_2_no_duplicate['last_aired'] = anime_2_no_duplicate['last_aired'].replace({'unknown': None})\n",
    "anime_2_no_duplicate['first_aired'] = anime_2_no_duplicate['first_aired'].replace({'?': None})\n",
    "anime_2_no_duplicate['last_aired'] = anime_2_no_duplicate['last_aired'].replace({'?': None})"
   ]
  },
  {
   "cell_type": "code",
   "execution_count": 86,
   "metadata": {},
   "outputs": [
    {
     "data": {
      "text/html": [
       "<div>\n",
       "<style scoped>\n",
       "    .dataframe tbody tr th:only-of-type {\n",
       "        vertical-align: middle;\n",
       "    }\n",
       "\n",
       "    .dataframe tbody tr th {\n",
       "        vertical-align: top;\n",
       "    }\n",
       "\n",
       "    .dataframe thead th {\n",
       "        text-align: right;\n",
       "    }\n",
       "</style>\n",
       "<table border=\"1\" class=\"dataframe\">\n",
       "  <thead>\n",
       "    <tr style=\"text-align: right;\">\n",
       "      <th></th>\n",
       "      <th>genre11</th>\n",
       "      <th>genre12</th>\n",
       "      <th>first_aired</th>\n",
       "      <th>last_aired</th>\n",
       "    </tr>\n",
       "  </thead>\n",
       "  <tbody>\n",
       "    <tr>\n",
       "      <th>1</th>\n",
       "      <td>None</td>\n",
       "      <td>None</td>\n",
       "      <td>sep 1, 2001</td>\n",
       "      <td>None</td>\n",
       "    </tr>\n",
       "    <tr>\n",
       "      <th>2</th>\n",
       "      <td>None</td>\n",
       "      <td>None</td>\n",
       "      <td>apr 1, 1998</td>\n",
       "      <td>sep 30, 1998</td>\n",
       "    </tr>\n",
       "    <tr>\n",
       "      <th>3</th>\n",
       "      <td>None</td>\n",
       "      <td>None</td>\n",
       "      <td>jul 2, 2002</td>\n",
       "      <td>dec 24, 2002</td>\n",
       "    </tr>\n",
       "    <tr>\n",
       "      <th>4</th>\n",
       "      <td>None</td>\n",
       "      <td>None</td>\n",
       "      <td>sep 30, 2004</td>\n",
       "      <td>sep 29, 2005</td>\n",
       "    </tr>\n",
       "  </tbody>\n",
       "</table>\n",
       "</div>"
      ],
      "text/plain": [
       "  genre11 genre12   first_aired    last_aired\n",
       "1    None    None   sep 1, 2001          None\n",
       "2    None    None   apr 1, 1998  sep 30, 1998\n",
       "3    None    None   jul 2, 2002  dec 24, 2002\n",
       "4    None    None  sep 30, 2004  sep 29, 2005"
      ]
     },
     "execution_count": 86,
     "metadata": {},
     "output_type": "execute_result"
    }
   ],
   "source": [
    "anime_2_no_duplicate.iloc[1:5,48:]"
   ]
  },
  {
   "cell_type": "code",
   "execution_count": 87,
   "metadata": {},
   "outputs": [
    {
     "data": {
      "text/plain": [
       "False"
      ]
     },
     "execution_count": 87,
     "metadata": {},
     "output_type": "execute_result"
    }
   ],
   "source": [
    "'?' in set(anime_2_no_duplicate['last_aired'].unique())"
   ]
  },
  {
   "attachments": {},
   "cell_type": "markdown",
   "metadata": {},
   "source": [
    "The *Premiered* column has values such as *spring* and *summer* which prevent changing the type of column into datetime therefore they are removed"
   ]
  },
  {
   "cell_type": "code",
   "execution_count": 88,
   "metadata": {},
   "outputs": [],
   "source": [
    "anime_2_no_duplicate['first_aired'] = anime_2_no_duplicate.first_aired.apply(parse_date)\n",
    "anime_2_no_duplicate['last_aired'] = anime_2_no_duplicate['last_aired'].apply(parse_date)\n",
    "\n",
    "anime_2_no_duplicate['premiered'] = anime_2_no_duplicate['premiered'].str.replace(\"spring\", '')\n",
    "anime_2_no_duplicate['premiered'] = anime_2_no_duplicate['premiered'].str.replace(\"summer\", '')\n",
    "anime_2_no_duplicate['premiered'] = anime_2_no_duplicate['premiered'].str.replace(\"fall\", '')\n",
    "anime_2_no_duplicate['premiered'] = anime_2_no_duplicate['premiered'].str.replace(\"winter\", '')\n",
    "\n",
    "anime_2_no_duplicate['premiered'] = anime_2_no_duplicate['premiered'].replace({'unknown': None})\n",
    "anime_2_no_duplicate['premiered'] = anime_2_no_duplicate['premiered'].apply(parse_date)"
   ]
  },
  {
   "cell_type": "code",
   "execution_count": 89,
   "metadata": {},
   "outputs": [],
   "source": [
    "anime_2_no_duplicate['first_aired'] = anime_2_no_duplicate['first_aired'].dt.to_period('M')\n",
    "anime_2_no_duplicate['last_aired'] = anime_2_no_duplicate['last_aired'].dt.to_period('M')\n",
    "anime_2_no_duplicate['premiered'] = anime_2_no_duplicate['premiered'].dt.to_period('M')"
   ]
  },
  {
   "cell_type": "code",
   "execution_count": 90,
   "metadata": {},
   "outputs": [
    {
     "data": {
      "text/html": [
       "<div>\n",
       "<style scoped>\n",
       "    .dataframe tbody tr th:only-of-type {\n",
       "        vertical-align: middle;\n",
       "    }\n",
       "\n",
       "    .dataframe tbody tr th {\n",
       "        vertical-align: top;\n",
       "    }\n",
       "\n",
       "    .dataframe thead th {\n",
       "        text-align: right;\n",
       "    }\n",
       "</style>\n",
       "<table border=\"1\" class=\"dataframe\">\n",
       "  <thead>\n",
       "    <tr style=\"text-align: right;\">\n",
       "      <th></th>\n",
       "      <th>mal_id</th>\n",
       "      <th>name</th>\n",
       "      <th>score</th>\n",
       "      <th>english name</th>\n",
       "      <th>type</th>\n",
       "      <th>episodes</th>\n",
       "      <th>aired</th>\n",
       "      <th>premiered</th>\n",
       "      <th>producers</th>\n",
       "      <th>licensors</th>\n",
       "      <th>...</th>\n",
       "      <th>genre5</th>\n",
       "      <th>genre6</th>\n",
       "      <th>genre7</th>\n",
       "      <th>genre8</th>\n",
       "      <th>genre9</th>\n",
       "      <th>genre10</th>\n",
       "      <th>genre11</th>\n",
       "      <th>genre12</th>\n",
       "      <th>first_aired</th>\n",
       "      <th>last_aired</th>\n",
       "    </tr>\n",
       "  </thead>\n",
       "  <tbody>\n",
       "    <tr>\n",
       "      <th>0</th>\n",
       "      <td>1</td>\n",
       "      <td>cowboy bebop</td>\n",
       "      <td>8.78</td>\n",
       "      <td>cowboy bebop</td>\n",
       "      <td>tv</td>\n",
       "      <td>26</td>\n",
       "      <td>apr 3, 1998 to apr 24, 1999</td>\n",
       "      <td>1998-02</td>\n",
       "      <td>bandai visual</td>\n",
       "      <td>funimation, bandai entertainment</td>\n",
       "      <td>...</td>\n",
       "      <td>sci-fi</td>\n",
       "      <td>space</td>\n",
       "      <td>None</td>\n",
       "      <td>None</td>\n",
       "      <td>None</td>\n",
       "      <td>None</td>\n",
       "      <td>None</td>\n",
       "      <td>None</td>\n",
       "      <td>1998-04</td>\n",
       "      <td>1999-04</td>\n",
       "    </tr>\n",
       "    <tr>\n",
       "      <th>1</th>\n",
       "      <td>5</td>\n",
       "      <td>cowboy bebop: tengoku no tobira</td>\n",
       "      <td>8.39</td>\n",
       "      <td>cowboy bebop:the movie</td>\n",
       "      <td>movie</td>\n",
       "      <td>1</td>\n",
       "      <td>sep 1, 2001</td>\n",
       "      <td>NaT</td>\n",
       "      <td>sunrise, bandai visual</td>\n",
       "      <td>sony pictures entertainment</td>\n",
       "      <td>...</td>\n",
       "      <td>space</td>\n",
       "      <td>None</td>\n",
       "      <td>None</td>\n",
       "      <td>None</td>\n",
       "      <td>None</td>\n",
       "      <td>None</td>\n",
       "      <td>None</td>\n",
       "      <td>None</td>\n",
       "      <td>2001-09</td>\n",
       "      <td>NaT</td>\n",
       "    </tr>\n",
       "  </tbody>\n",
       "</table>\n",
       "<p>2 rows × 52 columns</p>\n",
       "</div>"
      ],
      "text/plain": [
       "   mal_id                             name score            english name  \\\n",
       "0       1                     cowboy bebop  8.78            cowboy bebop   \n",
       "1       5  cowboy bebop: tengoku no tobira  8.39  cowboy bebop:the movie   \n",
       "\n",
       "    type episodes                        aired premiered  \\\n",
       "0     tv       26  apr 3, 1998 to apr 24, 1999   1998-02   \n",
       "1  movie        1                  sep 1, 2001       NaT   \n",
       "\n",
       "                producers                         licensors  ...  genre5  \\\n",
       "0           bandai visual  funimation, bandai entertainment  ...  sci-fi   \n",
       "1  sunrise, bandai visual       sony pictures entertainment  ...   space   \n",
       "\n",
       "  genre6 genre7 genre8 genre9  genre10  genre11  genre12  first_aired  \\\n",
       "0  space   None   None   None     None     None     None      1998-04   \n",
       "1   None   None   None   None     None     None     None      2001-09   \n",
       "\n",
       "   last_aired  \n",
       "0     1999-04  \n",
       "1         NaT  \n",
       "\n",
       "[2 rows x 52 columns]"
      ]
     },
     "execution_count": 90,
     "metadata": {},
     "output_type": "execute_result"
    }
   ],
   "source": [
    "anime_2_no_duplicate.head(2)"
   ]
  },
  {
   "cell_type": "code",
   "execution_count": 91,
   "metadata": {},
   "outputs": [],
   "source": [
    "# These columns are need to be separated too\n",
    "anime_2_no_duplicate.rename(columns={'producers': 'producer'}, inplace=True)\n",
    "anime_2_no_duplicate = sort_cell(anime_2_no_duplicate, 'producer', 'mal_id')\n",
    "anime_2_no_duplicate = separation(anime_2_no_duplicate, 'producer')\n",
    "\n",
    "anime_2_no_duplicate.rename(columns={'licensors': 'licensor'}, inplace=True)\n",
    "anime_2_no_duplicate = sort_cell(anime_2_no_duplicate, 'licensor', 'mal_id')\n",
    "anime_2_no_duplicate = separation(anime_2_no_duplicate, 'licensor')\n",
    "\n",
    "anime_2_no_duplicate.rename(columns={'studios': 'studio'}, inplace=True)\n",
    "anime_2_no_duplicate = sort_cell(anime_2_no_duplicate, 'studio', 'mal_id')\n",
    "anime_2_no_duplicate = separation(anime_2_no_duplicate, 'studio')\n"
   ]
  },
  {
   "cell_type": "code",
   "execution_count": 92,
   "metadata": {},
   "outputs": [],
   "source": [
    "studio_list = ['studio1','studio2','studio3','studio4','studio5','studio6','studio7']\n",
    "for s in studio_list:\n",
    "    anime_2_no_duplicate[s] = anime_2_no_duplicate[s].str.replace('studio', '')\n",
    "    anime_2_no_duplicate[s] = anime_2_no_duplicate[s].replace({'unknown': None})"
   ]
  },
  {
   "cell_type": "code",
   "execution_count": 93,
   "metadata": {},
   "outputs": [],
   "source": [
    "anime_2_no_duplicate['rating'] = anime_2_no_duplicate['rating'].replace({'unknown': None})"
   ]
  },
  {
   "attachments": {},
   "cell_type": "markdown",
   "metadata": {},
   "source": [
    "The column *Rating* shows the age restriction and the reason/meaning behind it. It is splited into two columns: *age_restriction* and *meaning*"
   ]
  },
  {
   "cell_type": "code",
   "execution_count": 94,
   "metadata": {},
   "outputs": [],
   "source": [
    "anime_2_no_duplicate[['age_restriction', 'meaning']\n",
    "                     ] = anime_2_no_duplicate['rating'].str.split(pat=\" - \", expand=True)\n"
   ]
  },
  {
   "cell_type": "code",
   "execution_count": 95,
   "metadata": {},
   "outputs": [
    {
     "data": {
      "text/plain": [
       "False"
      ]
     },
     "execution_count": 95,
     "metadata": {},
     "output_type": "execute_result"
    }
   ],
   "source": [
    "'unknown' in set(anime_2_no_duplicate['watching'].unique())"
   ]
  },
  {
   "attachments": {},
   "cell_type": "markdown",
   "metadata": {},
   "source": [
    "The column *score-i* means how many people gave the rating i (a number between 1 and 10) to the anime. To clean this column, the unknown values are replaced by null and the type is converted to Int32 so it takes less space compared to Int64."
   ]
  },
  {
   "cell_type": "code",
   "execution_count": 96,
   "metadata": {},
   "outputs": [],
   "source": [
    "scores = ['score-10', 'score-9', 'score-8', 'score-7', 'score-6', 'score-5',\n",
    "          'score-4', 'score-3', 'score-2', 'score-1']\n",
    "for score_column in scores:\n",
    "    anime_2_no_duplicate[score_column] = anime_2_no_duplicate[score_column].replace({\n",
    "                                                                                    'unknown': np.nan})\n",
    "    anime_2_no_duplicate[score_column] = anime_2_no_duplicate[score_column].astype(\n",
    "        'float')\n",
    "    anime_2_no_duplicate[score_column] = anime_2_no_duplicate[score_column].astype(\n",
    "        'Int32')"
   ]
  },
  {
   "cell_type": "code",
   "execution_count": 97,
   "metadata": {},
   "outputs": [
    {
     "name": "stdout",
     "output_type": "stream",
     "text": [
      "[benfordslaw] >Analyzing digit position: [1]\n",
      "[benfordslaw] >[chi2] Anomaly detected! P=0.00467734, Tstat=22.1319\n"
     ]
    },
    {
     "data": {
      "image/png": "[encoded data removed]",
      "text/plain": [
       "<Figure size 1500x800 with 1 Axes>"
      ]
     },
     "metadata": {},
     "output_type": "display_data"
    }
   ],
   "source": [
    "Benford_law(anime_2_no_duplicate,'score-3')"
   ]
  },
  {
   "cell_type": "code",
   "execution_count": 98,
   "metadata": {},
   "outputs": [],
   "source": [
    "anime_2_no_duplicate = anime_2_no_duplicate.drop(labels=['genre', 'aired', 'producer',\n",
    "                                                         'licensor', 'studio', 'rating',\n",
    "                                                         'demographic'], axis=1)\n"
   ]
  },
  {
   "cell_type": "code",
   "execution_count": 99,
   "metadata": {},
   "outputs": [],
   "source": [
    "# \"unknown\" values are replced by null\n",
    "anime_2_no_duplicate['episodes'] = anime_2_no_duplicate['episodes'].replace({'unknown': np.nan})\n",
    "anime_2_no_duplicate['type'] = anime_2_no_duplicate['type'].replace({'unknown': None})"
   ]
  },
  {
   "cell_type": "code",
   "execution_count": 100,
   "metadata": {},
   "outputs": [],
   "source": [
    "anime_2_no_duplicate['episodes'] = anime_2_no_duplicate['episodes'].astype(float)"
   ]
  },
  {
   "cell_type": "code",
   "execution_count": 101,
   "metadata": {},
   "outputs": [],
   "source": [
    "final_anime_2 = anime_2_no_duplicate.copy()\n",
    "final_anime_2.to_csv('final_anime_2.csv')"
   ]
  },
  {
   "cell_type": "code",
   "execution_count": null,
   "metadata": {},
   "outputs": [],
   "source": [
    "final_anime_2 = pd.read_csv('final_anime_2.csv')\n",
    "ProfileReport(final_anime_2).to_file(output_file='final_anime_2')"
   ]
  },
  {
   "attachments": {},
   "cell_type": "markdown",
   "metadata": {},
   "source": [
    "## anime_3"
   ]
  },
  {
   "attachments": {},
   "cell_type": "markdown",
   "metadata": {},
   "source": [
    "Similar to *anime_2* dataset, there is no duplicate in this dataset and the column *Name* is not 100% distinct."
   ]
  },
  {
   "cell_type": "code",
   "execution_count": 102,
   "metadata": {},
   "outputs": [],
   "source": [
    "anime_3_no_duplicate = anime_3.copy()\n",
    "anime_3_no_duplicate = strip(anime_3_no_duplicate)\n",
    "anime_3_no_duplicate = lowerCase(anime_3_no_duplicate)"
   ]
  },
  {
   "cell_type": "code",
   "execution_count": 103,
   "metadata": {},
   "outputs": [],
   "source": [
    "# check to see whther it is the avg of scores in anime_2: anime_3_no_duplicate['Score']\n",
    "\n",
    "anime_3_no_duplicate['score'] = anime_3_no_duplicate['score'].replace({'unknown': np.nan})\n",
    "anime_3_no_duplicate['score'] = anime_3_no_duplicate['score'].astype('float')"
   ]
  },
  {
   "cell_type": "code",
   "execution_count": 104,
   "metadata": {},
   "outputs": [],
   "source": [
    "anime_3_no_duplicate.rename(columns={'genres':'genre'},inplace=True)\n",
    "anime_3_no_duplicate = sort_cell(anime_3_no_duplicate, 'genre','mal_id')"
   ]
  },
  {
   "cell_type": "code",
   "execution_count": 105,
   "metadata": {},
   "outputs": [],
   "source": [
    "anime_3_no_duplicate['genre'] = anime_3_no_duplicate['genre'].str.replace('shoujo ai', 'Shoujoai')\n",
    "anime_3_no_duplicate['genre'] = anime_3_no_duplicate['genre'].str.replace('shounen ai', 'Shounenai')\n",
    "anime_3_no_duplicate['genre'] = anime_3_no_duplicate['genre'].str.replace('shoujoai', 'Shoujoai')\n",
    "anime_3_no_duplicate['genre'] = anime_3_no_duplicate['genre'].str.replace('shounenai', 'Shounenai')\n",
    "anime_3_no_duplicate['genre'] = anime_3_no_duplicate['genre'].str.replace('shoujo', 'shojo')\n",
    "anime_3_no_duplicate['genre'] = anime_3_no_duplicate['genre'].str.replace('shounen', 'shonen')"
   ]
  },
  {
   "cell_type": "code",
   "execution_count": 106,
   "metadata": {},
   "outputs": [],
   "source": [
    "anime_3_no_duplicate = extract_demographic(anime_3_no_duplicate,'genre')"
   ]
  },
  {
   "cell_type": "code",
   "execution_count": 107,
   "metadata": {},
   "outputs": [],
   "source": [
    "anime_3_no_duplicate['genre'] = anime_3_no_duplicate['genre'].replace('',' ')\n",
    "anime_3_no_duplicate['genre'] = anime_3_no_duplicate['genre'].str.replace(',,,', ',')\n",
    "anime_3_no_duplicate['genre'] = anime_3_no_duplicate['genre'].str.replace(',,', ',')\n",
    "\n",
    "anime_3_no_duplicate = separation(anime_3_no_duplicate,'genre')"
   ]
  },
  {
   "attachments": {},
   "cell_type": "markdown",
   "metadata": {},
   "source": [
    "Synopsis is a summary of the anime. The data profiling tools show that a high percentage of this column's values are distinct. Considering the nature of *sypnopsis* column (which is misspelled), it is not illogical to believe that it could be a key therefore, we take a closer look at its values."
   ]
  },
  {
   "cell_type": "code",
   "execution_count": 110,
   "metadata": {},
   "outputs": [],
   "source": [
    "anime_3_no_duplicate.rename(columns={'sypnopsis':'synopsis'},inplace=True)"
   ]
  },
  {
   "cell_type": "code",
   "execution_count": 111,
   "metadata": {},
   "outputs": [
    {
     "data": {
      "text/plain": [
       "no synopsis information has been added to this title. help improve our database by adding a synopsis here .                                                                                                                                                                                                                                                                                                                                                                                                                                                   709\n",
       "no synopsis has been added for this series yet. click here to update this information.                                                                                                                                                                                                                                                                                                                                                                                                                                                                         35\n",
       "furukawa taku film.                                                                                                                                                                                                                                                                                                                                                                                                                                                                                                                                            13\n",
       "film by takashi ito.                                                                                                                                                                                                                                                                                                                                                                                                                                                                                                                                           13\n",
       "short animation by taku furukawa.                                                                                                                                                                                                                                                                                                                                                                                                                                                                                                                              10\n",
       "                                                                                                                                                                                                                                                                                                                                                                                                                                                                                                                                                             ... \n",
       "hamster daily life.                                                                                                                                                                                                                                                                                                                                                                                                                                                                                                                                             1\n",
       "hyper is a white dolphin who came from the future. in future, the earth has been highly polluted therefore hyper is trying to change the history by going back to the 21 century and fight against his enemy, an octopus called \"octopus\".                                                                                                                                                                                                                                                                                                                      1\n",
       "chi dor dor is a squirrel boy, and another chi dor dor, is a rabbit detective who always follows chi dor dor to ensure him doing everything right. this series is used to spread the idea of anti-corruption to the kids.                                                                                                                                                                                                                                                                                                                                       1\n",
       "the original is an impressive sports manga featuring not heroes, but common boys, and the story depicts the growth of sumiya 2 junior high school baseball team (the successive captains and players) in downtown tokyo. takao taniguchi, who was a substitute player of the second team of aoba gakuin, a prestigious junior high school in the baseball world, but he transferred to sumiya 2 and he became the captain of the baseball club. after steady training, the team try to do a final game in the regional preliminaries, against aoba gakuin.      1\n",
       "solar calendar year 2020: grotesque organisms called others have begun eating people. to take down this new enemy, the other suppression force is formed. saved by this elite team as a child, psychokinetic yuito withstands the training to enlist. on the other hand, prodigy kasane was scouted for her abilities. but kasane's dreams tell her strange things, dragging the two into an unavoidable fate. (source: official site)                                                                                                                          1\n",
       "Name: synopsis, Length: 15216, dtype: int64"
      ]
     },
     "execution_count": 111,
     "metadata": {},
     "output_type": "execute_result"
    }
   ],
   "source": [
    "anime_3_no_duplicate['synopsis'].value_counts()"
   ]
  },
  {
   "attachments": {},
   "cell_type": "markdown",
   "metadata": {},
   "source": [
    "There are two values in this column that represent the null value:\n",
    "- *No synopsis information has been added to this title. Help improve our database by adding a synopsis here .*\n",
    "- *No synopsis has been added for this series yet. Click here to update this information.*\n",
    "Both will be replaced by null."
   ]
  },
  {
   "cell_type": "code",
   "execution_count": 112,
   "metadata": {},
   "outputs": [],
   "source": [
    "anime_3_no_duplicate['synopsis'] = anime_3_no_duplicate['synopsis'].replace(\n",
    "    {'no synopsis information has been added to this title. help improve our database by adding a synopsis here .': None})\n",
    "\n",
    "\n",
    "# none or unknown??\n",
    "anime_3_no_duplicate['synopsis'] = anime_3_no_duplicate['synopsis'].replace(\n",
    "    {'no synopsis has been added for this series yet. click here to update this information.': None})\n",
    "\n"
   ]
  },
  {
   "attachments": {},
   "cell_type": "markdown",
   "metadata": {},
   "source": [
    "Values such as \"*Film by Takashi Ito.*\" are not techniqually sypnopsis but their existance prevent us from considering *sypnopsis* a key candidate."
   ]
  },
  {
   "cell_type": "code",
   "execution_count": 113,
   "metadata": {},
   "outputs": [
    {
     "data": {
      "text/html": [
       "<div>\n",
       "<style scoped>\n",
       "    .dataframe tbody tr th:only-of-type {\n",
       "        vertical-align: middle;\n",
       "    }\n",
       "\n",
       "    .dataframe tbody tr th {\n",
       "        vertical-align: top;\n",
       "    }\n",
       "\n",
       "    .dataframe thead th {\n",
       "        text-align: right;\n",
       "    }\n",
       "</style>\n",
       "<table border=\"1\" class=\"dataframe\">\n",
       "  <thead>\n",
       "    <tr style=\"text-align: right;\">\n",
       "      <th></th>\n",
       "      <th>mal_id</th>\n",
       "      <th>name</th>\n",
       "      <th>score</th>\n",
       "      <th>synopsis</th>\n",
       "      <th>genre</th>\n",
       "      <th>demographic</th>\n",
       "      <th>demographic1</th>\n",
       "      <th>demographic2</th>\n",
       "      <th>demographic3</th>\n",
       "      <th>genre1</th>\n",
       "      <th>...</th>\n",
       "      <th>genre3</th>\n",
       "      <th>genre4</th>\n",
       "      <th>genre5</th>\n",
       "      <th>genre6</th>\n",
       "      <th>genre7</th>\n",
       "      <th>genre8</th>\n",
       "      <th>genre9</th>\n",
       "      <th>genre10</th>\n",
       "      <th>genre11</th>\n",
       "      <th>genre12</th>\n",
       "    </tr>\n",
       "  </thead>\n",
       "  <tbody>\n",
       "    <tr>\n",
       "      <th>0</th>\n",
       "      <td>1</td>\n",
       "      <td>cowboy bebop</td>\n",
       "      <td>8.78</td>\n",
       "      <td>in the year 2071, humanity has colonized sever...</td>\n",
       "      <td>action,adventure,comedy,drama,sci-fi,space</td>\n",
       "      <td></td>\n",
       "      <td>None</td>\n",
       "      <td>None</td>\n",
       "      <td>None</td>\n",
       "      <td>action</td>\n",
       "      <td>...</td>\n",
       "      <td>comedy</td>\n",
       "      <td>drama</td>\n",
       "      <td>sci-fi</td>\n",
       "      <td>space</td>\n",
       "      <td>None</td>\n",
       "      <td>None</td>\n",
       "      <td>None</td>\n",
       "      <td>None</td>\n",
       "      <td>None</td>\n",
       "      <td>None</td>\n",
       "    </tr>\n",
       "    <tr>\n",
       "      <th>1</th>\n",
       "      <td>5</td>\n",
       "      <td>cowboy bebop: tengoku no tobira</td>\n",
       "      <td>8.39</td>\n",
       "      <td>other day, another bounty—such is the life of ...</td>\n",
       "      <td>action,drama,mystery,sci-fi,space</td>\n",
       "      <td></td>\n",
       "      <td>None</td>\n",
       "      <td>None</td>\n",
       "      <td>None</td>\n",
       "      <td>action</td>\n",
       "      <td>...</td>\n",
       "      <td>mystery</td>\n",
       "      <td>sci-fi</td>\n",
       "      <td>space</td>\n",
       "      <td>None</td>\n",
       "      <td>None</td>\n",
       "      <td>None</td>\n",
       "      <td>None</td>\n",
       "      <td>None</td>\n",
       "      <td>None</td>\n",
       "      <td>None</td>\n",
       "    </tr>\n",
       "  </tbody>\n",
       "</table>\n",
       "<p>2 rows × 21 columns</p>\n",
       "</div>"
      ],
      "text/plain": [
       "   mal_id                             name  score  \\\n",
       "0       1                     cowboy bebop   8.78   \n",
       "1       5  cowboy bebop: tengoku no tobira   8.39   \n",
       "\n",
       "                                            synopsis  \\\n",
       "0  in the year 2071, humanity has colonized sever...   \n",
       "1  other day, another bounty—such is the life of ...   \n",
       "\n",
       "                                        genre demographic demographic1  \\\n",
       "0  action,adventure,comedy,drama,sci-fi,space                     None   \n",
       "1           action,drama,mystery,sci-fi,space                     None   \n",
       "\n",
       "  demographic2 demographic3  genre1  ...   genre3  genre4  genre5 genre6  \\\n",
       "0         None         None  action  ...   comedy   drama  sci-fi  space   \n",
       "1         None         None  action  ...  mystery  sci-fi   space   None   \n",
       "\n",
       "  genre7 genre8 genre9 genre10 genre11 genre12  \n",
       "0   None   None   None    None    None    None  \n",
       "1   None   None   None    None    None    None  \n",
       "\n",
       "[2 rows x 21 columns]"
      ]
     },
     "execution_count": 113,
     "metadata": {},
     "output_type": "execute_result"
    }
   ],
   "source": [
    "anime_3_no_duplicate.head(2)"
   ]
  },
  {
   "cell_type": "code",
   "execution_count": 114,
   "metadata": {},
   "outputs": [],
   "source": [
    "anime_3_no_duplicate = anime_3_no_duplicate.drop(labels=['genre','demographic'],axis=1)"
   ]
  },
  {
   "cell_type": "code",
   "execution_count": 115,
   "metadata": {},
   "outputs": [],
   "source": [
    "final_anime_3 = anime_3_no_duplicate.copy()\n",
    "final_anime_3.to_csv('final_anime_3.csv')"
   ]
  },
  {
   "attachments": {},
   "cell_type": "markdown",
   "metadata": {},
   "source": [
    "## watching_status"
   ]
  },
  {
   "attachments": {},
   "cell_type": "markdown",
   "metadata": {},
   "source": [
    "Both columns in this table are 100% distinct meaning they are unique and acceptable candidates for key."
   ]
  },
  {
   "cell_type": "code",
   "execution_count": 116,
   "metadata": {},
   "outputs": [],
   "source": [
    "watching_status = strip(watching_status)\n",
    "watching_status = lowerCase(watching_status)"
   ]
  },
  {
   "cell_type": "code",
   "execution_count": 117,
   "metadata": {},
   "outputs": [],
   "source": [
    "final_watching_status = watching_status.copy()\n",
    "final_watching_status.to_csv('final_watching_status.csv')"
   ]
  },
  {
   "attachments": {},
   "cell_type": "markdown",
   "metadata": {},
   "source": [
    "## anime_4"
   ]
  },
  {
   "cell_type": "code",
   "execution_count": 118,
   "metadata": {},
   "outputs": [
    {
     "data": {
      "text/html": [
       "<div>\n",
       "<style scoped>\n",
       "    .dataframe tbody tr th:only-of-type {\n",
       "        vertical-align: middle;\n",
       "    }\n",
       "\n",
       "    .dataframe tbody tr th {\n",
       "        vertical-align: top;\n",
       "    }\n",
       "\n",
       "    .dataframe thead th {\n",
       "        text-align: right;\n",
       "    }\n",
       "</style>\n",
       "<table border=\"1\" class=\"dataframe\">\n",
       "  <thead>\n",
       "    <tr style=\"text-align: right;\">\n",
       "      <th></th>\n",
       "      <th>name</th>\n",
       "      <th>type</th>\n",
       "      <th>score</th>\n",
       "      <th>score rank</th>\n",
       "      <th>popularity rank</th>\n",
       "      <th>air date</th>\n",
       "      <th>studio</th>\n",
       "      <th>num. of episodes</th>\n",
       "      <th>genres</th>\n",
       "      <th>theme(s)</th>\n",
       "      <th>demographic</th>\n",
       "    </tr>\n",
       "  </thead>\n",
       "  <tbody>\n",
       "    <tr>\n",
       "      <th>0</th>\n",
       "      <td>fullmetal alchemist: brotherhood</td>\n",
       "      <td>tv</td>\n",
       "      <td>9.14</td>\n",
       "      <td>1</td>\n",
       "      <td>3</td>\n",
       "      <td>apr 5, 2009 to jul 4, 2010</td>\n",
       "      <td>['bones']</td>\n",
       "      <td>64</td>\n",
       "      <td>['action', 'adventure', 'drama', 'fantasy']</td>\n",
       "      <td>['military']</td>\n",
       "      <td>shounen</td>\n",
       "    </tr>\n",
       "    <tr>\n",
       "      <th>1</th>\n",
       "      <td>spy x family</td>\n",
       "      <td>tv</td>\n",
       "      <td>9.09</td>\n",
       "      <td>2</td>\n",
       "      <td>350</td>\n",
       "      <td>apr 9, 2022 to ?</td>\n",
       "      <td>['wit studio', '            cloverworks']</td>\n",
       "      <td>12</td>\n",
       "      <td>['action', 'comedy']</td>\n",
       "      <td>['childcare']</td>\n",
       "      <td>shounen</td>\n",
       "    </tr>\n",
       "  </tbody>\n",
       "</table>\n",
       "</div>"
      ],
      "text/plain": [
       "                               name type  score  score rank  popularity rank  \\\n",
       "0  fullmetal alchemist: brotherhood   tv   9.14           1                3   \n",
       "1                      spy x family   tv   9.09           2              350   \n",
       "\n",
       "                     air date                                     studio  \\\n",
       "0  apr 5, 2009 to jul 4, 2010                                  ['bones']   \n",
       "1            apr 9, 2022 to ?  ['wit studio', '            cloverworks']   \n",
       "\n",
       "   num. of episodes                                       genres  \\\n",
       "0                64  ['action', 'adventure', 'drama', 'fantasy']   \n",
       "1                12                         ['action', 'comedy']   \n",
       "\n",
       "        theme(s) demographic  \n",
       "0   ['military']     shounen  \n",
       "1  ['childcare']     shounen  "
      ]
     },
     "execution_count": 118,
     "metadata": {},
     "output_type": "execute_result"
    }
   ],
   "source": [
    "# one duplicated row\n",
    "anime_4_no_duplicate = strip(anime_4)\n",
    "anime_4_no_duplicate = lowerCase(anime_4_no_duplicate)\n",
    "anime_4_no_duplicate = anime_4_no_duplicate.drop_duplicates(keep='first')\n",
    "anime_4_no_duplicate.head(2)"
   ]
  },
  {
   "cell_type": "code",
   "execution_count": 119,
   "metadata": {},
   "outputs": [],
   "source": [
    "anime_4_no_duplicate[['first_aired', 'last_aired']\n",
    "                     ] = anime_4_no_duplicate['air date'].str.split(pat=\" to \", expand=True)\n",
    "anime_4_no_duplicate['first_aired'] = pd.to_datetime(\n",
    "    anime_4_no_duplicate['first_aired'], errors='coerce')\n",
    "anime_4_no_duplicate['last_aired'] = pd.to_datetime(\n",
    "    anime_4_no_duplicate['last_aired'], errors='coerce')"
   ]
  },
  {
   "cell_type": "code",
   "execution_count": 120,
   "metadata": {},
   "outputs": [],
   "source": [
    "# for this \"name\" is pk\n",
    "anime_4_no_duplicate = sort_cell(anime_4_no_duplicate, 'studio','name')\n",
    "anime_4_no_duplicate = separation(anime_4_no_duplicate, 'studio')\n",
    "\n",
    "anime_4_no_duplicate.rename(columns={'theme(s)':'theme'},inplace=True)\n",
    "anime_4_no_duplicate = sort_cell(anime_4_no_duplicate, 'theme','name')\n",
    "anime_4_no_duplicate = separation(anime_4_no_duplicate,'theme')"
   ]
  },
  {
   "cell_type": "code",
   "execution_count": 121,
   "metadata": {},
   "outputs": [],
   "source": [
    "anime_4_no_duplicate.rename(columns={'genres':'genre'},inplace=True)\n",
    "anime_4_no_duplicate = sort_cell(anime_4_no_duplicate, 'genre','name')\n",
    "anime_4_no_duplicate = separation(anime_4_no_duplicate,'genre')"
   ]
  },
  {
   "attachments": {},
   "cell_type": "markdown",
   "metadata": {},
   "source": [
    "It is unclear what column *theme* indicates, thus matching algorithm is used to clarify the idea behind it. Considering the meaning of the word \"theme\", the matching will be done between this column and columns *genre* and *demographic*."
   ]
  },
  {
   "cell_type": "code",
   "execution_count": 122,
   "metadata": {},
   "outputs": [],
   "source": [
    "genre_set = set()\n",
    "demographic_set = set()\n",
    "DFs = [final_anime_1, final_anime_2, final_anime_3]\n",
    "for df in DFs:\n",
    "    for c in list(df.columns):\n",
    "        if 'genre' in c:\n",
    "            # This set has all unique values of genre columns\n",
    "            genre_set = genre_set.union(set(df[c].unique()))\n",
    "        elif 'demographic' in c:\n",
    "            # This set has all unique values of demographic columns\n",
    "            demographic_set = demographic_set.union(set(df[c].unique()))\n"
   ]
  },
  {
   "cell_type": "code",
   "execution_count": 123,
   "metadata": {},
   "outputs": [],
   "source": [
    "theme_set = set()\n",
    "for c in list(anime_4_no_duplicate.columns):\n",
    "    if 'theme' == c:\n",
    "        pass\n",
    "    elif 'theme' in c:\n",
    "        theme_set = theme_set.union(set(anime_4_no_duplicate[c].unique()))\n"
   ]
  },
  {
   "cell_type": "code",
   "execution_count": 124,
   "metadata": {},
   "outputs": [],
   "source": [
    "genre_set.remove(None)\n",
    "demographic_set.remove(None)\n",
    "theme_set.remove(None)"
   ]
  },
  {
   "cell_type": "code",
   "execution_count": 127,
   "metadata": {},
   "outputs": [
    {
     "data": {
      "text/html": [
       "<div>\n",
       "<style scoped>\n",
       "    .dataframe tbody tr th:only-of-type {\n",
       "        vertical-align: middle;\n",
       "    }\n",
       "\n",
       "    .dataframe tbody tr th {\n",
       "        vertical-align: top;\n",
       "    }\n",
       "\n",
       "    .dataframe thead th {\n",
       "        text-align: right;\n",
       "    }\n",
       "</style>\n",
       "<table border=\"1\" class=\"dataframe\">\n",
       "  <thead>\n",
       "    <tr style=\"text-align: right;\">\n",
       "      <th></th>\n",
       "      <th>Genre</th>\n",
       "      <th>Theme</th>\n",
       "      <th>similarity</th>\n",
       "    </tr>\n",
       "  </thead>\n",
       "  <tbody>\n",
       "    <tr>\n",
       "      <th>0</th>\n",
       "      <td>sports</td>\n",
       "      <td>teamsports</td>\n",
       "      <td>0.750000</td>\n",
       "    </tr>\n",
       "    <tr>\n",
       "      <th>1</th>\n",
       "      <td>sports</td>\n",
       "      <td>combatsports</td>\n",
       "      <td>0.666667</td>\n",
       "    </tr>\n",
       "    <tr>\n",
       "      <th>2</th>\n",
       "      <td>action</td>\n",
       "      <td>racing</td>\n",
       "      <td>0.666667</td>\n",
       "    </tr>\n",
       "    <tr>\n",
       "      <th>3</th>\n",
       "      <td>martialarts</td>\n",
       "      <td>visualarts</td>\n",
       "      <td>0.666667</td>\n",
       "    </tr>\n",
       "  </tbody>\n",
       "</table>\n",
       "</div>"
      ],
      "text/plain": [
       "         Genre         Theme  similarity\n",
       "0       sports    teamsports    0.750000\n",
       "1       sports  combatsports    0.666667\n",
       "2       action        racing    0.666667\n",
       "3  martialarts    visualarts    0.666667"
      ]
     },
     "execution_count": 127,
     "metadata": {},
     "output_type": "execute_result"
    }
   ],
   "source": [
    "genre_theme_similarity = []\n",
    "for genre in genre_set:\n",
    "    for theme in theme_set:\n",
    "        similarity = SequenceMatcher(None, genre, theme)\n",
    "        similarity_ratio = similarity.ratio()\n",
    "\n",
    "        if (similarity_ratio > 0.65) & (similarity_ratio < 1):\n",
    "            gts = [genre,theme,similarity_ratio]\n",
    "            genre_theme_similarity.append(gts)\n",
    "\n",
    "genre_theme_similarity_df = pd.DataFrame(genre_theme_similarity, columns=[\n",
    "                                         'Genre', 'Theme', 'similarity'])\n",
    "genre_theme_similarity_df"
   ]
  },
  {
   "cell_type": "code",
   "execution_count": 128,
   "metadata": {},
   "outputs": [
    {
     "data": {
      "text/html": [
       "<div>\n",
       "<style scoped>\n",
       "    .dataframe tbody tr th:only-of-type {\n",
       "        vertical-align: middle;\n",
       "    }\n",
       "\n",
       "    .dataframe tbody tr th {\n",
       "        vertical-align: top;\n",
       "    }\n",
       "\n",
       "    .dataframe thead th {\n",
       "        text-align: right;\n",
       "    }\n",
       "</style>\n",
       "<table border=\"1\" class=\"dataframe\">\n",
       "  <thead>\n",
       "    <tr style=\"text-align: right;\">\n",
       "      <th></th>\n",
       "      <th>Demographic</th>\n",
       "      <th>Theme</th>\n",
       "      <th>similarity</th>\n",
       "    </tr>\n",
       "  </thead>\n",
       "  <tbody>\n",
       "    <tr>\n",
       "      <th>0</th>\n",
       "      <td>shoujoai</td>\n",
       "      <td>mahoushoujo</td>\n",
       "      <td>0.631579</td>\n",
       "    </tr>\n",
       "    <tr>\n",
       "      <th>1</th>\n",
       "      <td>shojo</td>\n",
       "      <td>mahoushoujo</td>\n",
       "      <td>0.625000</td>\n",
       "    </tr>\n",
       "    <tr>\n",
       "      <th>2</th>\n",
       "      <td>shojo</td>\n",
       "      <td>school</td>\n",
       "      <td>0.727273</td>\n",
       "    </tr>\n",
       "    <tr>\n",
       "      <th>3</th>\n",
       "      <td>mecha</td>\n",
       "      <td>medical</td>\n",
       "      <td>0.666667</td>\n",
       "    </tr>\n",
       "  </tbody>\n",
       "</table>\n",
       "</div>"
      ],
      "text/plain": [
       "  Demographic        Theme  similarity\n",
       "0    shoujoai  mahoushoujo    0.631579\n",
       "1       shojo  mahoushoujo    0.625000\n",
       "2       shojo       school    0.727273\n",
       "3       mecha      medical    0.666667"
      ]
     },
     "execution_count": 128,
     "metadata": {},
     "output_type": "execute_result"
    }
   ],
   "source": [
    "demographic_theme_similarity = []\n",
    "for demographic in demographic_set:\n",
    "    for theme in theme_set:\n",
    "        similarity = SequenceMatcher(None, demographic, theme)\n",
    "        similarity_ratio = similarity.ratio()\n",
    "\n",
    "        if (similarity_ratio > 0.60) & (similarity_ratio < 1):\n",
    "            gts = [demographic,theme,similarity_ratio]\n",
    "            demographic_theme_similarity.append(gts)\n",
    "\n",
    "demographic_theme_similarity_df = pd.DataFrame(demographic_theme_similarity, columns=[\n",
    "                                         'Demographic', 'Theme', 'similarity'])\n",
    "demographic_theme_similarity_df"
   ]
  },
  {
   "attachments": {},
   "cell_type": "markdown",
   "metadata": {},
   "source": [
    "The similarities show that the column \"theme\" contains genres and demographic thus it is redundant so we drop it."
   ]
  },
  {
   "cell_type": "code",
   "execution_count": 129,
   "metadata": {},
   "outputs": [
    {
     "data": {
      "text/plain": [
       "array(['shounen', 'none', 'shoujo', 'seinen', 'josei', 'kids'],\n",
       "      dtype=object)"
      ]
     },
     "execution_count": 129,
     "metadata": {},
     "output_type": "execute_result"
    }
   ],
   "source": [
    "anime_4_no_duplicate['demographic'].unique()"
   ]
  },
  {
   "cell_type": "code",
   "execution_count": 130,
   "metadata": {},
   "outputs": [],
   "source": [
    "anime_4_no_duplicate['demographic'] = anime_4_no_duplicate['demographic'].replace({'none': None})\n",
    "anime_4_no_duplicate['demographic'] = anime_4_no_duplicate['demographic'].replace({'shounen': 'shonen'})\n",
    "anime_4_no_duplicate['demographic'] = anime_4_no_duplicate['demographic'].replace({'shoujo': 'shojo'})"
   ]
  },
  {
   "attachments": {},
   "cell_type": "markdown",
   "metadata": {},
   "source": [
    "Among the *Demographic* column's values there is string called none which is replaced by actual null value."
   ]
  },
  {
   "cell_type": "code",
   "execution_count": 131,
   "metadata": {},
   "outputs": [],
   "source": [
    "anime_4_no_duplicate['demographic'] = anime_4_no_duplicate['demographic'].replace({'none': None})"
   ]
  },
  {
   "cell_type": "code",
   "execution_count": 132,
   "metadata": {},
   "outputs": [],
   "source": [
    "anime_4_no_duplicate = anime_4_no_duplicate.drop(\n",
    "    labels=['studio', 'genre', 'theme'], axis=1)\n"
   ]
  },
  {
   "cell_type": "code",
   "execution_count": 133,
   "metadata": {},
   "outputs": [],
   "source": [
    "final_anime_4 = anime_4_no_duplicate.copy()\n",
    "final_anime_4.to_csv('final_anime_4.csv')"
   ]
  },
  {
   "attachments": {},
   "cell_type": "markdown",
   "metadata": {},
   "source": [
    "## anime_5"
   ]
  },
  {
   "cell_type": "code",
   "execution_count": 134,
   "metadata": {},
   "outputs": [
    {
     "data": {
      "text/html": [
       "<div>\n",
       "<style scoped>\n",
       "    .dataframe tbody tr th:only-of-type {\n",
       "        vertical-align: middle;\n",
       "    }\n",
       "\n",
       "    .dataframe tbody tr th {\n",
       "        vertical-align: top;\n",
       "    }\n",
       "\n",
       "    .dataframe thead th {\n",
       "        text-align: right;\n",
       "    }\n",
       "</style>\n",
       "<table border=\"1\" class=\"dataframe\">\n",
       "  <thead>\n",
       "    <tr style=\"text-align: right;\">\n",
       "      <th></th>\n",
       "      <th>rank</th>\n",
       "      <th>title</th>\n",
       "      <th>rating</th>\n",
       "      <th>votes</th>\n",
       "      <th>year</th>\n",
       "      <th>minutes</th>\n",
       "      <th>genre</th>\n",
       "      <th>gross</th>\n",
       "    </tr>\n",
       "  </thead>\n",
       "  <tbody>\n",
       "    <tr>\n",
       "      <th>0</th>\n",
       "      <td>1</td>\n",
       "      <td>ramayana: the legend of prince rama</td>\n",
       "      <td>9.2</td>\n",
       "      <td>7,549</td>\n",
       "      <td>1993</td>\n",
       "      <td>97.0</td>\n",
       "      <td>animation, action, adventure</td>\n",
       "      <td>NaN</td>\n",
       "    </tr>\n",
       "    <tr>\n",
       "      <th>1</th>\n",
       "      <td>2</td>\n",
       "      <td>spirited away</td>\n",
       "      <td>8.6</td>\n",
       "      <td>756,112</td>\n",
       "      <td>2001</td>\n",
       "      <td>125.0</td>\n",
       "      <td>animation, adventure, family</td>\n",
       "      <td>$10.06m</td>\n",
       "    </tr>\n",
       "  </tbody>\n",
       "</table>\n",
       "</div>"
      ],
      "text/plain": [
       "   rank                                title  rating    votes  year  minutes  \\\n",
       "0     1  ramayana: the legend of prince rama     9.2    7,549  1993     97.0   \n",
       "1     2                        spirited away     8.6  756,112  2001    125.0   \n",
       "\n",
       "                          genre    gross  \n",
       "0  animation, action, adventure      NaN  \n",
       "1  animation, adventure, family  $10.06m  "
      ]
     },
     "execution_count": 134,
     "metadata": {},
     "output_type": "execute_result"
    }
   ],
   "source": [
    "anime_5_no_duplicate = anime_5.copy()\n",
    "anime_5_no_duplicate = strip(anime_5_no_duplicate)\n",
    "anime_5_no_duplicate = lowerCase(anime_5_no_duplicate)\n",
    "anime_5_no_duplicate.head(2)"
   ]
  },
  {
   "attachments": {},
   "cell_type": "markdown",
   "metadata": {},
   "source": [
    "The type of *votes* column is object thus it will be converted to integer because this columns show the number of people who rated this anime on IMDb."
   ]
  },
  {
   "cell_type": "code",
   "execution_count": 135,
   "metadata": {},
   "outputs": [],
   "source": [
    "# First we need to remove \",\"\n",
    "anime_5_no_duplicate['votes'] = anime_5_no_duplicate['votes'].str.replace(\",\", '')\n",
    "anime_5_no_duplicate['votes'] = anime_5_no_duplicate['votes'].astype(int)"
   ]
  },
  {
   "cell_type": "code",
   "execution_count": 136,
   "metadata": {},
   "outputs": [],
   "source": [
    "anime_5_no_duplicate['year'] = anime_5_no_duplicate['year'].astype('int32')"
   ]
  },
  {
   "cell_type": "code",
   "execution_count": 137,
   "metadata": {},
   "outputs": [],
   "source": [
    "anime_5_no_duplicate = sort_cell(anime_5_no_duplicate,'genre','title')"
   ]
  },
  {
   "cell_type": "code",
   "execution_count": 138,
   "metadata": {},
   "outputs": [],
   "source": [
    "anime_5_no_duplicate = extract_demographic(anime_5_no_duplicate,'genre')"
   ]
  },
  {
   "cell_type": "code",
   "execution_count": 139,
   "metadata": {},
   "outputs": [
    {
     "data": {
      "text/plain": [
       "array([None], dtype=object)"
      ]
     },
     "execution_count": 139,
     "metadata": {},
     "output_type": "execute_result"
    }
   ],
   "source": [
    "anime_5_no_duplicate['demographic1'].unique()"
   ]
  },
  {
   "cell_type": "code",
   "execution_count": 140,
   "metadata": {},
   "outputs": [],
   "source": [
    "anime_5_no_duplicate = separation(anime_5_no_duplicate,'genre')"
   ]
  },
  {
   "attachments": {},
   "cell_type": "markdown",
   "metadata": {},
   "source": [
    "The column gross also needs some additional cleaning steps."
   ]
  },
  {
   "cell_type": "code",
   "execution_count": 141,
   "metadata": {},
   "outputs": [],
   "source": [
    "anime_5_no_duplicate['gross'] = anime_5_no_duplicate['gross'].replace({'\\$': '', 'm': ''}, regex=True)\n",
    "anime_5_no_duplicate['gross'] = anime_5_no_duplicate['gross'].astype(float)\n",
    "anime_5_no_duplicate.rename(columns={'gross': 'gross(M$)'}, inplace=True)"
   ]
  },
  {
   "cell_type": "code",
   "execution_count": 142,
   "metadata": {},
   "outputs": [],
   "source": [
    "anime_5_no_duplicate = anime_5_no_duplicate.drop(labels=['genre','demographic','demographic1'],axis=1)"
   ]
  },
  {
   "cell_type": "code",
   "execution_count": 143,
   "metadata": {},
   "outputs": [],
   "source": [
    "final_anime_5 = anime_5_no_duplicate.copy()\n",
    "final_anime_5.to_csv('final_anime_5.csv')"
   ]
  }
 ],
 "metadata": {
  "kernelspec": {
   "display_name": "DataProfiling",
   "language": "python",
   "name": "python3"
  },
  "language_info": {
   "codemirror_mode": {
    "name": "ipython",
    "version": 3
   },
   "file_extension": ".py",
   "mimetype": "text/x-python",
   "name": "python",
   "nbconvert_exporter": "python",
   "pygments_lexer": "ipython3",
   "version": "3.7.12"
  },
  "orig_nbformat": 4,
  "vscode": {
   "interpreter": {
    "hash": "1af63472e87732c8c44e028c6c515f53204d998e83d5ec012bb8a3c22f8f5120"
   }
  }
 },
 "nbformat": 4,
 "nbformat_minor": 2
}
