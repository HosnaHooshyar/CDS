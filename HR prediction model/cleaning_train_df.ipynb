{
 "cells": [
  {
   "cell_type": "markdown",
   "metadata": {
    "toc": true
   },
   "source": [
    "<h1>Table of Contents<span class=\"tocSkip\"></span></h1>\n",
    "<div class=\"toc\"><ul class=\"toc-item\"><li><span><a href=\"#Libraries\" data-toc-modified-id=\"Libraries-1\"><span class=\"toc-item-num\">1&nbsp;&nbsp;</span>Libraries</a></span></li><li><span><a href=\"#Dataset\" data-toc-modified-id=\"Dataset-2\"><span class=\"toc-item-num\">2&nbsp;&nbsp;</span>Dataset</a></span></li><li><span><a href=\"#Exploring-the-data-set\" data-toc-modified-id=\"Exploring-the-data-set-3\"><span class=\"toc-item-num\">3&nbsp;&nbsp;</span>Exploring the data-set</a></span></li><li><span><a href=\"#Missing-Values\" data-toc-modified-id=\"Missing-Values-4\"><span class=\"toc-item-num\">4&nbsp;&nbsp;</span>Missing Values</a></span><ul class=\"toc-item\"><li><span><a href=\"#Deletion\" data-toc-modified-id=\"Deletion-4.1\"><span class=\"toc-item-num\">4.1&nbsp;&nbsp;</span>Deletion</a></span></li><li><span><a href=\"#Deduction\" data-toc-modified-id=\"Deduction-4.2\"><span class=\"toc-item-num\">4.2&nbsp;&nbsp;</span>Deduction</a></span><ul class=\"toc-item\"><li><span><a href=\"#Major-Discipline\" data-toc-modified-id=\"Major-Discipline-4.2.1\"><span class=\"toc-item-num\">4.2.1&nbsp;&nbsp;</span>Major Discipline</a></span></li><li><span><a href=\"#Experience\" data-toc-modified-id=\"Experience-4.2.2\"><span class=\"toc-item-num\">4.2.2&nbsp;&nbsp;</span>Experience</a></span></li><li><span><a href=\"#Company-Size-and-Company-Type\" data-toc-modified-id=\"Company-Size-and-Company-Type-4.2.3\"><span class=\"toc-item-num\">4.2.3&nbsp;&nbsp;</span>Company Size and Company Type</a></span></li><li><span><a href=\"#Last-New-Job\" data-toc-modified-id=\"Last-New-Job-4.2.4\"><span class=\"toc-item-num\">4.2.4&nbsp;&nbsp;</span>Last New Job</a></span></li></ul></li><li><span><a href=\"#Prediction\" data-toc-modified-id=\"Prediction-4.3\"><span class=\"toc-item-num\">4.3&nbsp;&nbsp;</span>Prediction</a></span><ul class=\"toc-item\"><li><span><a href=\"#Gender\" data-toc-modified-id=\"Gender-4.3.1\"><span class=\"toc-item-num\">4.3.1&nbsp;&nbsp;</span>Gender</a></span></li><li><span><a href=\"#Enrolled-University\" data-toc-modified-id=\"Enrolled-University-4.3.2\"><span class=\"toc-item-num\">4.3.2&nbsp;&nbsp;</span>Enrolled University</a></span></li><li><span><a href=\"#Education-Level\" data-toc-modified-id=\"Education-Level-4.3.3\"><span class=\"toc-item-num\">4.3.3&nbsp;&nbsp;</span>Education Level</a></span></li><li><span><a href=\"#Major-Discipline\" data-toc-modified-id=\"Major-Discipline-4.3.4\"><span class=\"toc-item-num\">4.3.4&nbsp;&nbsp;</span>Major Discipline</a></span></li><li><span><a href=\"#Experience\" data-toc-modified-id=\"Experience-4.3.5\"><span class=\"toc-item-num\">4.3.5&nbsp;&nbsp;</span>Experience</a></span></li><li><span><a href=\"#Company-Size\" data-toc-modified-id=\"Company-Size-4.3.6\"><span class=\"toc-item-num\">4.3.6&nbsp;&nbsp;</span>Company Size</a></span></li><li><span><a href=\"#Company-Type\" data-toc-modified-id=\"Company-Type-4.3.7\"><span class=\"toc-item-num\">4.3.7&nbsp;&nbsp;</span>Company Type</a></span></li><li><span><a href=\"#Last-New-Job\" data-toc-modified-id=\"Last-New-Job-4.3.8\"><span class=\"toc-item-num\">4.3.8&nbsp;&nbsp;</span>Last New Job</a></span></li></ul></li></ul></li><li><span><a href=\"#Re-building\" data-toc-modified-id=\"Re-building-5\"><span class=\"toc-item-num\">5&nbsp;&nbsp;</span>Re-building</a></span></li></ul></div>"
   ]
  },
  {
   "cell_type": "markdown",
   "metadata": {},
   "source": [
    "## Libraries"
   ]
  },
  {
   "cell_type": "code",
   "execution_count": 1,
   "metadata": {},
   "outputs": [],
   "source": [
    "import pandas as pd\n",
    "import numpy as np\n",
    "import datawig\n",
    "\n",
    "#warnings\n",
    "import warnings\n",
    "warnings.filterwarnings('ignore')"
   ]
  },
  {
   "cell_type": "markdown",
   "metadata": {},
   "source": [
    "## Dataset\n",
    "The source of the data is kaggle website: [Link](https://www.kaggle.com/arashnic/hr-analytics-job-change-of-data-scientists)."
   ]
  },
  {
   "cell_type": "code",
   "execution_count": 2,
   "metadata": {},
   "outputs": [
    {
     "data": {
      "text/html": [
       "<div>\n",
       "<style scoped>\n",
       "    .dataframe tbody tr th:only-of-type {\n",
       "        vertical-align: middle;\n",
       "    }\n",
       "\n",
       "    .dataframe tbody tr th {\n",
       "        vertical-align: top;\n",
       "    }\n",
       "\n",
       "    .dataframe thead th {\n",
       "        text-align: right;\n",
       "    }\n",
       "</style>\n",
       "<table border=\"1\" class=\"dataframe\">\n",
       "  <thead>\n",
       "    <tr style=\"text-align: right;\">\n",
       "      <th></th>\n",
       "      <th>enrollee_id</th>\n",
       "      <th>city</th>\n",
       "      <th>city_development_index</th>\n",
       "      <th>gender</th>\n",
       "      <th>relevent_experience</th>\n",
       "      <th>enrolled_university</th>\n",
       "      <th>education_level</th>\n",
       "      <th>major_discipline</th>\n",
       "      <th>experience</th>\n",
       "      <th>company_size</th>\n",
       "      <th>company_type</th>\n",
       "      <th>last_new_job</th>\n",
       "      <th>training_hours</th>\n",
       "      <th>target</th>\n",
       "    </tr>\n",
       "  </thead>\n",
       "  <tbody>\n",
       "    <tr>\n",
       "      <th>0</th>\n",
       "      <td>8949</td>\n",
       "      <td>city_103</td>\n",
       "      <td>0.920</td>\n",
       "      <td>Male</td>\n",
       "      <td>Has relevent experience</td>\n",
       "      <td>no_enrollment</td>\n",
       "      <td>Graduate</td>\n",
       "      <td>STEM</td>\n",
       "      <td>&gt;20</td>\n",
       "      <td>NaN</td>\n",
       "      <td>NaN</td>\n",
       "      <td>1</td>\n",
       "      <td>36</td>\n",
       "      <td>1.0</td>\n",
       "    </tr>\n",
       "    <tr>\n",
       "      <th>1</th>\n",
       "      <td>29725</td>\n",
       "      <td>city_40</td>\n",
       "      <td>0.776</td>\n",
       "      <td>Male</td>\n",
       "      <td>No relevent experience</td>\n",
       "      <td>no_enrollment</td>\n",
       "      <td>Graduate</td>\n",
       "      <td>STEM</td>\n",
       "      <td>15</td>\n",
       "      <td>50-99</td>\n",
       "      <td>Pvt Ltd</td>\n",
       "      <td>&gt;4</td>\n",
       "      <td>47</td>\n",
       "      <td>0.0</td>\n",
       "    </tr>\n",
       "    <tr>\n",
       "      <th>2</th>\n",
       "      <td>11561</td>\n",
       "      <td>city_21</td>\n",
       "      <td>0.624</td>\n",
       "      <td>NaN</td>\n",
       "      <td>No relevent experience</td>\n",
       "      <td>Full time course</td>\n",
       "      <td>Graduate</td>\n",
       "      <td>STEM</td>\n",
       "      <td>5</td>\n",
       "      <td>NaN</td>\n",
       "      <td>NaN</td>\n",
       "      <td>never</td>\n",
       "      <td>83</td>\n",
       "      <td>0.0</td>\n",
       "    </tr>\n",
       "    <tr>\n",
       "      <th>3</th>\n",
       "      <td>33241</td>\n",
       "      <td>city_115</td>\n",
       "      <td>0.789</td>\n",
       "      <td>NaN</td>\n",
       "      <td>No relevent experience</td>\n",
       "      <td>NaN</td>\n",
       "      <td>Graduate</td>\n",
       "      <td>Business Degree</td>\n",
       "      <td>&lt;1</td>\n",
       "      <td>NaN</td>\n",
       "      <td>Pvt Ltd</td>\n",
       "      <td>never</td>\n",
       "      <td>52</td>\n",
       "      <td>1.0</td>\n",
       "    </tr>\n",
       "    <tr>\n",
       "      <th>4</th>\n",
       "      <td>666</td>\n",
       "      <td>city_162</td>\n",
       "      <td>0.767</td>\n",
       "      <td>Male</td>\n",
       "      <td>Has relevent experience</td>\n",
       "      <td>no_enrollment</td>\n",
       "      <td>Masters</td>\n",
       "      <td>STEM</td>\n",
       "      <td>&gt;20</td>\n",
       "      <td>50-99</td>\n",
       "      <td>Funded Startup</td>\n",
       "      <td>4</td>\n",
       "      <td>8</td>\n",
       "      <td>0.0</td>\n",
       "    </tr>\n",
       "  </tbody>\n",
       "</table>\n",
       "</div>"
      ],
      "text/plain": [
       "   enrollee_id      city  city_development_index gender  \\\n",
       "0         8949  city_103                   0.920   Male   \n",
       "1        29725   city_40                   0.776   Male   \n",
       "2        11561   city_21                   0.624    NaN   \n",
       "3        33241  city_115                   0.789    NaN   \n",
       "4          666  city_162                   0.767   Male   \n",
       "\n",
       "       relevent_experience enrolled_university education_level  \\\n",
       "0  Has relevent experience       no_enrollment        Graduate   \n",
       "1   No relevent experience       no_enrollment        Graduate   \n",
       "2   No relevent experience    Full time course        Graduate   \n",
       "3   No relevent experience                 NaN        Graduate   \n",
       "4  Has relevent experience       no_enrollment         Masters   \n",
       "\n",
       "  major_discipline experience company_size    company_type last_new_job  \\\n",
       "0             STEM        >20          NaN             NaN            1   \n",
       "1             STEM         15        50-99         Pvt Ltd           >4   \n",
       "2             STEM          5          NaN             NaN        never   \n",
       "3  Business Degree         <1          NaN         Pvt Ltd        never   \n",
       "4             STEM        >20        50-99  Funded Startup            4   \n",
       "\n",
       "   training_hours  target  \n",
       "0              36     1.0  \n",
       "1              47     0.0  \n",
       "2              83     0.0  \n",
       "3              52     1.0  \n",
       "4               8     0.0  "
      ]
     },
     "execution_count": 2,
     "metadata": {},
     "output_type": "execute_result"
    }
   ],
   "source": [
    "file_path = 'data/aug_train.csv'\n",
    "dataFrame = pd.read_csv(file_path)\n",
    "dataFrame.head(5)"
   ]
  },
  {
   "cell_type": "code",
   "execution_count": 3,
   "metadata": {},
   "outputs": [],
   "source": [
    "# replacing values of relevant experience column with \n",
    "# 1 (= Has relevent experience) and 0 (= No relevent experience)\n",
    "\n",
    "dataFrame['relevent_experience'] = dataFrame['relevent_experience'].replace(['Has relevent experience'],1)\n",
    "dataFrame['relevent_experience'] = dataFrame['relevent_experience'].replace(['No relevent experience'],0)"
   ]
  },
  {
   "cell_type": "code",
   "execution_count": 4,
   "metadata": {},
   "outputs": [
    {
     "data": {
      "text/html": [
       "<div>\n",
       "<style scoped>\n",
       "    .dataframe tbody tr th:only-of-type {\n",
       "        vertical-align: middle;\n",
       "    }\n",
       "\n",
       "    .dataframe tbody tr th {\n",
       "        vertical-align: top;\n",
       "    }\n",
       "\n",
       "    .dataframe thead th {\n",
       "        text-align: right;\n",
       "    }\n",
       "</style>\n",
       "<table border=\"1\" class=\"dataframe\">\n",
       "  <thead>\n",
       "    <tr style=\"text-align: right;\">\n",
       "      <th></th>\n",
       "      <th>enrollee_id</th>\n",
       "      <th>city</th>\n",
       "      <th>city_development_index</th>\n",
       "      <th>gender</th>\n",
       "      <th>relevent_experience</th>\n",
       "      <th>enrolled_university</th>\n",
       "      <th>education_level</th>\n",
       "      <th>major_discipline</th>\n",
       "      <th>experience</th>\n",
       "      <th>company_size</th>\n",
       "      <th>company_type</th>\n",
       "      <th>last_new_job</th>\n",
       "      <th>training_hours</th>\n",
       "      <th>target</th>\n",
       "    </tr>\n",
       "  </thead>\n",
       "  <tbody>\n",
       "    <tr>\n",
       "      <th>0</th>\n",
       "      <td>8949</td>\n",
       "      <td>city_103</td>\n",
       "      <td>0.920</td>\n",
       "      <td>Male</td>\n",
       "      <td>1</td>\n",
       "      <td>no_enrollment</td>\n",
       "      <td>Graduate</td>\n",
       "      <td>STEM</td>\n",
       "      <td>&gt;20</td>\n",
       "      <td>NaN</td>\n",
       "      <td>NaN</td>\n",
       "      <td>1</td>\n",
       "      <td>36</td>\n",
       "      <td>1.0</td>\n",
       "    </tr>\n",
       "    <tr>\n",
       "      <th>1</th>\n",
       "      <td>29725</td>\n",
       "      <td>city_40</td>\n",
       "      <td>0.776</td>\n",
       "      <td>Male</td>\n",
       "      <td>0</td>\n",
       "      <td>no_enrollment</td>\n",
       "      <td>Graduate</td>\n",
       "      <td>STEM</td>\n",
       "      <td>15</td>\n",
       "      <td>50-99</td>\n",
       "      <td>Pvt Ltd</td>\n",
       "      <td>&gt;4</td>\n",
       "      <td>47</td>\n",
       "      <td>0.0</td>\n",
       "    </tr>\n",
       "    <tr>\n",
       "      <th>2</th>\n",
       "      <td>11561</td>\n",
       "      <td>city_21</td>\n",
       "      <td>0.624</td>\n",
       "      <td>NaN</td>\n",
       "      <td>0</td>\n",
       "      <td>Full time course</td>\n",
       "      <td>Graduate</td>\n",
       "      <td>STEM</td>\n",
       "      <td>5</td>\n",
       "      <td>NaN</td>\n",
       "      <td>NaN</td>\n",
       "      <td>never</td>\n",
       "      <td>83</td>\n",
       "      <td>0.0</td>\n",
       "    </tr>\n",
       "    <tr>\n",
       "      <th>3</th>\n",
       "      <td>33241</td>\n",
       "      <td>city_115</td>\n",
       "      <td>0.789</td>\n",
       "      <td>NaN</td>\n",
       "      <td>0</td>\n",
       "      <td>NaN</td>\n",
       "      <td>Graduate</td>\n",
       "      <td>Business Degree</td>\n",
       "      <td>&lt;1</td>\n",
       "      <td>NaN</td>\n",
       "      <td>Pvt Ltd</td>\n",
       "      <td>never</td>\n",
       "      <td>52</td>\n",
       "      <td>1.0</td>\n",
       "    </tr>\n",
       "    <tr>\n",
       "      <th>4</th>\n",
       "      <td>666</td>\n",
       "      <td>city_162</td>\n",
       "      <td>0.767</td>\n",
       "      <td>Male</td>\n",
       "      <td>1</td>\n",
       "      <td>no_enrollment</td>\n",
       "      <td>Masters</td>\n",
       "      <td>STEM</td>\n",
       "      <td>&gt;20</td>\n",
       "      <td>50-99</td>\n",
       "      <td>Funded Startup</td>\n",
       "      <td>4</td>\n",
       "      <td>8</td>\n",
       "      <td>0.0</td>\n",
       "    </tr>\n",
       "  </tbody>\n",
       "</table>\n",
       "</div>"
      ],
      "text/plain": [
       "   enrollee_id      city  city_development_index gender  relevent_experience  \\\n",
       "0         8949  city_103                   0.920   Male                    1   \n",
       "1        29725   city_40                   0.776   Male                    0   \n",
       "2        11561   city_21                   0.624    NaN                    0   \n",
       "3        33241  city_115                   0.789    NaN                    0   \n",
       "4          666  city_162                   0.767   Male                    1   \n",
       "\n",
       "  enrolled_university education_level major_discipline experience  \\\n",
       "0       no_enrollment        Graduate             STEM        >20   \n",
       "1       no_enrollment        Graduate             STEM         15   \n",
       "2    Full time course        Graduate             STEM          5   \n",
       "3                 NaN        Graduate  Business Degree         <1   \n",
       "4       no_enrollment         Masters             STEM        >20   \n",
       "\n",
       "  company_size    company_type last_new_job  training_hours  target  \n",
       "0          NaN             NaN            1              36     1.0  \n",
       "1        50-99         Pvt Ltd           >4              47     0.0  \n",
       "2          NaN             NaN        never              83     0.0  \n",
       "3          NaN         Pvt Ltd        never              52     1.0  \n",
       "4        50-99  Funded Startup            4               8     0.0  "
      ]
     },
     "execution_count": 4,
     "metadata": {},
     "output_type": "execute_result"
    }
   ],
   "source": [
    "dataFrame.head(5)"
   ]
  },
  {
   "cell_type": "markdown",
   "metadata": {},
   "source": [
    "This dataset is named <b>dataFrame</b> and includes 14 columns and 19158 rows."
   ]
  },
  {
   "cell_type": "markdown",
   "metadata": {},
   "source": [
    "## Exploring the data-set\n",
    "Since our prediction model is as accurate as our data, the dataset needs to be studied carefully. There may be features that should be added, removed, or aggregated, the type of some of them may need to change (i.e. categorical to numerical) or there could be some missing data that must be dealt with.\n",
    "The first step is studying the features:"
   ]
  },
  {
   "cell_type": "code",
   "execution_count": 5,
   "metadata": {},
   "outputs": [
    {
     "data": {
      "text/plain": [
       "Index(['enrollee_id', 'city', 'city_development_index', 'gender',\n",
       "       'relevent_experience', 'enrolled_university', 'education_level',\n",
       "       'major_discipline', 'experience', 'company_size', 'company_type',\n",
       "       'last_new_job', 'training_hours', 'target'],\n",
       "      dtype='object')"
      ]
     },
     "execution_count": 5,
     "metadata": {},
     "output_type": "execute_result"
    }
   ],
   "source": [
    "dataFrame.columns"
   ]
  },
  {
   "cell_type": "markdown",
   "metadata": {},
   "source": [
    "Looking at the elements of each column is a good way to understand the data better and determine any incorrect values."
   ]
  },
  {
   "cell_type": "code",
   "execution_count": 6,
   "metadata": {},
   "outputs": [
    {
     "data": {
      "text/plain": [
       "2047     1\n",
       "2692     1\n",
       "4743     1\n",
       "27272    1\n",
       "25225    1\n",
       "        ..\n",
       "17682    1\n",
       "19731    1\n",
       "29972    1\n",
       "25878    1\n",
       "6147     1\n",
       "Name: enrollee_id, Length: 19158, dtype: int64"
      ]
     },
     "execution_count": 6,
     "metadata": {},
     "output_type": "execute_result"
    }
   ],
   "source": [
    "#make sure every subject has a unique ID \n",
    "\n",
    "dataFrame['enrollee_id'].value_counts()"
   ]
  },
  {
   "cell_type": "code",
   "execution_count": 7,
   "metadata": {},
   "outputs": [
    {
     "data": {
      "text/plain": [
       "city_103    4355\n",
       "city_21     2702\n",
       "city_16     1533\n",
       "city_114    1336\n",
       "city_160     845\n",
       "            ... \n",
       "city_111       3\n",
       "city_121       3\n",
       "city_129       3\n",
       "city_140       1\n",
       "city_171       1\n",
       "Name: city, Length: 123, dtype: int64"
      ]
     },
     "execution_count": 7,
     "metadata": {},
     "output_type": "execute_result"
    }
   ],
   "source": [
    "#count values of city \n",
    "\n",
    "dataFrame['city'].value_counts()"
   ]
  },
  {
   "cell_type": "code",
   "execution_count": 8,
   "metadata": {},
   "outputs": [
    {
     "data": {
      "text/plain": [
       "0.920    5200\n",
       "0.624    2702\n",
       "0.910    1533\n",
       "0.926    1336\n",
       "0.698     683\n",
       "         ... \n",
       "0.649       4\n",
       "0.807       4\n",
       "0.781       3\n",
       "0.625       3\n",
       "0.664       1\n",
       "Name: city_development_index, Length: 93, dtype: int64"
      ]
     },
     "execution_count": 8,
     "metadata": {},
     "output_type": "execute_result"
    }
   ],
   "source": [
    "#count values of city development index \n",
    "\n",
    "dataFrame['city_development_index'].value_counts()"
   ]
  },
  {
   "cell_type": "markdown",
   "metadata": {},
   "source": [
    "Since there are a great number of values in this column, checking each of them is difficult. Looking at the type of this column helps to know if there is a string in the column that is supposed to include only numbers:"
   ]
  },
  {
   "cell_type": "code",
   "execution_count": 9,
   "metadata": {},
   "outputs": [
    {
     "data": {
      "text/plain": [
       "0        city_103\n",
       "1         city_40\n",
       "2         city_21\n",
       "3        city_115\n",
       "4        city_162\n",
       "           ...   \n",
       "19153    city_173\n",
       "19154    city_103\n",
       "19155    city_103\n",
       "19156     city_65\n",
       "19157     city_67\n",
       "Name: city, Length: 19158, dtype: object"
      ]
     },
     "execution_count": 9,
     "metadata": {},
     "output_type": "execute_result"
    }
   ],
   "source": [
    "# explore city\n",
    "\n",
    "dataFrame['city']"
   ]
  },
  {
   "cell_type": "code",
   "execution_count": 10,
   "metadata": {},
   "outputs": [
    {
     "data": {
      "text/plain": [
       "0        0.920\n",
       "1        0.776\n",
       "2        0.624\n",
       "3        0.789\n",
       "4        0.767\n",
       "         ...  \n",
       "19153    0.878\n",
       "19154    0.920\n",
       "19155    0.920\n",
       "19156    0.802\n",
       "19157    0.855\n",
       "Name: city_development_index, Length: 19158, dtype: float64"
      ]
     },
     "execution_count": 10,
     "metadata": {},
     "output_type": "execute_result"
    }
   ],
   "source": [
    "#explore city development index\n",
    "\n",
    "dataFrame['city_development_index']"
   ]
  },
  {
   "cell_type": "code",
   "execution_count": 11,
   "metadata": {},
   "outputs": [
    {
     "data": {
      "text/plain": [
       "Male      13221\n",
       "Female     1238\n",
       "Other       191\n",
       "Name: gender, dtype: int64"
      ]
     },
     "execution_count": 11,
     "metadata": {},
     "output_type": "execute_result"
    }
   ],
   "source": [
    "#count values of gender\n",
    "\n",
    "dataFrame['gender'].value_counts()"
   ]
  },
  {
   "cell_type": "code",
   "execution_count": 12,
   "metadata": {},
   "outputs": [
    {
     "data": {
      "text/plain": [
       "1    13792\n",
       "0     5366\n",
       "Name: relevent_experience, dtype: int64"
      ]
     },
     "execution_count": 12,
     "metadata": {},
     "output_type": "execute_result"
    }
   ],
   "source": [
    "#count values of relevent experience\n",
    "\n",
    "dataFrame['relevent_experience'].value_counts()"
   ]
  },
  {
   "cell_type": "code",
   "execution_count": 13,
   "metadata": {},
   "outputs": [
    {
     "data": {
      "text/plain": [
       "no_enrollment       13817\n",
       "Full time course     3757\n",
       "Part time course     1198\n",
       "Name: enrolled_university, dtype: int64"
      ]
     },
     "execution_count": 13,
     "metadata": {},
     "output_type": "execute_result"
    }
   ],
   "source": [
    "#count values of enrolled university\n",
    "\n",
    "dataFrame['enrolled_university'].value_counts()"
   ]
  },
  {
   "cell_type": "code",
   "execution_count": 14,
   "metadata": {},
   "outputs": [
    {
     "data": {
      "text/plain": [
       "Graduate          11598\n",
       "Masters            4361\n",
       "High School        2017\n",
       "Phd                 414\n",
       "Primary School      308\n",
       "Name: education_level, dtype: int64"
      ]
     },
     "execution_count": 14,
     "metadata": {},
     "output_type": "execute_result"
    }
   ],
   "source": [
    "#count values of education level\n",
    "\n",
    "dataFrame['education_level'].value_counts()"
   ]
  },
  {
   "cell_type": "code",
   "execution_count": 15,
   "metadata": {},
   "outputs": [
    {
     "data": {
      "text/plain": [
       "STEM               14492\n",
       "Humanities           669\n",
       "Other                381\n",
       "Business Degree      327\n",
       "Arts                 253\n",
       "No Major             223\n",
       "Name: major_discipline, dtype: int64"
      ]
     },
     "execution_count": 15,
     "metadata": {},
     "output_type": "execute_result"
    }
   ],
   "source": [
    "#count values of major discipline\n",
    "\n",
    "dataFrame['major_discipline'].value_counts()"
   ]
  },
  {
   "cell_type": "code",
   "execution_count": 16,
   "metadata": {},
   "outputs": [
    {
     "data": {
      "text/plain": [
       ">20    3286\n",
       "5      1430\n",
       "4      1403\n",
       "3      1354\n",
       "6      1216\n",
       "2      1127\n",
       "7      1028\n",
       "10      985\n",
       "9       980\n",
       "8       802\n",
       "15      686\n",
       "11      664\n",
       "14      586\n",
       "1       549\n",
       "<1      522\n",
       "16      508\n",
       "12      494\n",
       "13      399\n",
       "17      342\n",
       "19      304\n",
       "18      280\n",
       "20      148\n",
       "Name: experience, dtype: int64"
      ]
     },
     "execution_count": 16,
     "metadata": {},
     "output_type": "execute_result"
    }
   ],
   "source": [
    "#count values of experience\n",
    "\n",
    "dataFrame['experience'].value_counts()"
   ]
  },
  {
   "cell_type": "code",
   "execution_count": 17,
   "metadata": {},
   "outputs": [
    {
     "data": {
      "text/plain": [
       "50-99        3083\n",
       "100-500      2571\n",
       "10000+       2019\n",
       "10/49        1471\n",
       "1000-4999    1328\n",
       "<10          1308\n",
       "500-999       877\n",
       "5000-9999     563\n",
       "Name: company_size, dtype: int64"
      ]
     },
     "execution_count": 17,
     "metadata": {},
     "output_type": "execute_result"
    }
   ],
   "source": [
    "#count values of company size\n",
    "\n",
    "dataFrame['company_size'].value_counts()"
   ]
  },
  {
   "cell_type": "code",
   "execution_count": 18,
   "metadata": {},
   "outputs": [
    {
     "data": {
      "text/plain": [
       "Pvt Ltd                9817\n",
       "Funded Startup         1001\n",
       "Public Sector           955\n",
       "Early Stage Startup     603\n",
       "NGO                     521\n",
       "Other                   121\n",
       "Name: company_type, dtype: int64"
      ]
     },
     "execution_count": 18,
     "metadata": {},
     "output_type": "execute_result"
    }
   ],
   "source": [
    "#count values of company type\n",
    "\n",
    "dataFrame['company_type'].value_counts()"
   ]
  },
  {
   "cell_type": "code",
   "execution_count": 19,
   "metadata": {},
   "outputs": [
    {
     "data": {
      "text/plain": [
       "1        8040\n",
       ">4       3290\n",
       "2        2900\n",
       "never    2452\n",
       "4        1029\n",
       "3        1024\n",
       "Name: last_new_job, dtype: int64"
      ]
     },
     "execution_count": 19,
     "metadata": {},
     "output_type": "execute_result"
    }
   ],
   "source": [
    "#count values of last new job\n",
    "\n",
    "dataFrame['last_new_job'].value_counts()"
   ]
  },
  {
   "cell_type": "code",
   "execution_count": 20,
   "metadata": {},
   "outputs": [
    {
     "data": {
      "text/plain": [
       "28     329\n",
       "12     292\n",
       "18     291\n",
       "22     282\n",
       "50     279\n",
       "      ... \n",
       "266      6\n",
       "272      5\n",
       "234      5\n",
       "286      5\n",
       "238      4\n",
       "Name: training_hours, Length: 241, dtype: int64"
      ]
     },
     "execution_count": 20,
     "metadata": {},
     "output_type": "execute_result"
    }
   ],
   "source": [
    "#count values of training hours\n",
    "\n",
    "dataFrame['training_hours'].value_counts()"
   ]
  },
  {
   "cell_type": "code",
   "execution_count": 21,
   "metadata": {},
   "outputs": [
    {
     "data": {
      "text/plain": [
       "0         36\n",
       "1         47\n",
       "2         83\n",
       "3         52\n",
       "4          8\n",
       "        ... \n",
       "19153     42\n",
       "19154     52\n",
       "19155     44\n",
       "19156     97\n",
       "19157    127\n",
       "Name: training_hours, Length: 19158, dtype: int64"
      ]
     },
     "execution_count": 21,
     "metadata": {},
     "output_type": "execute_result"
    }
   ],
   "source": [
    "#explore training hours\n",
    "\n",
    "dataFrame['training_hours']"
   ]
  },
  {
   "cell_type": "code",
   "execution_count": 22,
   "metadata": {},
   "outputs": [
    {
     "data": {
      "text/plain": [
       "0.0    14381\n",
       "1.0     4777\n",
       "Name: target, dtype: int64"
      ]
     },
     "execution_count": 22,
     "metadata": {},
     "output_type": "execute_result"
    }
   ],
   "source": [
    "#count values of target\n",
    "\n",
    "dataFrame['target'].value_counts()"
   ]
  },
  {
   "cell_type": "code",
   "execution_count": 23,
   "metadata": {},
   "outputs": [
    {
     "name": "stdout",
     "output_type": "stream",
     "text": [
      "<class 'pandas.core.frame.DataFrame'>\n",
      "RangeIndex: 19158 entries, 0 to 19157\n",
      "Data columns (total 14 columns):\n",
      "enrollee_id               19158 non-null int64\n",
      "city                      19158 non-null object\n",
      "city_development_index    19158 non-null float64\n",
      "gender                    14650 non-null object\n",
      "relevent_experience       19158 non-null int64\n",
      "enrolled_university       18772 non-null object\n",
      "education_level           18698 non-null object\n",
      "major_discipline          16345 non-null object\n",
      "experience                19093 non-null object\n",
      "company_size              13220 non-null object\n",
      "company_type              13018 non-null object\n",
      "last_new_job              18735 non-null object\n",
      "training_hours            19158 non-null int64\n",
      "target                    19158 non-null float64\n",
      "dtypes: float64(2), int64(3), object(9)\n",
      "memory usage: 2.0+ MB\n"
     ]
    }
   ],
   "source": [
    "#type of values\n",
    "\n",
    "dataFrame_info = dataFrame.info();"
   ]
  },
  {
   "cell_type": "code",
   "execution_count": 24,
   "metadata": {},
   "outputs": [
    {
     "data": {
      "text/html": [
       "<div>\n",
       "<style scoped>\n",
       "    .dataframe tbody tr th:only-of-type {\n",
       "        vertical-align: middle;\n",
       "    }\n",
       "\n",
       "    .dataframe tbody tr th {\n",
       "        vertical-align: top;\n",
       "    }\n",
       "\n",
       "    .dataframe thead th {\n",
       "        text-align: right;\n",
       "    }\n",
       "</style>\n",
       "<table border=\"1\" class=\"dataframe\">\n",
       "  <thead>\n",
       "    <tr style=\"text-align: right;\">\n",
       "      <th></th>\n",
       "      <th>enrollee_id</th>\n",
       "      <th>city_development_index</th>\n",
       "      <th>relevent_experience</th>\n",
       "      <th>training_hours</th>\n",
       "      <th>target</th>\n",
       "    </tr>\n",
       "  </thead>\n",
       "  <tbody>\n",
       "    <tr>\n",
       "      <th>count</th>\n",
       "      <td>19158.000000</td>\n",
       "      <td>19158.000000</td>\n",
       "      <td>19158.000000</td>\n",
       "      <td>19158.000000</td>\n",
       "      <td>19158.000000</td>\n",
       "    </tr>\n",
       "    <tr>\n",
       "      <th>mean</th>\n",
       "      <td>16875.358179</td>\n",
       "      <td>0.828848</td>\n",
       "      <td>0.719908</td>\n",
       "      <td>65.366896</td>\n",
       "      <td>0.249348</td>\n",
       "    </tr>\n",
       "    <tr>\n",
       "      <th>std</th>\n",
       "      <td>9616.292592</td>\n",
       "      <td>0.123362</td>\n",
       "      <td>0.449056</td>\n",
       "      <td>60.058462</td>\n",
       "      <td>0.432647</td>\n",
       "    </tr>\n",
       "    <tr>\n",
       "      <th>min</th>\n",
       "      <td>1.000000</td>\n",
       "      <td>0.448000</td>\n",
       "      <td>0.000000</td>\n",
       "      <td>1.000000</td>\n",
       "      <td>0.000000</td>\n",
       "    </tr>\n",
       "    <tr>\n",
       "      <th>25%</th>\n",
       "      <td>8554.250000</td>\n",
       "      <td>0.740000</td>\n",
       "      <td>0.000000</td>\n",
       "      <td>23.000000</td>\n",
       "      <td>0.000000</td>\n",
       "    </tr>\n",
       "    <tr>\n",
       "      <th>50%</th>\n",
       "      <td>16982.500000</td>\n",
       "      <td>0.903000</td>\n",
       "      <td>1.000000</td>\n",
       "      <td>47.000000</td>\n",
       "      <td>0.000000</td>\n",
       "    </tr>\n",
       "    <tr>\n",
       "      <th>75%</th>\n",
       "      <td>25169.750000</td>\n",
       "      <td>0.920000</td>\n",
       "      <td>1.000000</td>\n",
       "      <td>88.000000</td>\n",
       "      <td>0.000000</td>\n",
       "    </tr>\n",
       "    <tr>\n",
       "      <th>max</th>\n",
       "      <td>33380.000000</td>\n",
       "      <td>0.949000</td>\n",
       "      <td>1.000000</td>\n",
       "      <td>336.000000</td>\n",
       "      <td>1.000000</td>\n",
       "    </tr>\n",
       "  </tbody>\n",
       "</table>\n",
       "</div>"
      ],
      "text/plain": [
       "        enrollee_id  city_development_index  relevent_experience  \\\n",
       "count  19158.000000            19158.000000         19158.000000   \n",
       "mean   16875.358179                0.828848             0.719908   \n",
       "std     9616.292592                0.123362             0.449056   \n",
       "min        1.000000                0.448000             0.000000   \n",
       "25%     8554.250000                0.740000             0.000000   \n",
       "50%    16982.500000                0.903000             1.000000   \n",
       "75%    25169.750000                0.920000             1.000000   \n",
       "max    33380.000000                0.949000             1.000000   \n",
       "\n",
       "       training_hours        target  \n",
       "count    19158.000000  19158.000000  \n",
       "mean        65.366896      0.249348  \n",
       "std         60.058462      0.432647  \n",
       "min          1.000000      0.000000  \n",
       "25%         23.000000      0.000000  \n",
       "50%         47.000000      0.000000  \n",
       "75%         88.000000      0.000000  \n",
       "max        336.000000      1.000000  "
      ]
     },
     "execution_count": 24,
     "metadata": {},
     "output_type": "execute_result"
    }
   ],
   "source": [
    "dataFrame.describe()"
   ]
  },
  {
   "cell_type": "markdown",
   "metadata": {},
   "source": [
    "## Missing Values"
   ]
  },
  {
   "cell_type": "code",
   "execution_count": 25,
   "metadata": {},
   "outputs": [
    {
     "data": {
      "text/html": [
       "<div>\n",
       "<style scoped>\n",
       "    .dataframe tbody tr th:only-of-type {\n",
       "        vertical-align: middle;\n",
       "    }\n",
       "\n",
       "    .dataframe tbody tr th {\n",
       "        vertical-align: top;\n",
       "    }\n",
       "\n",
       "    .dataframe thead th {\n",
       "        text-align: right;\n",
       "    }\n",
       "</style>\n",
       "<table border=\"1\" class=\"dataframe\">\n",
       "  <thead>\n",
       "    <tr style=\"text-align: right;\">\n",
       "      <th></th>\n",
       "      <th>Number of missing values</th>\n",
       "      <th>Percentage of missing values</th>\n",
       "    </tr>\n",
       "  </thead>\n",
       "  <tbody>\n",
       "    <tr>\n",
       "      <th>enrollee_id</th>\n",
       "      <td>0</td>\n",
       "      <td>0.000000</td>\n",
       "    </tr>\n",
       "    <tr>\n",
       "      <th>city</th>\n",
       "      <td>0</td>\n",
       "      <td>0.000000</td>\n",
       "    </tr>\n",
       "    <tr>\n",
       "      <th>city_development_index</th>\n",
       "      <td>0</td>\n",
       "      <td>0.000000</td>\n",
       "    </tr>\n",
       "    <tr>\n",
       "      <th>gender</th>\n",
       "      <td>4508</td>\n",
       "      <td>23.530640</td>\n",
       "    </tr>\n",
       "    <tr>\n",
       "      <th>relevent_experience</th>\n",
       "      <td>0</td>\n",
       "      <td>0.000000</td>\n",
       "    </tr>\n",
       "    <tr>\n",
       "      <th>enrolled_university</th>\n",
       "      <td>386</td>\n",
       "      <td>2.014824</td>\n",
       "    </tr>\n",
       "    <tr>\n",
       "      <th>education_level</th>\n",
       "      <td>460</td>\n",
       "      <td>2.401086</td>\n",
       "    </tr>\n",
       "    <tr>\n",
       "      <th>major_discipline</th>\n",
       "      <td>2813</td>\n",
       "      <td>14.683161</td>\n",
       "    </tr>\n",
       "    <tr>\n",
       "      <th>experience</th>\n",
       "      <td>65</td>\n",
       "      <td>0.339284</td>\n",
       "    </tr>\n",
       "    <tr>\n",
       "      <th>company_size</th>\n",
       "      <td>5938</td>\n",
       "      <td>30.994885</td>\n",
       "    </tr>\n",
       "    <tr>\n",
       "      <th>company_type</th>\n",
       "      <td>6140</td>\n",
       "      <td>32.049274</td>\n",
       "    </tr>\n",
       "    <tr>\n",
       "      <th>last_new_job</th>\n",
       "      <td>423</td>\n",
       "      <td>2.207955</td>\n",
       "    </tr>\n",
       "    <tr>\n",
       "      <th>training_hours</th>\n",
       "      <td>0</td>\n",
       "      <td>0.000000</td>\n",
       "    </tr>\n",
       "    <tr>\n",
       "      <th>target</th>\n",
       "      <td>0</td>\n",
       "      <td>0.000000</td>\n",
       "    </tr>\n",
       "  </tbody>\n",
       "</table>\n",
       "</div>"
      ],
      "text/plain": [
       "                        Number of missing values  Percentage of missing values\n",
       "enrollee_id                                    0                      0.000000\n",
       "city                                           0                      0.000000\n",
       "city_development_index                         0                      0.000000\n",
       "gender                                      4508                     23.530640\n",
       "relevent_experience                            0                      0.000000\n",
       "enrolled_university                          386                      2.014824\n",
       "education_level                              460                      2.401086\n",
       "major_discipline                            2813                     14.683161\n",
       "experience                                    65                      0.339284\n",
       "company_size                                5938                     30.994885\n",
       "company_type                                6140                     32.049274\n",
       "last_new_job                                 423                      2.207955\n",
       "training_hours                                 0                      0.000000\n",
       "target                                         0                      0.000000"
      ]
     },
     "execution_count": 25,
     "metadata": {},
     "output_type": "execute_result"
    }
   ],
   "source": [
    "missing_data = pd.DataFrame(dataFrame.isna().sum(), columns=[\n",
    "                            'Number of missing values'])\n",
    "missing_data['Percentage of missing values'] = missing_data['Number of missing values'].aggregate(\n",
    "    lambda x: (x/dataFrame.shape[0])*100)\n",
    "missing_data"
   ]
  },
  {
   "cell_type": "code",
   "execution_count": 26,
   "metadata": {},
   "outputs": [
    {
     "data": {
      "text/plain": [
       "8955"
      ]
     },
     "execution_count": 26,
     "metadata": {},
     "output_type": "execute_result"
    }
   ],
   "source": [
    "len(dataFrame.dropna())"
   ]
  },
  {
   "cell_type": "markdown",
   "metadata": {},
   "source": [
    "Even if it would be more convenient to delete all the rows that contain missing values, we'd rather not doing it because half of the rows have at least one missing values. For this reason we decided to choose another strategy and try to fill them."
   ]
  },
  {
   "cell_type": "markdown",
   "metadata": {},
   "source": [
    "### Deletion\n",
    "\n",
    "The first step was to delete all the rows that contained more than 6 missing values."
   ]
  },
  {
   "cell_type": "code",
   "execution_count": 27,
   "metadata": {},
   "outputs": [],
   "source": [
    "#save only the rows that have less than 6 missing values\n",
    "\n",
    "dataFrame = dataFrame[dataFrame.isnull().sum(axis=1) < 6]"
   ]
  },
  {
   "cell_type": "code",
   "execution_count": 28,
   "metadata": {},
   "outputs": [
    {
     "data": {
      "text/html": [
       "<div>\n",
       "<style scoped>\n",
       "    .dataframe tbody tr th:only-of-type {\n",
       "        vertical-align: middle;\n",
       "    }\n",
       "\n",
       "    .dataframe tbody tr th {\n",
       "        vertical-align: top;\n",
       "    }\n",
       "\n",
       "    .dataframe thead th {\n",
       "        text-align: right;\n",
       "    }\n",
       "</style>\n",
       "<table border=\"1\" class=\"dataframe\">\n",
       "  <thead>\n",
       "    <tr style=\"text-align: right;\">\n",
       "      <th></th>\n",
       "      <th>Number of missing values</th>\n",
       "      <th>Percentage of missing values</th>\n",
       "    </tr>\n",
       "  </thead>\n",
       "  <tbody>\n",
       "    <tr>\n",
       "      <th>enrollee_id</th>\n",
       "      <td>0</td>\n",
       "      <td>0.000000</td>\n",
       "    </tr>\n",
       "    <tr>\n",
       "      <th>city</th>\n",
       "      <td>0</td>\n",
       "      <td>0.000000</td>\n",
       "    </tr>\n",
       "    <tr>\n",
       "      <th>city_development_index</th>\n",
       "      <td>0</td>\n",
       "      <td>0.000000</td>\n",
       "    </tr>\n",
       "    <tr>\n",
       "      <th>gender</th>\n",
       "      <td>4438</td>\n",
       "      <td>23.255083</td>\n",
       "    </tr>\n",
       "    <tr>\n",
       "      <th>relevent_experience</th>\n",
       "      <td>0</td>\n",
       "      <td>0.000000</td>\n",
       "    </tr>\n",
       "    <tr>\n",
       "      <th>enrolled_university</th>\n",
       "      <td>332</td>\n",
       "      <td>1.739677</td>\n",
       "    </tr>\n",
       "    <tr>\n",
       "      <th>education_level</th>\n",
       "      <td>392</td>\n",
       "      <td>2.054077</td>\n",
       "    </tr>\n",
       "    <tr>\n",
       "      <th>major_discipline</th>\n",
       "      <td>2739</td>\n",
       "      <td>14.352337</td>\n",
       "    </tr>\n",
       "    <tr>\n",
       "      <th>experience</th>\n",
       "      <td>56</td>\n",
       "      <td>0.293440</td>\n",
       "    </tr>\n",
       "    <tr>\n",
       "      <th>company_size</th>\n",
       "      <td>5864</td>\n",
       "      <td>30.727311</td>\n",
       "    </tr>\n",
       "    <tr>\n",
       "      <th>company_type</th>\n",
       "      <td>6066</td>\n",
       "      <td>31.785789</td>\n",
       "    </tr>\n",
       "    <tr>\n",
       "      <th>last_new_job</th>\n",
       "      <td>390</td>\n",
       "      <td>2.043597</td>\n",
       "    </tr>\n",
       "    <tr>\n",
       "      <th>training_hours</th>\n",
       "      <td>0</td>\n",
       "      <td>0.000000</td>\n",
       "    </tr>\n",
       "    <tr>\n",
       "      <th>target</th>\n",
       "      <td>0</td>\n",
       "      <td>0.000000</td>\n",
       "    </tr>\n",
       "  </tbody>\n",
       "</table>\n",
       "</div>"
      ],
      "text/plain": [
       "                        Number of missing values  Percentage of missing values\n",
       "enrollee_id                                    0                      0.000000\n",
       "city                                           0                      0.000000\n",
       "city_development_index                         0                      0.000000\n",
       "gender                                      4438                     23.255083\n",
       "relevent_experience                            0                      0.000000\n",
       "enrolled_university                          332                      1.739677\n",
       "education_level                              392                      2.054077\n",
       "major_discipline                            2739                     14.352337\n",
       "experience                                    56                      0.293440\n",
       "company_size                                5864                     30.727311\n",
       "company_type                                6066                     31.785789\n",
       "last_new_job                                 390                      2.043597\n",
       "training_hours                                 0                      0.000000\n",
       "target                                         0                      0.000000"
      ]
     },
     "execution_count": 28,
     "metadata": {},
     "output_type": "execute_result"
    }
   ],
   "source": [
    "missing_data = pd.DataFrame(dataFrame.isna().sum(), columns=[\n",
    "                            'Number of missing values'])\n",
    "missing_data['Percentage of missing values'] = missing_data['Number of missing values'].aggregate(\n",
    "    lambda x: (x/dataFrame.shape[0])*100)\n",
    "missing_data"
   ]
  },
  {
   "cell_type": "markdown",
   "metadata": {},
   "source": [
    "### Deduction\n",
    "\n",
    "Some of the features are related among them and missing values can be manually filled applying deduction."
   ]
  },
  {
   "cell_type": "markdown",
   "metadata": {},
   "source": [
    "#### Major Discipline"
   ]
  },
  {
   "cell_type": "code",
   "execution_count": 29,
   "metadata": {},
   "outputs": [
    {
     "data": {
      "text/plain": [
       "True    307\n",
       "Name: major_discipline, dtype: int64"
      ]
     },
     "execution_count": 29,
     "metadata": {},
     "output_type": "execute_result"
    }
   ],
   "source": [
    "dataFrame[dataFrame['education_level'] == \"Primary School\"][\"major_discipline\"].isna().value_counts()"
   ]
  },
  {
   "cell_type": "code",
   "execution_count": 30,
   "metadata": {},
   "outputs": [
    {
     "data": {
      "text/plain": [
       "True    2013\n",
       "Name: major_discipline, dtype: int64"
      ]
     },
     "execution_count": 30,
     "metadata": {},
     "output_type": "execute_result"
    }
   ],
   "source": [
    "dataFrame[dataFrame['education_level'] == \"High School\"][\"major_discipline\"].isna().value_counts()"
   ]
  },
  {
   "cell_type": "markdown",
   "metadata": {},
   "source": [
    "The value of major discipline is always null if the education level is primary school or high school. This fact is reletad to the organizazion of educational system because neither primary school or high school have a major discipline. Thus, we decided to set all the values of major discipline corresponding to primary school and high school to *No Major*."
   ]
  },
  {
   "cell_type": "code",
   "execution_count": 31,
   "metadata": {},
   "outputs": [],
   "source": [
    "dataFrame['major_discipline'] = np.where(\n",
    "    dataFrame['education_level'] == \"Primary School\", \"No Major\", dataFrame['major_discipline'])\n",
    "dataFrame['major_discipline'] = np.where(\n",
    "    dataFrame['education_level'] == \"High School\", \"No Major\", dataFrame['major_discipline'])"
   ]
  },
  {
   "cell_type": "code",
   "execution_count": 32,
   "metadata": {},
   "outputs": [
    {
     "data": {
      "text/html": [
       "<div>\n",
       "<style scoped>\n",
       "    .dataframe tbody tr th:only-of-type {\n",
       "        vertical-align: middle;\n",
       "    }\n",
       "\n",
       "    .dataframe tbody tr th {\n",
       "        vertical-align: top;\n",
       "    }\n",
       "\n",
       "    .dataframe thead th {\n",
       "        text-align: right;\n",
       "    }\n",
       "</style>\n",
       "<table border=\"1\" class=\"dataframe\">\n",
       "  <thead>\n",
       "    <tr style=\"text-align: right;\">\n",
       "      <th></th>\n",
       "      <th>enrollee_id</th>\n",
       "      <th>city</th>\n",
       "      <th>city_development_index</th>\n",
       "      <th>gender</th>\n",
       "      <th>relevent_experience</th>\n",
       "      <th>enrolled_university</th>\n",
       "      <th>education_level</th>\n",
       "      <th>major_discipline</th>\n",
       "      <th>experience</th>\n",
       "      <th>company_size</th>\n",
       "      <th>company_type</th>\n",
       "      <th>last_new_job</th>\n",
       "      <th>training_hours</th>\n",
       "      <th>target</th>\n",
       "    </tr>\n",
       "  </thead>\n",
       "  <tbody>\n",
       "    <tr>\n",
       "      <th>13</th>\n",
       "      <td>5826</td>\n",
       "      <td>city_21</td>\n",
       "      <td>0.624</td>\n",
       "      <td>Male</td>\n",
       "      <td>0</td>\n",
       "      <td>NaN</td>\n",
       "      <td>NaN</td>\n",
       "      <td>NaN</td>\n",
       "      <td>2</td>\n",
       "      <td>NaN</td>\n",
       "      <td>NaN</td>\n",
       "      <td>never</td>\n",
       "      <td>24</td>\n",
       "      <td>0.0</td>\n",
       "    </tr>\n",
       "    <tr>\n",
       "      <th>39</th>\n",
       "      <td>24659</td>\n",
       "      <td>city_71</td>\n",
       "      <td>0.884</td>\n",
       "      <td>Male</td>\n",
       "      <td>0</td>\n",
       "      <td>no_enrollment</td>\n",
       "      <td>NaN</td>\n",
       "      <td>NaN</td>\n",
       "      <td>3</td>\n",
       "      <td>NaN</td>\n",
       "      <td>NaN</td>\n",
       "      <td>never</td>\n",
       "      <td>106</td>\n",
       "      <td>0.0</td>\n",
       "    </tr>\n",
       "    <tr>\n",
       "      <th>69</th>\n",
       "      <td>4830</td>\n",
       "      <td>city_90</td>\n",
       "      <td>0.698</td>\n",
       "      <td>NaN</td>\n",
       "      <td>0</td>\n",
       "      <td>NaN</td>\n",
       "      <td>NaN</td>\n",
       "      <td>NaN</td>\n",
       "      <td>2</td>\n",
       "      <td>NaN</td>\n",
       "      <td>Pvt Ltd</td>\n",
       "      <td>never</td>\n",
       "      <td>228</td>\n",
       "      <td>1.0</td>\n",
       "    </tr>\n",
       "    <tr>\n",
       "      <th>136</th>\n",
       "      <td>3116</td>\n",
       "      <td>city_21</td>\n",
       "      <td>0.624</td>\n",
       "      <td>Male</td>\n",
       "      <td>0</td>\n",
       "      <td>no_enrollment</td>\n",
       "      <td>NaN</td>\n",
       "      <td>NaN</td>\n",
       "      <td>3</td>\n",
       "      <td>NaN</td>\n",
       "      <td>NaN</td>\n",
       "      <td>1</td>\n",
       "      <td>24</td>\n",
       "      <td>0.0</td>\n",
       "    </tr>\n",
       "    <tr>\n",
       "      <th>153</th>\n",
       "      <td>8241</td>\n",
       "      <td>city_16</td>\n",
       "      <td>0.910</td>\n",
       "      <td>NaN</td>\n",
       "      <td>1</td>\n",
       "      <td>no_enrollment</td>\n",
       "      <td>NaN</td>\n",
       "      <td>NaN</td>\n",
       "      <td>11</td>\n",
       "      <td>NaN</td>\n",
       "      <td>NaN</td>\n",
       "      <td>1</td>\n",
       "      <td>4</td>\n",
       "      <td>0.0</td>\n",
       "    </tr>\n",
       "    <tr>\n",
       "      <th>...</th>\n",
       "      <td>...</td>\n",
       "      <td>...</td>\n",
       "      <td>...</td>\n",
       "      <td>...</td>\n",
       "      <td>...</td>\n",
       "      <td>...</td>\n",
       "      <td>...</td>\n",
       "      <td>...</td>\n",
       "      <td>...</td>\n",
       "      <td>...</td>\n",
       "      <td>...</td>\n",
       "      <td>...</td>\n",
       "      <td>...</td>\n",
       "      <td>...</td>\n",
       "    </tr>\n",
       "    <tr>\n",
       "      <th>19095</th>\n",
       "      <td>15806</td>\n",
       "      <td>city_165</td>\n",
       "      <td>0.903</td>\n",
       "      <td>NaN</td>\n",
       "      <td>0</td>\n",
       "      <td>no_enrollment</td>\n",
       "      <td>NaN</td>\n",
       "      <td>NaN</td>\n",
       "      <td>3</td>\n",
       "      <td>NaN</td>\n",
       "      <td>Public Sector</td>\n",
       "      <td>never</td>\n",
       "      <td>62</td>\n",
       "      <td>0.0</td>\n",
       "    </tr>\n",
       "    <tr>\n",
       "      <th>19100</th>\n",
       "      <td>16368</td>\n",
       "      <td>city_65</td>\n",
       "      <td>0.802</td>\n",
       "      <td>NaN</td>\n",
       "      <td>0</td>\n",
       "      <td>no_enrollment</td>\n",
       "      <td>NaN</td>\n",
       "      <td>NaN</td>\n",
       "      <td>4</td>\n",
       "      <td>NaN</td>\n",
       "      <td>NaN</td>\n",
       "      <td>2</td>\n",
       "      <td>304</td>\n",
       "      <td>0.0</td>\n",
       "    </tr>\n",
       "    <tr>\n",
       "      <th>19118</th>\n",
       "      <td>12211</td>\n",
       "      <td>city_126</td>\n",
       "      <td>0.479</td>\n",
       "      <td>NaN</td>\n",
       "      <td>0</td>\n",
       "      <td>no_enrollment</td>\n",
       "      <td>NaN</td>\n",
       "      <td>NaN</td>\n",
       "      <td>1</td>\n",
       "      <td>NaN</td>\n",
       "      <td>NaN</td>\n",
       "      <td>never</td>\n",
       "      <td>316</td>\n",
       "      <td>1.0</td>\n",
       "    </tr>\n",
       "    <tr>\n",
       "      <th>19142</th>\n",
       "      <td>13750</td>\n",
       "      <td>city_40</td>\n",
       "      <td>0.776</td>\n",
       "      <td>Male</td>\n",
       "      <td>1</td>\n",
       "      <td>no_enrollment</td>\n",
       "      <td>NaN</td>\n",
       "      <td>NaN</td>\n",
       "      <td>5</td>\n",
       "      <td>10/49</td>\n",
       "      <td>Early Stage Startup</td>\n",
       "      <td>1</td>\n",
       "      <td>26</td>\n",
       "      <td>0.0</td>\n",
       "    </tr>\n",
       "    <tr>\n",
       "      <th>19151</th>\n",
       "      <td>11385</td>\n",
       "      <td>city_149</td>\n",
       "      <td>0.689</td>\n",
       "      <td>Male</td>\n",
       "      <td>0</td>\n",
       "      <td>Full time course</td>\n",
       "      <td>Graduate</td>\n",
       "      <td>NaN</td>\n",
       "      <td>2</td>\n",
       "      <td>NaN</td>\n",
       "      <td>NaN</td>\n",
       "      <td>1</td>\n",
       "      <td>60</td>\n",
       "      <td>0.0</td>\n",
       "    </tr>\n",
       "  </tbody>\n",
       "</table>\n",
       "<p>419 rows × 14 columns</p>\n",
       "</div>"
      ],
      "text/plain": [
       "       enrollee_id      city  city_development_index gender  \\\n",
       "13            5826   city_21                   0.624   Male   \n",
       "39           24659   city_71                   0.884   Male   \n",
       "69            4830   city_90                   0.698    NaN   \n",
       "136           3116   city_21                   0.624   Male   \n",
       "153           8241   city_16                   0.910    NaN   \n",
       "...            ...       ...                     ...    ...   \n",
       "19095        15806  city_165                   0.903    NaN   \n",
       "19100        16368   city_65                   0.802    NaN   \n",
       "19118        12211  city_126                   0.479    NaN   \n",
       "19142        13750   city_40                   0.776   Male   \n",
       "19151        11385  city_149                   0.689   Male   \n",
       "\n",
       "       relevent_experience enrolled_university education_level  \\\n",
       "13                       0                 NaN             NaN   \n",
       "39                       0       no_enrollment             NaN   \n",
       "69                       0                 NaN             NaN   \n",
       "136                      0       no_enrollment             NaN   \n",
       "153                      1       no_enrollment             NaN   \n",
       "...                    ...                 ...             ...   \n",
       "19095                    0       no_enrollment             NaN   \n",
       "19100                    0       no_enrollment             NaN   \n",
       "19118                    0       no_enrollment             NaN   \n",
       "19142                    1       no_enrollment             NaN   \n",
       "19151                    0    Full time course        Graduate   \n",
       "\n",
       "      major_discipline experience company_size         company_type  \\\n",
       "13                 NaN          2          NaN                  NaN   \n",
       "39                 NaN          3          NaN                  NaN   \n",
       "69                 NaN          2          NaN              Pvt Ltd   \n",
       "136                NaN          3          NaN                  NaN   \n",
       "153                NaN         11          NaN                  NaN   \n",
       "...                ...        ...          ...                  ...   \n",
       "19095              NaN          3          NaN        Public Sector   \n",
       "19100              NaN          4          NaN                  NaN   \n",
       "19118              NaN          1          NaN                  NaN   \n",
       "19142              NaN          5        10/49  Early Stage Startup   \n",
       "19151              NaN          2          NaN                  NaN   \n",
       "\n",
       "      last_new_job  training_hours  target  \n",
       "13           never              24     0.0  \n",
       "39           never             106     0.0  \n",
       "69           never             228     1.0  \n",
       "136              1              24     0.0  \n",
       "153              1               4     0.0  \n",
       "...            ...             ...     ...  \n",
       "19095        never              62     0.0  \n",
       "19100            2             304     0.0  \n",
       "19118        never             316     1.0  \n",
       "19142            1              26     0.0  \n",
       "19151            1              60     0.0  \n",
       "\n",
       "[419 rows x 14 columns]"
      ]
     },
     "execution_count": 32,
     "metadata": {},
     "output_type": "execute_result"
    }
   ],
   "source": [
    "dataFrame[(dataFrame['major_discipline'].isna())]"
   ]
  },
  {
   "cell_type": "markdown",
   "metadata": {},
   "source": [
    "We still have 419 rows in which the major discipline is missing. Since no more reasoning can be done, these values should be filled by using prediction."
   ]
  },
  {
   "cell_type": "markdown",
   "metadata": {},
   "source": [
    "#### Experience"
   ]
  },
  {
   "cell_type": "markdown",
   "metadata": {},
   "source": [
    "If there is no information about \n",
    "- experience\n",
    "- company size\n",
    "- company type\n",
    "- last new job\n",
    "\n",
    "and the relevent experience is 0 we can assume that the subject has not experience at all. We can also assume that, if last new job is set to \"never\", then also in this case the subject should have no experience. "
   ]
  },
  {
   "cell_type": "code",
   "execution_count": 33,
   "metadata": {},
   "outputs": [],
   "source": [
    "dataFrame['experience'] = np.where(((dataFrame['experience'].isna()) &\n",
    "                                    (dataFrame['company_size'].isna()) &\n",
    "                                    (dataFrame['company_type'].isna()) &\n",
    "                                    ((dataFrame['last_new_job'].isna()) | \n",
    "                                     (dataFrame['last_new_job'] == \"never\")) &\n",
    "                                    (dataFrame['relevent_experience'] == 0)),\n",
    "                                   \"<1\", dataFrame['experience'])"
   ]
  },
  {
   "cell_type": "markdown",
   "metadata": {},
   "source": [
    "Again, since it is not possible to apply further reasoning, we have to use prediction algorithms."
   ]
  },
  {
   "cell_type": "markdown",
   "metadata": {},
   "source": [
    "#### Company Size and Company Type\n",
    "\n",
    "Missing values of company size and type are, in some way, related. However, we could not use reasoning for them because there is no unique correspondance between them. "
   ]
  },
  {
   "cell_type": "markdown",
   "metadata": {},
   "source": [
    "#### Last New Job"
   ]
  },
  {
   "cell_type": "code",
   "execution_count": 34,
   "metadata": {},
   "outputs": [
    {
     "data": {
      "text/html": [
       "<div>\n",
       "<style scoped>\n",
       "    .dataframe tbody tr th:only-of-type {\n",
       "        vertical-align: middle;\n",
       "    }\n",
       "\n",
       "    .dataframe tbody tr th {\n",
       "        vertical-align: top;\n",
       "    }\n",
       "\n",
       "    .dataframe thead th {\n",
       "        text-align: right;\n",
       "    }\n",
       "</style>\n",
       "<table border=\"1\" class=\"dataframe\">\n",
       "  <thead>\n",
       "    <tr style=\"text-align: right;\">\n",
       "      <th></th>\n",
       "      <th>enrollee_id</th>\n",
       "      <th>city</th>\n",
       "      <th>city_development_index</th>\n",
       "      <th>gender</th>\n",
       "      <th>relevent_experience</th>\n",
       "      <th>enrolled_university</th>\n",
       "      <th>education_level</th>\n",
       "      <th>major_discipline</th>\n",
       "      <th>experience</th>\n",
       "      <th>company_size</th>\n",
       "      <th>company_type</th>\n",
       "      <th>last_new_job</th>\n",
       "      <th>training_hours</th>\n",
       "      <th>target</th>\n",
       "    </tr>\n",
       "  </thead>\n",
       "  <tbody>\n",
       "    <tr>\n",
       "      <th>58</th>\n",
       "      <td>13478</td>\n",
       "      <td>city_21</td>\n",
       "      <td>0.624</td>\n",
       "      <td>NaN</td>\n",
       "      <td>1</td>\n",
       "      <td>Full time course</td>\n",
       "      <td>Graduate</td>\n",
       "      <td>STEM</td>\n",
       "      <td>2</td>\n",
       "      <td>10/49</td>\n",
       "      <td>Funded Startup</td>\n",
       "      <td>NaN</td>\n",
       "      <td>32</td>\n",
       "      <td>1.0</td>\n",
       "    </tr>\n",
       "    <tr>\n",
       "      <th>64</th>\n",
       "      <td>9572</td>\n",
       "      <td>city_11</td>\n",
       "      <td>0.550</td>\n",
       "      <td>NaN</td>\n",
       "      <td>0</td>\n",
       "      <td>Full time course</td>\n",
       "      <td>High School</td>\n",
       "      <td>No Major</td>\n",
       "      <td>3</td>\n",
       "      <td>NaN</td>\n",
       "      <td>NaN</td>\n",
       "      <td>NaN</td>\n",
       "      <td>98</td>\n",
       "      <td>0.0</td>\n",
       "    </tr>\n",
       "    <tr>\n",
       "      <th>90</th>\n",
       "      <td>19128</td>\n",
       "      <td>city_61</td>\n",
       "      <td>0.913</td>\n",
       "      <td>Male</td>\n",
       "      <td>0</td>\n",
       "      <td>Full time course</td>\n",
       "      <td>Graduate</td>\n",
       "      <td>STEM</td>\n",
       "      <td>4</td>\n",
       "      <td>NaN</td>\n",
       "      <td>NaN</td>\n",
       "      <td>NaN</td>\n",
       "      <td>140</td>\n",
       "      <td>0.0</td>\n",
       "    </tr>\n",
       "    <tr>\n",
       "      <th>135</th>\n",
       "      <td>23947</td>\n",
       "      <td>city_103</td>\n",
       "      <td>0.920</td>\n",
       "      <td>NaN</td>\n",
       "      <td>0</td>\n",
       "      <td>no_enrollment</td>\n",
       "      <td>Phd</td>\n",
       "      <td>STEM</td>\n",
       "      <td>&lt;1</td>\n",
       "      <td>NaN</td>\n",
       "      <td>NaN</td>\n",
       "      <td>NaN</td>\n",
       "      <td>70</td>\n",
       "      <td>0.0</td>\n",
       "    </tr>\n",
       "    <tr>\n",
       "      <th>180</th>\n",
       "      <td>27708</td>\n",
       "      <td>city_94</td>\n",
       "      <td>0.698</td>\n",
       "      <td>Male</td>\n",
       "      <td>0</td>\n",
       "      <td>Full time course</td>\n",
       "      <td>Graduate</td>\n",
       "      <td>STEM</td>\n",
       "      <td>5</td>\n",
       "      <td>5000-9999</td>\n",
       "      <td>NaN</td>\n",
       "      <td>NaN</td>\n",
       "      <td>24</td>\n",
       "      <td>1.0</td>\n",
       "    </tr>\n",
       "    <tr>\n",
       "      <th>...</th>\n",
       "      <td>...</td>\n",
       "      <td>...</td>\n",
       "      <td>...</td>\n",
       "      <td>...</td>\n",
       "      <td>...</td>\n",
       "      <td>...</td>\n",
       "      <td>...</td>\n",
       "      <td>...</td>\n",
       "      <td>...</td>\n",
       "      <td>...</td>\n",
       "      <td>...</td>\n",
       "      <td>...</td>\n",
       "      <td>...</td>\n",
       "      <td>...</td>\n",
       "    </tr>\n",
       "    <tr>\n",
       "      <th>18944</th>\n",
       "      <td>2678</td>\n",
       "      <td>city_104</td>\n",
       "      <td>0.924</td>\n",
       "      <td>NaN</td>\n",
       "      <td>0</td>\n",
       "      <td>no_enrollment</td>\n",
       "      <td>Phd</td>\n",
       "      <td>STEM</td>\n",
       "      <td>&gt;20</td>\n",
       "      <td>50-99</td>\n",
       "      <td>Pvt Ltd</td>\n",
       "      <td>NaN</td>\n",
       "      <td>27</td>\n",
       "      <td>0.0</td>\n",
       "    </tr>\n",
       "    <tr>\n",
       "      <th>19043</th>\n",
       "      <td>17966</td>\n",
       "      <td>city_114</td>\n",
       "      <td>0.926</td>\n",
       "      <td>NaN</td>\n",
       "      <td>0</td>\n",
       "      <td>Full time course</td>\n",
       "      <td>High School</td>\n",
       "      <td>No Major</td>\n",
       "      <td>3</td>\n",
       "      <td>NaN</td>\n",
       "      <td>NaN</td>\n",
       "      <td>NaN</td>\n",
       "      <td>20</td>\n",
       "      <td>0.0</td>\n",
       "    </tr>\n",
       "    <tr>\n",
       "      <th>19106</th>\n",
       "      <td>18131</td>\n",
       "      <td>city_100</td>\n",
       "      <td>0.887</td>\n",
       "      <td>Male</td>\n",
       "      <td>0</td>\n",
       "      <td>Full time course</td>\n",
       "      <td>Masters</td>\n",
       "      <td>STEM</td>\n",
       "      <td>6</td>\n",
       "      <td>100-500</td>\n",
       "      <td>Public Sector</td>\n",
       "      <td>NaN</td>\n",
       "      <td>8</td>\n",
       "      <td>0.0</td>\n",
       "    </tr>\n",
       "    <tr>\n",
       "      <th>19113</th>\n",
       "      <td>11622</td>\n",
       "      <td>city_19</td>\n",
       "      <td>0.682</td>\n",
       "      <td>NaN</td>\n",
       "      <td>0</td>\n",
       "      <td>Full time course</td>\n",
       "      <td>Graduate</td>\n",
       "      <td>STEM</td>\n",
       "      <td>6</td>\n",
       "      <td>NaN</td>\n",
       "      <td>NaN</td>\n",
       "      <td>NaN</td>\n",
       "      <td>53</td>\n",
       "      <td>0.0</td>\n",
       "    </tr>\n",
       "    <tr>\n",
       "      <th>19139</th>\n",
       "      <td>5603</td>\n",
       "      <td>city_21</td>\n",
       "      <td>0.624</td>\n",
       "      <td>NaN</td>\n",
       "      <td>1</td>\n",
       "      <td>Full time course</td>\n",
       "      <td>Graduate</td>\n",
       "      <td>STEM</td>\n",
       "      <td>4</td>\n",
       "      <td>NaN</td>\n",
       "      <td>NaN</td>\n",
       "      <td>NaN</td>\n",
       "      <td>13</td>\n",
       "      <td>0.0</td>\n",
       "    </tr>\n",
       "  </tbody>\n",
       "</table>\n",
       "<p>390 rows × 14 columns</p>\n",
       "</div>"
      ],
      "text/plain": [
       "       enrollee_id      city  city_development_index gender  \\\n",
       "58           13478   city_21                   0.624    NaN   \n",
       "64            9572   city_11                   0.550    NaN   \n",
       "90           19128   city_61                   0.913   Male   \n",
       "135          23947  city_103                   0.920    NaN   \n",
       "180          27708   city_94                   0.698   Male   \n",
       "...            ...       ...                     ...    ...   \n",
       "18944         2678  city_104                   0.924    NaN   \n",
       "19043        17966  city_114                   0.926    NaN   \n",
       "19106        18131  city_100                   0.887   Male   \n",
       "19113        11622   city_19                   0.682    NaN   \n",
       "19139         5603   city_21                   0.624    NaN   \n",
       "\n",
       "       relevent_experience enrolled_university education_level  \\\n",
       "58                       1    Full time course        Graduate   \n",
       "64                       0    Full time course     High School   \n",
       "90                       0    Full time course        Graduate   \n",
       "135                      0       no_enrollment             Phd   \n",
       "180                      0    Full time course        Graduate   \n",
       "...                    ...                 ...             ...   \n",
       "18944                    0       no_enrollment             Phd   \n",
       "19043                    0    Full time course     High School   \n",
       "19106                    0    Full time course         Masters   \n",
       "19113                    0    Full time course        Graduate   \n",
       "19139                    1    Full time course        Graduate   \n",
       "\n",
       "      major_discipline experience company_size    company_type last_new_job  \\\n",
       "58                STEM          2        10/49  Funded Startup          NaN   \n",
       "64            No Major          3          NaN             NaN          NaN   \n",
       "90                STEM          4          NaN             NaN          NaN   \n",
       "135               STEM         <1          NaN             NaN          NaN   \n",
       "180               STEM          5    5000-9999             NaN          NaN   \n",
       "...                ...        ...          ...             ...          ...   \n",
       "18944             STEM        >20        50-99         Pvt Ltd          NaN   \n",
       "19043         No Major          3          NaN             NaN          NaN   \n",
       "19106             STEM          6      100-500   Public Sector          NaN   \n",
       "19113             STEM          6          NaN             NaN          NaN   \n",
       "19139             STEM          4          NaN             NaN          NaN   \n",
       "\n",
       "       training_hours  target  \n",
       "58                 32     1.0  \n",
       "64                 98     0.0  \n",
       "90                140     0.0  \n",
       "135                70     0.0  \n",
       "180                24     1.0  \n",
       "...               ...     ...  \n",
       "18944              27     0.0  \n",
       "19043              20     0.0  \n",
       "19106               8     0.0  \n",
       "19113              53     0.0  \n",
       "19139              13     0.0  \n",
       "\n",
       "[390 rows x 14 columns]"
      ]
     },
     "execution_count": 34,
     "metadata": {},
     "output_type": "execute_result"
    }
   ],
   "source": [
    "dataFrame[dataFrame['last_new_job'].isna()]"
   ]
  },
  {
   "cell_type": "markdown",
   "metadata": {},
   "source": [
    "The column \"last_new_job\" tells us how many years have last since that person has changed his job for the last time. That is, a person who is working for the first time has never changed his/her job. Thus, we replaced this type of missing values with *never*."
   ]
  },
  {
   "cell_type": "code",
   "execution_count": 35,
   "metadata": {},
   "outputs": [],
   "source": [
    "dataFrame['last_new_job'] = np.where((((dataFrame['experience'] == \"<1\") | \n",
    "                                       dataFrame['experience'].isna()) & \n",
    "                                      (dataFrame['last_new_job'].isna())), \n",
    "                                     \"never\", \n",
    "                                     dataFrame['last_new_job'])"
   ]
  },
  {
   "cell_type": "markdown",
   "metadata": {},
   "source": [
    "### Prediction\n",
    "\n",
    "For the prediction, we used all the columns except the one we were going to predict, the target column and the enrollee_id column. We did the prediction using DataWig, a framework for learning models to impute missing values in tables."
   ]
  },
  {
   "cell_type": "code",
   "execution_count": 36,
   "metadata": {},
   "outputs": [
    {
     "data": {
      "text/plain": [
       "Index(['enrollee_id', 'city', 'city_development_index', 'gender',\n",
       "       'relevent_experience', 'enrolled_university', 'education_level',\n",
       "       'major_discipline', 'experience', 'company_size', 'company_type',\n",
       "       'last_new_job', 'training_hours', 'target'],\n",
       "      dtype='object')"
      ]
     },
     "execution_count": 36,
     "metadata": {},
     "output_type": "execute_result"
    }
   ],
   "source": [
    "dataFrame.columns"
   ]
  },
  {
   "cell_type": "code",
   "execution_count": 37,
   "metadata": {},
   "outputs": [],
   "source": [
    "def prediction(df, input_columns, column_to_be_predicted, path='imputer_model', num_epochs=100):\n",
    "\n",
    "    '''\n",
    "    This function is used to predict missing values by using datawig. It takes as input\n",
    "    a dataframe (with no missing values), the column(s) containing information about the \n",
    "    column we want to impute (list of name of those columns as strings), \n",
    "    the column we'd like to impute values for (name of the column as a string),\n",
    "    the path for storing the imputer and the number of epochs to be done\n",
    "    and returns an imputer that predicts a particular feature\n",
    "    \n",
    "    '''\n",
    "    \n",
    "    #Initialize a SimpleImputer model\n",
    "    imputer = datawig.SimpleImputer(\n",
    "    input_columns = input_columns, \n",
    "    output_column =  column_to_be_predicted, \n",
    "    output_path = path \n",
    "    )\n",
    "\n",
    "    #Fit an imputer model on the train data\n",
    "    imputer.fit(train_df=df, num_epochs=num_epochs)\n",
    "    \n",
    "    return imputer"
   ]
  },
  {
   "cell_type": "markdown",
   "metadata": {},
   "source": [
    "#### Gender"
   ]
  },
  {
   "cell_type": "code",
   "execution_count": 38,
   "metadata": {},
   "outputs": [
    {
     "name": "stderr",
     "output_type": "stream",
     "text": [
      "2021-05-19 15:36:50,529 [INFO]  NumExpr defaulting to 6 threads.\n",
      "2021-05-19 15:36:56,531 [INFO]  \n",
      "========== start: fit model\n",
      "2021-05-19 15:36:56,532 [WARNING]  Already bound, ignoring bind()\n",
      "2021-05-19 15:36:58,817 [INFO]  Epoch[0] Batch [0-330]\tSpeed: 2605.51 samples/sec\tcross-entropy=0.350056\tgender-accuracy=0.904834\n",
      "2021-05-19 15:37:00,848 [INFO]  Epoch[0] Train-cross-entropy=0.344722\n",
      "2021-05-19 15:37:00,849 [INFO]  Epoch[0] Train-gender-accuracy=0.903357\n",
      "2021-05-19 15:37:00,850 [INFO]  Epoch[0] Time cost=4.316\n",
      "2021-05-19 15:37:00,947 [INFO]  Saved checkpoint to \"imputers\\imputers_train\\gender_imputer_model\\model-0000.params\"\n",
      "2021-05-19 15:37:01,217 [INFO]  Epoch[0] Validation-cross-entropy=0.315748\n",
      "2021-05-19 15:37:01,218 [INFO]  Epoch[0] Validation-gender-accuracy=0.908784\n",
      "2021-05-19 15:37:03,108 [INFO]  Epoch[1] Batch [0-330]\tSpeed: 2804.10 samples/sec\tcross-entropy=0.320661\tgender-accuracy=0.905400\n",
      "2021-05-19 15:37:04,959 [INFO]  Epoch[1] Train-cross-entropy=0.325851\n",
      "2021-05-19 15:37:04,959 [INFO]  Epoch[1] Train-gender-accuracy=0.903642\n",
      "2021-05-19 15:37:04,960 [INFO]  Epoch[1] Time cost=3.741\n",
      "2021-05-19 15:37:04,964 [INFO]  Saved checkpoint to \"imputers\\imputers_train\\gender_imputer_model\\model-0001.params\"\n",
      "2021-05-19 15:37:05,222 [INFO]  Epoch[1] Validation-cross-entropy=0.311256\n",
      "2021-05-19 15:37:05,223 [INFO]  Epoch[1] Validation-gender-accuracy=0.908784\n",
      "2021-05-19 15:37:07,080 [INFO]  Epoch[2] Batch [0-330]\tSpeed: 2853.09 samples/sec\tcross-entropy=0.314566\tgender-accuracy=0.905400\n",
      "2021-05-19 15:37:08,924 [INFO]  Epoch[2] Train-cross-entropy=0.320893\n",
      "2021-05-19 15:37:08,925 [INFO]  Epoch[2] Train-gender-accuracy=0.903642\n",
      "2021-05-19 15:37:08,926 [INFO]  Epoch[2] Time cost=3.702\n",
      "2021-05-19 15:37:08,930 [INFO]  Saved checkpoint to \"imputers\\imputers_train\\gender_imputer_model\\model-0002.params\"\n",
      "2021-05-19 15:37:09,193 [INFO]  Epoch[2] Validation-cross-entropy=0.310022\n",
      "2021-05-19 15:37:09,194 [INFO]  Epoch[2] Validation-gender-accuracy=0.908784\n",
      "2021-05-19 15:37:11,062 [INFO]  Epoch[3] Batch [0-330]\tSpeed: 2840.91 samples/sec\tcross-entropy=0.311320\tgender-accuracy=0.905400\n",
      "2021-05-19 15:37:12,918 [INFO]  Epoch[3] Train-cross-entropy=0.318069\n",
      "2021-05-19 15:37:12,919 [INFO]  Epoch[3] Train-gender-accuracy=0.903547\n",
      "2021-05-19 15:37:12,920 [INFO]  Epoch[3] Time cost=3.724\n",
      "2021-05-19 15:37:12,924 [INFO]  Saved checkpoint to \"imputers\\imputers_train\\gender_imputer_model\\model-0003.params\"\n",
      "2021-05-19 15:37:13,189 [INFO]  Epoch[3] Validation-cross-entropy=0.310060\n",
      "2021-05-19 15:37:13,190 [INFO]  Epoch[3] Validation-gender-accuracy=0.908784\n",
      "2021-05-19 15:37:15,093 [INFO]  Epoch[4] Batch [0-330]\tSpeed: 2783.54 samples/sec\tcross-entropy=0.309297\tgender-accuracy=0.905400\n",
      "2021-05-19 15:37:16,960 [INFO]  Epoch[4] Train-cross-entropy=0.316264\n",
      "2021-05-19 15:37:16,962 [INFO]  Epoch[4] Train-gender-accuracy=0.903547\n",
      "2021-05-19 15:37:16,963 [INFO]  Epoch[4] Time cost=3.772\n",
      "2021-05-19 15:37:17,020 [INFO]  Saved checkpoint to \"imputers\\imputers_train\\gender_imputer_model\\model-0004.params\"\n",
      "2021-05-19 15:37:17,282 [INFO]  Epoch[4] Validation-cross-entropy=0.310406\n",
      "2021-05-19 15:37:17,284 [INFO]  Epoch[4] Validation-gender-accuracy=0.908784\n",
      "2021-05-19 15:37:19,198 [INFO]  Epoch[5] Batch [0-330]\tSpeed: 2768.93 samples/sec\tcross-entropy=0.307841\tgender-accuracy=0.905589\n",
      "2021-05-19 15:37:21,075 [INFO]  Epoch[5] Train-cross-entropy=0.314956\n",
      "2021-05-19 15:37:21,076 [INFO]  Epoch[5] Train-gender-accuracy=0.903452\n",
      "2021-05-19 15:37:21,076 [INFO]  Epoch[5] Time cost=3.792\n",
      "2021-05-19 15:37:21,080 [INFO]  Saved checkpoint to \"imputers\\imputers_train\\gender_imputer_model\\model-0005.params\"\n",
      "2021-05-19 15:37:21,348 [INFO]  Epoch[5] Validation-cross-entropy=0.310675\n",
      "2021-05-19 15:37:21,349 [INFO]  Epoch[5] Validation-gender-accuracy=0.908784\n",
      "2021-05-19 15:37:23,256 [INFO]  Epoch[6] Batch [0-330]\tSpeed: 2778.12 samples/sec\tcross-entropy=0.306684\tgender-accuracy=0.905589\n",
      "2021-05-19 15:37:25,118 [INFO]  Epoch[6] Train-cross-entropy=0.313890\n",
      "2021-05-19 15:37:25,119 [INFO]  Epoch[6] Train-gender-accuracy=0.903452\n",
      "2021-05-19 15:37:25,120 [INFO]  Epoch[6] Time cost=3.771\n",
      "2021-05-19 15:37:25,124 [INFO]  Saved checkpoint to \"imputers\\imputers_train\\gender_imputer_model\\model-0006.params\"\n",
      "2021-05-19 15:37:25,386 [INFO]  Epoch[6] Validation-cross-entropy=0.310921\n",
      "2021-05-19 15:37:25,387 [INFO]  Epoch[6] Validation-gender-accuracy=0.908784\n",
      "2021-05-19 15:37:27,286 [INFO]  Epoch[7] Batch [0-330]\tSpeed: 2789.19 samples/sec\tcross-entropy=0.305806\tgender-accuracy=0.905778\n",
      "2021-05-19 15:37:29,154 [INFO]  Epoch[7] Train-cross-entropy=0.313064\n",
      "2021-05-19 15:37:29,155 [INFO]  Epoch[7] Train-gender-accuracy=0.903642\n",
      "2021-05-19 15:37:29,156 [INFO]  Epoch[7] Time cost=3.768\n",
      "2021-05-19 15:37:29,214 [INFO]  Saved checkpoint to \"imputers\\imputers_train\\gender_imputer_model\\model-0007.params\"\n",
      "2021-05-19 15:37:29,475 [INFO]  No improvement detected for 5 epochs compared to 0.31002155057079084 last error obtained: 0.31114136337025744, stopping here\n",
      "2021-05-19 15:37:29,510 [INFO]  \n",
      "========== done (32.97998261451721 s) fit model\n"
     ]
    }
   ],
   "source": [
    "df_not_missing_gender = dataFrame[dataFrame['gender'].isnull() == False]\n",
    "\n",
    "df_train, df_test = datawig.utils.random_split(df_not_missing_gender, split_ratios=[0.8, 0.2])\n",
    "\n",
    "input_columns_for_gender = ['city', 'city_development_index', 'relevent_experience',\n",
    "       'enrolled_university', 'education_level', 'major_discipline',\n",
    "       'experience', 'company_size', 'company_type', 'last_new_job',\n",
    "       'training_hours']\n",
    "\n",
    "\n",
    "gender_imputer_for_evaluation = prediction(df_train, \n",
    "                            input_columns_for_gender, \n",
    "                            'gender', 'imputers\\imputers_train\\gender_imputer_model')"
   ]
  },
  {
   "cell_type": "code",
   "execution_count": 39,
   "metadata": {},
   "outputs": [],
   "source": [
    "imputed_gender_for_evaluation = gender_imputer_for_evaluation.predict(df_test)"
   ]
  },
  {
   "cell_type": "code",
   "execution_count": 40,
   "metadata": {},
   "outputs": [
    {
     "data": {
      "text/plain": [
       "Male      2624\n",
       "Female     270\n",
       "Other       35\n",
       "Name: gender, dtype: int64"
      ]
     },
     "execution_count": 40,
     "metadata": {},
     "output_type": "execute_result"
    }
   ],
   "source": [
    "imputed_gender_for_evaluation[\"gender\"].value_counts()"
   ]
  },
  {
   "cell_type": "code",
   "execution_count": 41,
   "metadata": {},
   "outputs": [
    {
     "data": {
      "text/plain": [
       "Male      2928\n",
       "Female       1\n",
       "Name: gender_imputed, dtype: int64"
      ]
     },
     "execution_count": 41,
     "metadata": {},
     "output_type": "execute_result"
    }
   ],
   "source": [
    "imputed_gender_for_evaluation[\"gender_imputed\"].value_counts()"
   ]
  },
  {
   "cell_type": "markdown",
   "metadata": {},
   "source": [
    "As it can be seen above, the prediction is biased due to the majority of male we have in our dataset. We did the evaluation just to show that this model will be not 100% precise. We won't repeat the evaluation for the other features in this notebook, so we will use as train dataset the whole dataset with no missing values."
   ]
  },
  {
   "cell_type": "code",
   "execution_count": 42,
   "metadata": {},
   "outputs": [],
   "source": [
    "gender_imputer = prediction(df_not_missing_gender, \n",
    "                            input_columns_for_gender, \n",
    "                            'gender', 'imputers\\imputers_train\\gender_imputer_model')"
   ]
  },
  {
   "cell_type": "code",
   "execution_count": 43,
   "metadata": {},
   "outputs": [
    {
     "data": {
      "text/plain": [
       "Male      4434\n",
       "Female       4\n",
       "Name: gender_imputed, dtype: int64"
      ]
     },
     "execution_count": 43,
     "metadata": {},
     "output_type": "execute_result"
    }
   ],
   "source": [
    "imputed_gender = gender_imputer.predict(dataFrame[dataFrame[\"gender\"].isnull()])\n",
    "imputed_gender['gender_imputed'].value_counts()"
   ]
  },
  {
   "cell_type": "markdown",
   "metadata": {},
   "source": [
    "#### Enrolled University"
   ]
  },
  {
   "cell_type": "code",
   "execution_count": 44,
   "metadata": {},
   "outputs": [],
   "source": [
    "df_not_missing_uni = dataFrame[dataFrame[\"enrolled_university\"].isnull() == False]\n",
    "\n",
    "input_columns_for_university = ['city', 'city_development_index', 'gender', 'relevent_experience',\n",
    "       'education_level', 'major_discipline',\n",
    "       'experience', 'company_size', 'company_type', 'last_new_job',\n",
    "       'training_hours']\n",
    "\n",
    "university_imputer = prediction(df_not_missing_uni, \n",
    "                            input_columns_for_university, \n",
    "                            'enrolled_university', 'imputers\\\\imputers_train\\\\university_imputer_model')"
   ]
  },
  {
   "cell_type": "code",
   "execution_count": 45,
   "metadata": {},
   "outputs": [
    {
     "data": {
      "text/plain": [
       "no_enrollment       226\n",
       "Full time course    106\n",
       "Name: enrolled_university_imputed, dtype: int64"
      ]
     },
     "execution_count": 45,
     "metadata": {},
     "output_type": "execute_result"
    }
   ],
   "source": [
    "imputed_university = university_imputer.predict(dataFrame[dataFrame[\"enrolled_university\"].isnull()])\n",
    "imputed_university['enrolled_university_imputed'].value_counts()"
   ]
  },
  {
   "cell_type": "markdown",
   "metadata": {},
   "source": [
    "#### Education Level"
   ]
  },
  {
   "cell_type": "code",
   "execution_count": 46,
   "metadata": {},
   "outputs": [],
   "source": [
    "df_not_missing_edu = dataFrame[dataFrame[\"education_level\"].isnull() == False]\n",
    "\n",
    "input_columns_for_education = ['city', 'city_development_index', 'gender', 'relevent_experience',\n",
    "       'enrolled_university', 'major_discipline',\n",
    "       'experience', 'company_size', 'company_type', 'last_new_job',\n",
    "       'training_hours']\n",
    "\n",
    "education_imputer = prediction(df_not_missing_edu, \n",
    "                            input_columns_for_education, \n",
    "                            'education_level', 'imputers\\imputers_train\\education_imputer_model')"
   ]
  },
  {
   "cell_type": "code",
   "execution_count": 47,
   "metadata": {},
   "outputs": [
    {
     "data": {
      "text/plain": [
       "Graduate          362\n",
       "Masters            29\n",
       "Primary School      1\n",
       "Name: education_level_imputed, dtype: int64"
      ]
     },
     "execution_count": 47,
     "metadata": {},
     "output_type": "execute_result"
    }
   ],
   "source": [
    "imputed_education = education_imputer.predict(dataFrame[dataFrame[\"education_level\"].isnull()])\n",
    "imputed_education['education_level_imputed'].value_counts()"
   ]
  },
  {
   "cell_type": "markdown",
   "metadata": {},
   "source": [
    "#### Major Discipline"
   ]
  },
  {
   "cell_type": "code",
   "execution_count": 48,
   "metadata": {},
   "outputs": [],
   "source": [
    "df_not_missing_discipline = dataFrame[dataFrame[\"major_discipline\"].isnull() == False]\n",
    "\n",
    "input_columns_for_discipline = ['city', 'city_development_index', 'gender', 'relevent_experience',\n",
    "       'enrolled_university', 'education_level',\n",
    "       'experience', 'company_size', 'company_type', 'last_new_job',\n",
    "       'training_hours']\n",
    "\n",
    "discipline_imputer = prediction(df_not_missing_discipline, \n",
    "                            input_columns_for_discipline, \n",
    "                            'major_discipline', 'imputers\\imputers_train\\discipline_imputer_model')"
   ]
  },
  {
   "cell_type": "code",
   "execution_count": 49,
   "metadata": {},
   "outputs": [
    {
     "data": {
      "text/plain": [
       "STEM        321\n",
       "No Major     97\n",
       "Other         1\n",
       "Name: major_discipline_imputed, dtype: int64"
      ]
     },
     "execution_count": 49,
     "metadata": {},
     "output_type": "execute_result"
    }
   ],
   "source": [
    "imputed_discipline = discipline_imputer.predict(dataFrame[dataFrame[\"major_discipline\"].isnull()])\n",
    "imputed_discipline['major_discipline_imputed'].value_counts()"
   ]
  },
  {
   "cell_type": "code",
   "execution_count": 50,
   "metadata": {},
   "outputs": [],
   "source": [
    "imputed_discipline['major_discipline_imputed'] = np.where(imputed_discipline['major_discipline_imputed'] == \"No Major\", \n",
    "                                     'Other', \n",
    "                                     imputed_discipline['major_discipline_imputed'])"
   ]
  },
  {
   "cell_type": "code",
   "execution_count": 51,
   "metadata": {},
   "outputs": [
    {
     "data": {
      "text/plain": [
       "STEM     321\n",
       "Other     98\n",
       "Name: major_discipline_imputed, dtype: int64"
      ]
     },
     "execution_count": 51,
     "metadata": {},
     "output_type": "execute_result"
    }
   ],
   "source": [
    "imputed_discipline['major_discipline_imputed'].value_counts()"
   ]
  },
  {
   "cell_type": "markdown",
   "metadata": {},
   "source": [
    "#### Experience"
   ]
  },
  {
   "cell_type": "code",
   "execution_count": 52,
   "metadata": {},
   "outputs": [],
   "source": [
    "df_not_missing_experience = dataFrame[dataFrame[\"experience\"].isnull() == False]\n",
    "\n",
    "input_columns_for_experience = ['city', 'city_development_index', 'gender', 'relevent_experience',\n",
    "       'enrolled_university', 'education_level',\n",
    "       'major_discipline', 'company_size', 'company_type', 'last_new_job',\n",
    "       'training_hours']\n",
    "\n",
    "experience_imputer = prediction(df_not_missing_experience, \n",
    "                            input_columns_for_experience, \n",
    "                            'experience', 'imputers\\imputers_train\\experience_imputer_model')"
   ]
  },
  {
   "cell_type": "code",
   "execution_count": 53,
   "metadata": {},
   "outputs": [
    {
     "data": {
      "text/plain": [
       ">20    18\n",
       "4      15\n",
       "3       8\n",
       "5       5\n",
       "2       3\n",
       "<1      1\n",
       "1       1\n",
       "6       1\n",
       "7       1\n",
       "Name: experience_imputed, dtype: int64"
      ]
     },
     "execution_count": 53,
     "metadata": {},
     "output_type": "execute_result"
    }
   ],
   "source": [
    "imputed_experience = experience_imputer.predict(dataFrame[dataFrame['experience'].isnull()])\n",
    "imputed_experience['experience_imputed'].value_counts()"
   ]
  },
  {
   "cell_type": "markdown",
   "metadata": {},
   "source": [
    "#### Company Size"
   ]
  },
  {
   "cell_type": "code",
   "execution_count": 54,
   "metadata": {},
   "outputs": [],
   "source": [
    "df_not_missing_size = dataFrame[dataFrame[\"company_size\"].isnull() == False]\n",
    "\n",
    "input_columns_for_size = ['city', 'city_development_index', 'gender', 'relevent_experience',\n",
    "       'enrolled_university', 'education_level',\n",
    "       'major_discipline', 'experience', 'company_type', 'last_new_job',\n",
    "       'training_hours']\n",
    "\n",
    "size_imputer = prediction(df_not_missing_size, \n",
    "                            input_columns_for_size, \n",
    "                            'company_size', 'imputers\\imputers_train\\size_imputer_model')"
   ]
  },
  {
   "cell_type": "code",
   "execution_count": 55,
   "metadata": {},
   "outputs": [
    {
     "data": {
      "text/plain": [
       "50-99        2622\n",
       "100-500      1563\n",
       "10000+        945\n",
       "<10           522\n",
       "10/49         140\n",
       "1000-4999      68\n",
       "500-999         2\n",
       "5000-9999       2\n",
       "Name: company_size_imputed, dtype: int64"
      ]
     },
     "execution_count": 55,
     "metadata": {},
     "output_type": "execute_result"
    }
   ],
   "source": [
    "imputed_size = size_imputer.predict(dataFrame[dataFrame['company_size'].isnull()])\n",
    "imputed_size['company_size_imputed'].value_counts()"
   ]
  },
  {
   "cell_type": "markdown",
   "metadata": {},
   "source": [
    "#### Company Type"
   ]
  },
  {
   "cell_type": "code",
   "execution_count": 56,
   "metadata": {},
   "outputs": [],
   "source": [
    "df_not_missing_type = dataFrame[dataFrame[\"company_type\"].isnull() == False]\n",
    "\n",
    "input_columns_for_type = ['city', 'city_development_index', 'gender', 'relevent_experience',\n",
    "       'enrolled_university', 'education_level',\n",
    "       'major_discipline', 'experience', 'company_size', 'last_new_job',\n",
    "       'training_hours']\n",
    "\n",
    "type_imputer = prediction(df_not_missing_type, \n",
    "                            input_columns_for_type, \n",
    "                            'company_type', 'imputers\\\\imputers_train\\\\type_imputer_model')"
   ]
  },
  {
   "cell_type": "code",
   "execution_count": 57,
   "metadata": {},
   "outputs": [
    {
     "data": {
      "text/plain": [
       "Pvt Ltd                5722\n",
       "Public Sector           322\n",
       "Early Stage Startup      15\n",
       "NGO                       6\n",
       "Funded Startup            1\n",
       "Name: company_type_imputed, dtype: int64"
      ]
     },
     "execution_count": 57,
     "metadata": {},
     "output_type": "execute_result"
    }
   ],
   "source": [
    "imputed_type = type_imputer.predict(dataFrame[dataFrame['company_type'].isnull()])\n",
    "imputed_type['company_type_imputed'].value_counts()"
   ]
  },
  {
   "cell_type": "markdown",
   "metadata": {},
   "source": [
    "#### Last New Job"
   ]
  },
  {
   "cell_type": "code",
   "execution_count": 58,
   "metadata": {},
   "outputs": [],
   "source": [
    "df_not_missing_lnj = dataFrame[dataFrame[\"last_new_job\"].isnull() == False]\n",
    "\n",
    "input_columns_for_lnj = ['city', 'city_development_index', 'gender', 'relevent_experience',\n",
    "       'enrolled_university', 'education_level',\n",
    "       'major_discipline', 'experience', 'company_size', 'company_type',\n",
    "       'training_hours']\n",
    "\n",
    "lnj_imputer = prediction(df_not_missing_lnj, \n",
    "                            input_columns_for_lnj, \n",
    "                            'last_new_job', 'imputers\\imputers_train\\lnj_imputer_model')"
   ]
  },
  {
   "cell_type": "code",
   "execution_count": 59,
   "metadata": {},
   "outputs": [
    {
     "data": {
      "text/plain": [
       "1        255\n",
       "never     49\n",
       ">4        31\n",
       "Name: last_new_job_imputed, dtype: int64"
      ]
     },
     "execution_count": 59,
     "metadata": {},
     "output_type": "execute_result"
    }
   ],
   "source": [
    "imputed_lnj = lnj_imputer.predict(dataFrame[dataFrame['last_new_job'].isnull()])\n",
    "imputed_lnj['last_new_job_imputed'].value_counts()"
   ]
  },
  {
   "cell_type": "markdown",
   "metadata": {},
   "source": [
    "## Re-building "
   ]
  },
  {
   "cell_type": "code",
   "execution_count": 60,
   "metadata": {},
   "outputs": [],
   "source": [
    "def replaceMissingValues(original_df, imputed_df, feature_to_be_replaced, imputed_feature):\n",
    "    \n",
    "    '''\n",
    "    It takes as input a dataset with missing values and the dataset obtained by\n",
    "    imputation, the name of the feature to be filled (as string) and the name of the \n",
    "    imputed feature (as string) and gives as output the dataframe in which the missing \n",
    "    values of the feature in input are replaced with the imputed ones\n",
    "    \n",
    "    '''\n",
    "    #merge original dataset with the imputed one\n",
    "    original_df = original_df.merge(imputed_df[['enrollee_id', imputed_feature]],\n",
    "                                    on='enrollee_id',how=\"left\")\n",
    "    \n",
    "    #fill na values with imputed ones\n",
    "    original_df[feature_to_be_replaced] = original_df[feature_to_be_replaced].fillna(original_df[imputed_feature])\n",
    "    \n",
    "    #drop the imputed feature\n",
    "    original_df.drop(imputed_feature,inplace=True,axis=1)\n",
    "    \n",
    "    return original_df\n",
    "    "
   ]
  },
  {
   "cell_type": "code",
   "execution_count": 61,
   "metadata": {},
   "outputs": [],
   "source": [
    "new_df = dataFrame"
   ]
  },
  {
   "cell_type": "code",
   "execution_count": 62,
   "metadata": {},
   "outputs": [],
   "source": [
    "new_df = replaceMissingValues(new_df, imputed_gender, 'gender', 'gender_imputed')\n",
    "new_df = replaceMissingValues(new_df, imputed_university, 'enrolled_university', 'enrolled_university_imputed')\n",
    "new_df = replaceMissingValues(new_df, imputed_education, 'education_level', 'education_level_imputed')\n",
    "new_df = replaceMissingValues(new_df, imputed_discipline, 'major_discipline', 'major_discipline_imputed')\n",
    "new_df = replaceMissingValues(new_df, imputed_experience, 'experience', 'experience_imputed')\n",
    "new_df = replaceMissingValues(new_df, imputed_size, 'company_size', 'company_size_imputed')\n",
    "new_df = replaceMissingValues(new_df, imputed_type, 'company_type', 'company_type_imputed')\n",
    "new_df = replaceMissingValues(new_df, imputed_lnj, 'last_new_job', 'last_new_job_imputed')"
   ]
  },
  {
   "cell_type": "code",
   "execution_count": 70,
   "metadata": {},
   "outputs": [
    {
     "data": {
      "text/html": [
       "<div>\n",
       "<style scoped>\n",
       "    .dataframe tbody tr th:only-of-type {\n",
       "        vertical-align: middle;\n",
       "    }\n",
       "\n",
       "    .dataframe tbody tr th {\n",
       "        vertical-align: top;\n",
       "    }\n",
       "\n",
       "    .dataframe thead th {\n",
       "        text-align: right;\n",
       "    }\n",
       "</style>\n",
       "<table border=\"1\" class=\"dataframe\">\n",
       "  <thead>\n",
       "    <tr style=\"text-align: right;\">\n",
       "      <th></th>\n",
       "      <th>Number of missing values</th>\n",
       "      <th>Percentage of missing values</th>\n",
       "    </tr>\n",
       "  </thead>\n",
       "  <tbody>\n",
       "    <tr>\n",
       "      <th>enrollee_id</th>\n",
       "      <td>0</td>\n",
       "      <td>0.0</td>\n",
       "    </tr>\n",
       "    <tr>\n",
       "      <th>city</th>\n",
       "      <td>0</td>\n",
       "      <td>0.0</td>\n",
       "    </tr>\n",
       "    <tr>\n",
       "      <th>city_development_index</th>\n",
       "      <td>0</td>\n",
       "      <td>0.0</td>\n",
       "    </tr>\n",
       "    <tr>\n",
       "      <th>gender</th>\n",
       "      <td>0</td>\n",
       "      <td>0.0</td>\n",
       "    </tr>\n",
       "    <tr>\n",
       "      <th>relevent_experience</th>\n",
       "      <td>0</td>\n",
       "      <td>0.0</td>\n",
       "    </tr>\n",
       "    <tr>\n",
       "      <th>enrolled_university</th>\n",
       "      <td>0</td>\n",
       "      <td>0.0</td>\n",
       "    </tr>\n",
       "    <tr>\n",
       "      <th>education_level</th>\n",
       "      <td>0</td>\n",
       "      <td>0.0</td>\n",
       "    </tr>\n",
       "    <tr>\n",
       "      <th>major_discipline</th>\n",
       "      <td>0</td>\n",
       "      <td>0.0</td>\n",
       "    </tr>\n",
       "    <tr>\n",
       "      <th>experience</th>\n",
       "      <td>0</td>\n",
       "      <td>0.0</td>\n",
       "    </tr>\n",
       "    <tr>\n",
       "      <th>company_size</th>\n",
       "      <td>0</td>\n",
       "      <td>0.0</td>\n",
       "    </tr>\n",
       "    <tr>\n",
       "      <th>company_type</th>\n",
       "      <td>0</td>\n",
       "      <td>0.0</td>\n",
       "    </tr>\n",
       "    <tr>\n",
       "      <th>last_new_job</th>\n",
       "      <td>0</td>\n",
       "      <td>0.0</td>\n",
       "    </tr>\n",
       "    <tr>\n",
       "      <th>training_hours</th>\n",
       "      <td>0</td>\n",
       "      <td>0.0</td>\n",
       "    </tr>\n",
       "    <tr>\n",
       "      <th>target</th>\n",
       "      <td>0</td>\n",
       "      <td>0.0</td>\n",
       "    </tr>\n",
       "  </tbody>\n",
       "</table>\n",
       "</div>"
      ],
      "text/plain": [
       "                        Number of missing values  Percentage of missing values\n",
       "enrollee_id                                    0                           0.0\n",
       "city                                           0                           0.0\n",
       "city_development_index                         0                           0.0\n",
       "gender                                         0                           0.0\n",
       "relevent_experience                            0                           0.0\n",
       "enrolled_university                            0                           0.0\n",
       "education_level                                0                           0.0\n",
       "major_discipline                               0                           0.0\n",
       "experience                                     0                           0.0\n",
       "company_size                                   0                           0.0\n",
       "company_type                                   0                           0.0\n",
       "last_new_job                                   0                           0.0\n",
       "training_hours                                 0                           0.0\n",
       "target                                         0                           0.0"
      ]
     },
     "execution_count": 70,
     "metadata": {},
     "output_type": "execute_result"
    }
   ],
   "source": [
    "missing_data = pd.DataFrame(new_df.isna().sum(), columns=[\n",
    "                            'Number of missing values'])\n",
    "missing_data['Percentage of missing values'] = missing_data['Number of missing values'].aggregate(\n",
    "    lambda x: (x/dataFrame.shape[0])*100)\n",
    "missing_data"
   ]
  },
  {
   "cell_type": "markdown",
   "metadata": {},
   "source": [
    "The cleaned dataset will be saved as a csv file named *cleaned_train.csv*."
   ]
  },
  {
   "cell_type": "code",
   "execution_count": 72,
   "metadata": {},
   "outputs": [],
   "source": [
    "new_df.to_csv(r'data\\cleaned_train.csv', index = False)"
   ]
  }
 ],
 "metadata": {
  "kernelspec": {
   "display_name": "Python 3",
   "language": "python",
   "name": "python3"
  },
  "language_info": {
   "codemirror_mode": {
    "name": "ipython",
    "version": 3
   },
   "file_extension": ".py",
   "mimetype": "text/x-python",
   "name": "python",
   "nbconvert_exporter": "python",
   "pygments_lexer": "ipython3",
   "version": "3.8.5"
  },
  "toc": {
   "base_numbering": 1,
   "nav_menu": {},
   "number_sections": true,
   "sideBar": true,
   "skip_h1_title": true,
   "title_cell": "Table of Contents",
   "title_sidebar": "Contents",
   "toc_cell": true,
   "toc_position": {},
   "toc_section_display": true,
   "toc_window_display": false
  }
 },
 "nbformat": 4,
 "nbformat_minor": 4
}
